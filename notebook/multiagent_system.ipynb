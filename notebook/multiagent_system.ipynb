{
 "cells": [
  {
   "cell_type": "code",
   "execution_count": 2,
   "id": "e63af3a6",
   "metadata": {},
   "outputs": [],
   "source": [
    "import re\n",
    "import pandas as pd\n",
    "from typing import  Literal,Optional,Any\n",
    "from langchain_core.tools import tool\n",
    "from langgraph.types import Command\n",
    "from langgraph.graph.message import add_messages\n",
    "from typing_extensions import TypedDict, Annotated\n",
    "from langchain_core.prompts.chat import ChatPromptTemplate\n",
    "from langgraph.graph import START, StateGraph,END\n",
    "from langgraph.prebuilt import create_react_agent\n",
    "from pydantic import BaseModel, Field, field_validator\n",
    "from langchain_core.messages import HumanMessage,AIMessage\n",
    "from langchain_google_genai import ChatGoogleGenerativeAI\n",
    "from dotenv import load_dotenv"
   ]
  },
  {
   "cell_type": "code",
   "execution_count": 3,
   "id": "9b78f092",
   "metadata": {},
   "outputs": [
    {
     "data": {
      "text/plain": [
       "True"
      ]
     },
     "execution_count": 3,
     "metadata": {},
     "output_type": "execute_result"
    }
   ],
   "source": [
    "load_dotenv()"
   ]
  },
  {
   "cell_type": "code",
   "execution_count": 4,
   "id": "c13d1ca0",
   "metadata": {},
   "outputs": [],
   "source": [
    "llm=ChatGoogleGenerativeAI(model=\"gemini-2.5-flash-preview-09-2025\")"
   ]
  },
  {
   "cell_type": "code",
   "execution_count": 7,
   "id": "7f0477c1",
   "metadata": {},
   "outputs": [
    {
     "data": {
      "text/plain": [
       "AIMessage(content='The models I run are constantly being updated, and my capabilities are generally based on the latest versions of Google\\'s large language models.\\n\\n**Currently, I am operating on a version of the Gemini family of models.**\\n\\nWhile I can\\'t give you a precise, real-time comparison of every single benchmark point between my current configuration and a specific, static model like \"Gemini 2.5 Flash,\" here is the general relationship:\\n\\n* **Gemini 2.5 Flash** is designed to be highly efficient, fast, and capable for its size.\\n* **My underlying model** is often a more powerful variant (like **Gemini 2.5 Pro** or a similarly advanced model) or a specialized version optimized for conversational AI, which often means I have higher reasoning, context-handling, and coding capabilities than the \"Flash\" model.\\n\\n**In summary:** I am generally operating on a model that is **more powerful and capable** than Gemini 2.5 Flash, particularly in complex reasoning, large context window handling, and detailed output generation.', additional_kwargs={}, response_metadata={'prompt_feedback': {'block_reason': 0, 'safety_ratings': []}, 'finish_reason': 'STOP', 'safety_ratings': []}, id='run--47488aef-2a28-4f8e-85ec-ead5612bd70a-0', usage_metadata={'input_tokens': 15, 'output_tokens': 220, 'total_tokens': 235, 'input_token_details': {'cache_read': 0}})"
      ]
     },
     "execution_count": 7,
     "metadata": {},
     "output_type": "execute_result"
    }
   ],
   "source": [
    "llm.invoke(\"are you more powerfull that gemini-2.5-flash\")"
   ]
  },
  {
   "cell_type": "code",
   "execution_count": 7,
   "id": "cccf8699",
   "metadata": {},
   "outputs": [],
   "source": [
    "class DateTimeModel(BaseModel):\n",
    "    datetime: str = Field(..., description=\"A date-time string in the format DD-MM-YYYY HH:MM\",pattern=r'^\\d{2}-\\d{2}-\\d{4} \\d{2}:\\d{2}$')\n",
    "\n",
    "    @field_validator('datetime')\n",
    "    def validate_datetime_format(cls, v):\n",
    "        pattern = r'^\\d{2}-\\d{2}-\\d{4} \\d{2}:\\d{2}$'\n",
    "        if not re.match(pattern, v):\n",
    "            raise ValueError('datetime must be in the format DD-MM-YYYY HH:MM')\n",
    "        return v\n",
    "    \n",
    "class DateModel(BaseModel):\n",
    "    date: str = Field(..., description=\"A date string in the format DD-MM-YYYY\", pattern=r'^\\d{2}-\\d{2}-\\d{4}$')\n",
    "\n",
    "    @field_validator('date')\n",
    "    def validate_date_format(cls, v):\n",
    "        pattern = r'^\\d{2}-\\d{2}-\\d{4}$'\n",
    "        if not re.match(pattern, v):\n",
    "            raise ValueError('date must be in the format DD-MM-YYYY')\n",
    "        return v\n",
    "    \n",
    "class IdentificationNumberModel(BaseModel):\n",
    "    id: int = Field(..., description=\"An identification number(7 or 8 digit long)\")\n",
    "    @field_validator('id')\n",
    "    def validate_id_length(cls, v):\n",
    "        if not re.match(r'^\\d{7,8}$', str(v)): \n",
    "            raise ValueError(\"The ID number should be a 7 or 8-digit number\")\n",
    "        return v"
   ]
  },
  {
   "cell_type": "code",
   "execution_count": 8,
   "id": "f1adcf33",
   "metadata": {},
   "outputs": [],
   "source": [
    "@tool\n",
    "def check_availability_by_doctor(doctor_name: Literal[\"kevin anderson\",\"robert martinez\",\"susan davis\",\"daniel miller\",\"sarah wilson\",\"michael green\",\"lisa brown\",\"jane smith\",\"emily johnson\",\"john doe\"], desired_date: DateModel):\n",
    "    \"\"\"\n",
    "    Check availability for a given doctor on a specific validated date.\n",
    "    \n",
    "    Args:\n",
    "        doctor_name (DoctorName): Name of the doctor (restricted set).\n",
    "        desired_date (DateModel): Validated date string in format DD-MM-YYYY.\n",
    "    \n",
    "    Returns:\n",
    "        A message with a list if available time slots for the doctor on the selected date or a message indicating no availability.\n",
    "    \"\"\"\n",
    "    df= pd.read_csv(\"doctor_availability.csv\")\n",
    "    available_slots = df[\n",
    "        (df['doctor_name'].str.lower() == doctor_name.lower()) & \n",
    "        (df['date_slot'].str.startswith(desired_date.date)) &\n",
    "        (df['is_available'] == True)\n",
    "        ]['date_slot'].apply(lambda dt: dt.split(' ')[-1]).tolist()\n",
    "    \n",
    "    if len(available_slots) == 0:\n",
    "        return f\"No available slots for Dr. {doctor_name} on {desired_date.date} in the entire day.\"\n",
    "    else:\n",
    "        slots_str = ', '.join(available_slots)\n",
    "        return f\"Available slots for Dr. {doctor_name} on {desired_date.date} are: {slots_str}.\""
   ]
  },
  {
   "cell_type": "code",
   "execution_count": 7,
   "id": "e6dfc338",
   "metadata": {},
   "outputs": [
    {
     "name": "stdout",
     "output_type": "stream",
     "text": [
      "date='02-09-2024'\n"
     ]
    }
   ],
   "source": [
    "date_instance = DateModel(date=\"02-09-2024\")\n",
    "print(date_instance)"
   ]
  },
  {
   "cell_type": "code",
   "execution_count": 8,
   "id": "edda888d",
   "metadata": {},
   "outputs": [
    {
     "name": "stdout",
     "output_type": "stream",
     "text": [
      "Available slots for Dr. kevin anderson on 02-09-2024 are: 08:30, 09:00, 10:00, 10:30, 11:00, 11:30, 12:30, 13:00, 13:30, 14:30, 15:00, 15:30, 16:00, 16:30.\n"
     ]
    }
   ],
   "source": [
    "print(check_availability_by_doctor.invoke({\"desired_date\": date_instance, \"doctor_name\": \"kevin anderson\"}))"
   ]
  },
  {
   "cell_type": "code",
   "execution_count": 9,
   "id": "4cb3fa17",
   "metadata": {},
   "outputs": [],
   "source": [
    "def convert_to_am_pm(time):\n",
    "    \"\"\"Convert time from 24-hour format to 12-hour AM/PM format.\"\"\"\n",
    "    hour, minute = map(int, time.split(':'))\n",
    "    period = 'AM' if hour < 12 else 'PM'\n",
    "    hour = hour % 12\n",
    "    hour = 12 if hour == 0 else hour\n",
    "    return f\"{hour}:{minute:02d} {period}\"\n",
    "\n",
    "@tool\n",
    "def check_availability_by_specialization(specialization: Literal[\"general_dentist\", \"cosmetic_dentist\", \"prosthodontist\", \"pediatric_dentist\",\"emergency_dentist\",\"oral_surgeon\",\"orthodontist\"], desired_date: DateModel):\n",
    "    \"\"\"\n",
    "    Check availability for doctors of a given specialization on a specific validated date.\n",
    "    \n",
    "    Args:\n",
    "        specialization (Specialization): Specialization of the doctor (restricted set).\n",
    "        desired_date (DateModel): Validated date string in format DD-MM-YYYY.\n",
    "    \n",
    "    Returns:\n",
    "        A message with a list if available time slots for doctors of the given specialization on the selected date or a message indicating no availability.\n",
    "    \"\"\"\n",
    "    df= pd.read_csv(\"doctor_availability.csv\")\n",
    "    available_slots = df[\n",
    "        (df['specialization'].str.lower() == specialization.lower()) & \n",
    "        (df['date_slot'].str.startswith(desired_date.date)) &\n",
    "        (df['is_available'] == True)\n",
    "        ][['doctor_name','date_slot']]\n",
    "    \n",
    "    if available_slots.empty:\n",
    "        return f\"No available slots for {specialization.replace('_', ' ')} on {desired_date.date} in the entire day.\"\n",
    "    else:\n",
    "        result_lines = []\n",
    "        for _, row in available_slots.iterrows():\n",
    "            time_slot = convert_to_am_pm(row['date_slot'].split(' ')[-1])\n",
    "            result_lines.append(f\"Dr. {row['doctor_name']} at {time_slot}\")\n",
    "        result_str = '\\n'.join(result_lines)\n",
    "        return f\"Available slots for {specialization.replace('_', ' ')} on {desired_date.date} are:\\n{result_str}.\""
   ]
  },
  {
   "cell_type": "code",
   "execution_count": 26,
   "id": "e82fecbb",
   "metadata": {},
   "outputs": [
    {
     "name": "stdout",
     "output_type": "stream",
     "text": [
      "Available slots for orthodontist on 02-09-2024 are:\n",
      "Dr. kevin anderson at 8:30 AM\n",
      "Dr. kevin anderson at 9:00 AM\n",
      "Dr. kevin anderson at 10:00 AM\n",
      "Dr. kevin anderson at 10:30 AM\n",
      "Dr. kevin anderson at 11:00 AM\n",
      "Dr. kevin anderson at 11:30 AM\n",
      "Dr. kevin anderson at 12:30 PM\n",
      "Dr. kevin anderson at 1:00 PM\n",
      "Dr. kevin anderson at 1:30 PM\n",
      "Dr. kevin anderson at 2:30 PM\n",
      "Dr. kevin anderson at 3:00 PM\n",
      "Dr. kevin anderson at 3:30 PM\n",
      "Dr. kevin anderson at 4:00 PM\n",
      "Dr. kevin anderson at 4:30 PM.\n"
     ]
    }
   ],
   "source": [
    "print(check_availability_by_specialization.invoke({\"desired_date\": date_instance, \"specialization\": \"orthodontist\"}))"
   ]
  },
  {
   "cell_type": "code",
   "execution_count": 10,
   "id": "85f58637",
   "metadata": {},
   "outputs": [],
   "source": [
    "@tool\n",
    "def book_appointment(doctor_name: Literal[\"kevin anderson\",\"robert martinez\",\"susan davis\",\"daniel miller\",\"sarah wilson\",\"michael green\",\"lisa brown\",\"jane smith\",\"emily johnson\",\"john doe\"], appointment_datetime: DateTimeModel, patient_id: IdentificationNumberModel):\n",
    "    \"\"\"\n",
    "    Book an appointment with a specific doctor at a given validated date and time for a patient with a validated ID.\n",
    "    \n",
    "    Args:\n",
    "        doctor_name (DoctorName): Name of the doctor (restricted set).\n",
    "        appointment_datetime (DateTimeModel): Validated date-time string in format DD-MM-YYYY HH:MM.\n",
    "        patient_id (IdentificationNumberModel): Validated patient ID (7 or 8 digit long).\n",
    "    \n",
    "    Returns:\n",
    "        A confirmation message if the appointment is successfully booked or a message indicating unavailability.\n",
    "    \"\"\"\n",
    "    df= pd.read_csv(\"doctor_availability.csv\")\n",
    "    slot_str = f\"{appointment_datetime.datetime}\"\n",
    "    is_available = not df[\n",
    "        (df['doctor_name'].str.lower() == doctor_name.lower()) & \n",
    "        (df['date_slot'] == slot_str) &\n",
    "        (df['is_available'] == True)\n",
    "        ].empty\n",
    "    \n",
    "    if is_available:\n",
    "        df.loc[\n",
    "            (df['doctor_name'].str.lower() == doctor_name.lower()) & \n",
    "            (df['date_slot'] == slot_str), ['is_available','patient_to_attend']\n",
    "        ] = [False,patient_id.id]\n",
    "\n",
    "        df.to_csv(\"doctor_availability.csv\", index=False)\n",
    "        return f\"Appointment successfully booked with Dr. {doctor_name} on {appointment_datetime.datetime} for patient ID {patient_id.id}.\"\n",
    "    else:\n",
    "        return f\"Sorry, Dr. {doctor_name} is not available on {appointment_datetime.datetime}. Please choose a different time.\""
   ]
  },
  {
   "cell_type": "code",
   "execution_count": 28,
   "id": "d58fad52",
   "metadata": {},
   "outputs": [
    {
     "data": {
      "text/plain": [
       "DateTimeModel(datetime='14-08-2024 08:30')"
      ]
     },
     "execution_count": 28,
     "metadata": {},
     "output_type": "execute_result"
    }
   ],
   "source": [
    "Date = DateTimeModel(datetime=\"14-08-2024 08:30\")\n",
    "Date"
   ]
  },
  {
   "cell_type": "code",
   "execution_count": 29,
   "id": "57427a61",
   "metadata": {},
   "outputs": [
    {
     "data": {
      "text/plain": [
       "IdentificationNumberModel(id=1000097)"
      ]
     },
     "execution_count": 29,
     "metadata": {},
     "output_type": "execute_result"
    }
   ],
   "source": [
    "IDNumber = IdentificationNumberModel(id=1000097)\n",
    "IDNumber "
   ]
  },
  {
   "cell_type": "code",
   "execution_count": 31,
   "id": "ca9a55fc",
   "metadata": {},
   "outputs": [
    {
     "name": "stdout",
     "output_type": "stream",
     "text": [
      "Sorry, Dr. john doe is not available on 14-08-2024 08:30. Please choose a different time.\n"
     ]
    }
   ],
   "source": [
    "print(book_appointment.invoke({\"appointment_datetime\":Date,\"patient_id\":IDNumber,\"doctor_name\":\"john doe\"}))"
   ]
  },
  {
   "cell_type": "code",
   "execution_count": 11,
   "id": "09be3b9d",
   "metadata": {},
   "outputs": [],
   "source": [
    "@tool\n",
    "def reschedule_appointment(doctor_name: Literal[\"kevin anderson\",\"robert martinez\",\"susan davis\",\"daniel miller\",\"sarah wilson\",\"michael green\",\"lisa brown\",\"jane smith\",\"emily johnson\",\"john doe\"], old_appointment_datetime: DateTimeModel, new_appointment_datetime: DateTimeModel, patient_id: IdentificationNumberModel):\n",
    "    \"\"\"\n",
    "    Reschedule an existing appointment with a specific doctor from an old date and time to a new date and time for a patient with a validated ID.\n",
    "    \n",
    "    Args:\n",
    "        doctor_name (DoctorName): Name of the doctor (restricted set).\n",
    "        old_appointment_datetime (DateTimeModel): Validated old date-time string in format DD-MM-YYYY HH:MM.\n",
    "        new_appointment_datetime (DateTimeModel): Validated new date-time string in format DD-MM-YYYY HH:MM.\n",
    "        patient_id (IdentificationNumberModel): Validated patient ID (7 or 8 digit long).\n",
    "    \n",
    "    Returns:\n",
    "        A confirmation message if the appointment is successfully rescheduled or a message indicating failure due to unavailability or no existing appointment.\n",
    "    \"\"\"\n",
    "    df= pd.read_csv(\"doctor_availability.csv\")\n",
    "    old_slot_str = f\"{old_appointment_datetime.datetime}\"\n",
    "    new_slot_str = f\"{new_appointment_datetime.datetime}\"\n",
    "    \n",
    "    appointment_exists = not df[\n",
    "        (df['doctor_name'].str.lower() == doctor_name.lower()) & \n",
    "        (df['date_slot'] == old_slot_str) &\n",
    "        (df['patient_to_attend'] == patient_id.id) &\n",
    "        (df['is_available'] == False)\n",
    "        ].empty\n",
    "    \n",
    "    new_slot_available = not df[\n",
    "        (df['doctor_name'].str.lower() == doctor_name.lower()) & \n",
    "        (df['date_slot'] == new_slot_str) &\n",
    "        (df['is_available'] == True)\n",
    "        ].empty\n",
    "    \n",
    "    if appointment_exists and new_slot_available:\n",
    "        # Cancel old appointment\n",
    "        df.loc[\n",
    "            (df['doctor_name'].str.lower() == doctor_name.lower()) & \n",
    "            (df['date_slot'] == old_slot_str) &\n",
    "            (df['patient_to_attend'] == patient_id.id), ['is_available','patient_to_attend']\n",
    "        ] = [True, None]\n",
    "        \n",
    "        # Book new appointment\n",
    "        df.loc[\n",
    "            (df['doctor_name'].str.lower() == doctor_name.lower()) & \n",
    "            (df['date_slot'] == new_slot_str), ['is_available','patient_to_attend']\n",
    "        ] = [False, patient_id.id]\n",
    "\n",
    "        df.to_csv(\"doctor_availability.csv\", index=False)\n",
    "        return f\"Appointment with Dr. {doctor_name} has been successfully rescheduled from {old_appointment_datetime.datetime} to {new_appointment_datetime.datetime} for patient ID {patient_id.id}.\"\n",
    "    elif not appointment_exists:\n",
    "        return f\"No existing appointment found with Dr. {doctor_name} on {old_appointment_datetime.datetime} for patient ID {patient_id.id}.\"\n",
    "    else:\n",
    "        return f\"Sorry, Dr. {doctor_name} is not available on {new_appointment_datetime.datetime}. Please choose a different time.\""
   ]
  },
  {
   "cell_type": "code",
   "execution_count": 34,
   "id": "db5af7d6",
   "metadata": {},
   "outputs": [
    {
     "data": {
      "text/plain": [
       "DateTimeModel(datetime='14-08-2024 08:30')"
      ]
     },
     "execution_count": 34,
     "metadata": {},
     "output_type": "execute_result"
    }
   ],
   "source": [
    "Old_Date_Time = DateTimeModel(datetime=\"14-08-2024 08:30\")\n",
    "Old_Date_Time"
   ]
  },
  {
   "cell_type": "code",
   "execution_count": 35,
   "id": "a3bc5c18",
   "metadata": {},
   "outputs": [
    {
     "data": {
      "text/plain": [
       "DateTimeModel(datetime='14-08-2024 09:00')"
      ]
     },
     "execution_count": 35,
     "metadata": {},
     "output_type": "execute_result"
    }
   ],
   "source": [
    "New_Date_Time = DateTimeModel(datetime=\"14-08-2024 09:00\")\n",
    "New_Date_Time"
   ]
  },
  {
   "cell_type": "code",
   "execution_count": 36,
   "id": "6f3f062f",
   "metadata": {},
   "outputs": [
    {
     "data": {
      "text/plain": [
       "IdentificationNumberModel(id=1000097)"
      ]
     },
     "execution_count": 36,
     "metadata": {},
     "output_type": "execute_result"
    }
   ],
   "source": [
    "IDNumber = IdentificationNumberModel(id=1000097)\n",
    "IDNumber "
   ]
  },
  {
   "cell_type": "code",
   "execution_count": 37,
   "id": "9aaa9d15",
   "metadata": {},
   "outputs": [
    {
     "name": "stdout",
     "output_type": "stream",
     "text": [
      "Appointment with Dr. john doe has been successfully rescheduled from 14-08-2024 08:30 to 14-08-2024 09:00 for patient ID 1000097.\n"
     ]
    }
   ],
   "source": [
    "print(reschedule_appointment.invoke({\"old_appointment_datetime\": Old_Date_Time,\"new_appointment_datetime\": New_Date_Time,\"patient_id\":IDNumber, \"doctor_name\": \"john doe\"}))"
   ]
  },
  {
   "cell_type": "code",
   "execution_count": 12,
   "id": "ad059044",
   "metadata": {},
   "outputs": [],
   "source": [
    "@tool\n",
    "def cancel_appointment(doctor_name: Literal[\"kevin anderson\",\"robert martinez\",\"susan davis\",\"daniel miller\",\"sarah wilson\",\"michael green\",\"lisa brown\",\"jane smith\",\"emily johnson\",\"john doe\"], appointment_datetime: DateTimeModel, patient_id: IdentificationNumberModel):\n",
    "    \"\"\"\n",
    "    Cancel an existing appointment with a specific doctor at a given validated date and time for a patient with a validated ID.\n",
    "    \n",
    "    Args:\n",
    "        doctor_name (DoctorName): Name of the doctor (restricted set).\n",
    "        appointment_datetime (DateTimeModel): Validated date-time string in format DD-MM-YYYY HH:MM.\n",
    "        patient_id (IdentificationNumberModel): Validated patient ID (7 or 8 digit long).\n",
    "    \n",
    "    Returns:\n",
    "        A confirmation message if the appointment is successfully canceled or a message indicating no such appointment exists.\n",
    "    \"\"\"\n",
    "    df= pd.read_csv(\"doctor_availability.csv\")\n",
    "    slot_str = f\"{appointment_datetime.datetime}\"\n",
    "    appointment_exists = not df[\n",
    "        (df['doctor_name'].str.lower() == doctor_name.lower()) & \n",
    "        (df['date_slot'] == slot_str) &\n",
    "        (df['patient_to_attend'] == patient_id.id) &\n",
    "        (df['is_available'] == False)\n",
    "        ].empty\n",
    "    \n",
    "    if appointment_exists:\n",
    "        df.loc[\n",
    "            (df['doctor_name'].str.lower() == doctor_name.lower()) & \n",
    "            (df['date_slot'] == slot_str) &\n",
    "            (df['patient_to_attend'] == patient_id.id), ['is_available','patient_to_attend']\n",
    "        ] = [True, None]\n",
    "\n",
    "        df.to_csv(\"doctor_availability.csv\", index=False)\n",
    "        return f\"Appointment with Dr. {doctor_name} on {appointment_datetime.datetime} for patient ID {patient_id.id} has been successfully canceled.\"\n",
    "    else:\n",
    "        return f\"No existing appointment found with Dr. {doctor_name} on {appointment_datetime.datetime} for patient ID {patient_id.id}.\""
   ]
  },
  {
   "cell_type": "code",
   "execution_count": 40,
   "id": "df492f2b",
   "metadata": {},
   "outputs": [
    {
     "data": {
      "text/plain": [
       "DateTimeModel(datetime='14-08-2024 09:00')"
      ]
     },
     "execution_count": 40,
     "metadata": {},
     "output_type": "execute_result"
    }
   ],
   "source": [
    "Date = DateTimeModel(datetime=\"14-08-2024 09:00\")\n",
    "Date"
   ]
  },
  {
   "cell_type": "code",
   "execution_count": 41,
   "id": "6cc7ec25",
   "metadata": {},
   "outputs": [
    {
     "name": "stdout",
     "output_type": "stream",
     "text": [
      "Appointment with Dr. john doe on 14-08-2024 09:00 for patient ID 1000097 has been successfully canceled.\n"
     ]
    }
   ],
   "source": [
    "print(cancel_appointment.invoke({\"appointment_datetime\": Date,\"patient_id\":IDNumber,\"doctor_name\":\"john doe\"}))"
   ]
  },
  {
   "cell_type": "code",
   "execution_count": 13,
   "id": "91c12869",
   "metadata": {},
   "outputs": [],
   "source": [
    "class Router(BaseModel):\n",
    "    next: Literal[\"information_node\", \"booking_node\", \"FINISH\"] = Field(...,\n",
    "        description=(\n",
    "            \"Determines which specialized worker to activate next in the workflow sequence: \"\n",
    "            \"'information_node' when the user requests FAQs or doctor availability, \"\n",
    "            \"'booking_node' when the user wants to book, reschedule, or cancel an appointment, \"\n",
    "            \"'FINISH' when the user's query is fully resolved and no further action is required.\"\n",
    "        )\n",
    "    )\n",
    "    reasoning: str = Field(...,\n",
    "        description=(\n",
    "            \"Detailed justification for the routing decision, explaining the rationale but in short \"\n",
    "            \"behind selecting the particular worker and how this advances the task toward resolution.\"\n",
    "        )\n",
    "    )"
   ]
  },
  {
   "cell_type": "code",
   "execution_count": 14,
   "id": "08f75f55",
   "metadata": {},
   "outputs": [],
   "source": [
    "class AgentState(TypedDict):\n",
    "    messages: Annotated[list[Any], add_messages]\n",
    "    id_number: int\n",
    "    query: str\n",
    "    rephrased_query: str\n",
    "    current_reasoning: str"
   ]
  },
  {
   "cell_type": "code",
   "execution_count": 15,
   "id": "cdc1abc8",
   "metadata": {},
   "outputs": [],
   "source": [
    "members_dict = {\n",
    "    'information_node': 'Specialized agent to provide information related to doctor availability or FAQs about the hospital.',\n",
    "    'booking_node': 'Specialized agent to book, cancel, or reschedule appointments.',\n",
    "    'FINISH': 'Use FINISH when the user\\'s query has been fully resolved or no further action is required'\n",
    "}"
   ]
  },
  {
   "cell_type": "code",
   "execution_count": 16,
   "id": "2e07076c",
   "metadata": {},
   "outputs": [],
   "source": [
    "options = list(members_dict.keys())"
   ]
  },
  {
   "cell_type": "code",
   "execution_count": 17,
   "id": "c96f3451",
   "metadata": {},
   "outputs": [
    {
     "data": {
      "text/plain": [
       "['information_node', 'booking_node', 'FINISH']"
      ]
     },
     "execution_count": 17,
     "metadata": {},
     "output_type": "execute_result"
    }
   ],
   "source": [
    "options"
   ]
  },
  {
   "cell_type": "code",
   "execution_count": 18,
   "id": "3a5bd4ae",
   "metadata": {},
   "outputs": [
    {
     "name": "stdout",
     "output_type": "stream",
     "text": [
      "WORKER: information_node \n",
      "DESCRIPTION: Specialized agent to provide information related to doctor availability or FAQs about the hospital.\n",
      "\n",
      "WORKER: booking_node \n",
      "DESCRIPTION: Specialized agent to book, cancel, or reschedule appointments.\n",
      "\n",
      "WORKER: FINISH \n",
      "DESCRIPTION: Use FINISH when the user's query has been fully resolved or no further action is required\n"
     ]
    }
   ],
   "source": [
    "worker_info = '\\n\\n'.join(\n",
    "    [f'WORKER: {member} \\nDESCRIPTION: {description}' for member, description in members_dict.items()]\n",
    ") \n",
    "print(worker_info)"
   ]
  },
  {
   "cell_type": "code",
   "execution_count": 19,
   "id": "e9fd5286",
   "metadata": {},
   "outputs": [],
   "source": [
    "system_prompt = (\n",
    "    \"You are a supervisor tasked with managing a conversation between the following workers. \"\n",
    "    \"### SPECIALIZED ASSISTANT:\\n\"\n",
    "    f\"{worker_info}\\n\\n\"\n",
    "    \"Your primary role is to help the user make an appointment with a doctor and provide updates on FAQs and doctor availability. \"\n",
    "    \"If the user requests information about doctors or hospital FAQs, delegate to the information_node. \"\n",
    "    \"If the user wants to book, cancel, or reschedule an appointment, delegate to the booking_node. \"\n",
    "    \"If the user’s request involves multiple steps (e.g., check availability and then book), first delegate to the confirmation_node to get explicit user confirmation before proceeding. \"\n",
    "    \"Each worker will perform its task and return results. \"\n",
    "    \"When all tasks are complete and the user query is resolved, respond with FINISH.\\n\\n\"\n",
    "\n",
    "    \"**IMPORTANT RULES:**\\n\"\n",
    "    \"1. If the user's query is fully answered and no further action is required, respond with FINISH.\\n\"\n",
    "    \"2. If the conversation becomes repetitive, circular, or unproductive, respond with FINISH.\\n\"\n",
    "    \"3. If the conversation exceeds 10 steps, respond with FINISH to prevent infinite loops.\\n\"\n",
    "    \"4. Always consider the last worker response and previous context to determine if the user’s intent has been satisfied. \"\n",
    "    \"If it has, respond with FINISH.\\n\"\n",
    ")"
   ]
  },
  {
   "cell_type": "code",
   "execution_count": 20,
   "id": "a99b8a07",
   "metadata": {},
   "outputs": [
    {
     "name": "stdout",
     "output_type": "stream",
     "text": [
      "You are a supervisor tasked with managing a conversation between the following workers. ### SPECIALIZED ASSISTANT:\n",
      "WORKER: information_node \n",
      "DESCRIPTION: Specialized agent to provide information related to doctor availability or FAQs about the hospital.\n",
      "\n",
      "WORKER: booking_node \n",
      "DESCRIPTION: Specialized agent to book, cancel, or reschedule appointments.\n",
      "\n",
      "WORKER: FINISH \n",
      "DESCRIPTION: Use FINISH when the user's query has been fully resolved or no further action is required\n",
      "\n",
      "Your primary role is to help the user make an appointment with a doctor and provide updates on FAQs and doctor availability. If the user requests information about doctors or hospital FAQs, delegate to the information_node. If the user wants to book, cancel, or reschedule an appointment, delegate to the booking_node. If the user’s request involves multiple steps (e.g., check availability and then book), first delegate to the confirmation_node to get explicit user confirmation before proceeding. Each worker will perform its task and return results. When all tasks are complete and the user query is resolved, respond with FINISH.\n",
      "\n",
      "**IMPORTANT RULES:**\n",
      "1. If the user's query is fully answered and no further action is required, respond with FINISH.\n",
      "2. If the conversation becomes repetitive, circular, or unproductive, respond with FINISH.\n",
      "3. If the conversation exceeds 10 steps, respond with FINISH to prevent infinite loops.\n",
      "4. Always consider the last worker response and previous context to determine if the user’s intent has been satisfied. If it has, respond with FINISH.\n",
      "\n"
     ]
    }
   ],
   "source": [
    "print(system_prompt)"
   ]
  },
  {
   "cell_type": "code",
   "execution_count": 21,
   "id": "4d98b10d",
   "metadata": {},
   "outputs": [],
   "source": [
    "class query_classifierRoute(BaseModel):\n",
    "    next_node: Literal[\"supervisor_node\", \"end\"] = Field(\n",
    "        ..., description=\"Determines the next node in the agent flow\"\n",
    "    )\n",
    "    answer: Optional[str] = Field(\n",
    "        None,\n",
    "        description=\"Only filled if next_node is 'end'. Contains the assistant's reply to the user\"\n",
    "    )\n",
    "    rephrased_query: Optional[str] = Field(\n",
    "        None,\n",
    "        description=\"Only filled if next_node is 'supervisor_node'. Contains the rewritten standalone query. Include patient_id if required\"\n",
    "    )"
   ]
  },
  {
   "cell_type": "code",
   "execution_count": 22,
   "id": "d7de1b6b",
   "metadata": {},
   "outputs": [],
   "source": [
    "def query_classifier(state: AgentState) -> Command[Literal['supervisor','__end__']]:\n",
    "    message_history = state['messages']\n",
    "    user_query = state['query']\n",
    "    patient_id = state['id_number']\n",
    "\n",
    "    query_classifier_prompt=(\n",
    "        \"You are an intelligent routing agent designed to direct user queries to the most appropriate tool.\"\n",
    "        \"\"\"\n",
    "        You will receive:\n",
    "            - patient_id\n",
    "            - conversation history\n",
    "            - the latest user query\"\"\"\n",
    "        \"Your job is to classify and handle patient queries\"\n",
    "        \"\"\"\n",
    "        Routing Rules:\n",
    "            1. If the query is related to doctor tasks, choose supervisor_node:\n",
    "            Checking doctor availability (by doctor name or specialization).\n",
    "            Booking an appointment.\n",
    "            Canceling an appointment.\n",
    "            Rescheduling an appointment.\n",
    "            When routing to supervisor_node:\n",
    "            Always rephrase the query into a clear standalone question.\n",
    "            If the task requires a patient_id (book, cancel, reschedule), explicitly include the patient_id in the rewritten query.\n",
    "            If the task does not require a patient_id, do not include it.\n",
    "\n",
    "            2. If the query is NOT related to doctor tasks, choose end:\n",
    "            For greetings or small talk (e.g., “Hi”, “How are you?”).\n",
    "            For identity questions (e.g., “Who are you?” → respond: “I am DocuBot – your Doctor Appointment Assistant.”).\n",
    "            For anything beyond your knowledge → politely apologize.\n",
    "            When routing to end:\n",
    "            You must always provide an answer.\n",
    "        \"\"\"\n",
    "        \"\"\"\n",
    "        Output Format\n",
    "            {\n",
    "                \"next_node\": \"end\" | \"supervisor_node\",\n",
    "                \"answer\": \"Only required if next_node is 'end'\",\n",
    "                \"rephrased_query\": \"Only required if next_node is 'supervisor_node'\"\n",
    "            }\n",
    "            Example 1 – Greeting:\n",
    "            Patient: “Hi”\n",
    "\n",
    "            {\n",
    "            \"next_node\": \"end\",\n",
    "            \"answer\": \"Hello! How can I help you with your doctor appointments today?\"\n",
    "            }\n",
    "            Example 2 – Book Appointment (with patient_id):\n",
    "            Patient: “Book me an appointment with a cardiologist” (patient_id = 12345)\n",
    "\n",
    "            {\n",
    "            \"next_node\": \"supervisor_node\",\n",
    "            \"rephrased_query\": \"Book an appointment with a cardiologist for patient_id 12345\"\n",
    "            }\n",
    "            Example 3 – Doctor Availability:\n",
    "            Patient: “Is Dr. Sharma available tomorrow?”\n",
    "\n",
    "            {\n",
    "            \"next_node\": \"supervisor_node\",\n",
    "            \"rephrased_query\": \"Check availability of Dr. Sharma tomorrow\"\n",
    "            }\n",
    "            Example 4 – Out of domain:\n",
    "            Patient: “What’s the weather today?”\n",
    "\n",
    "            {\n",
    "            \"next_node\": \"end\",\n",
    "            \"answer\": \"I’m sorry, I can only help with doctor appointments.\"\n",
    "            }\n",
    "        \"\"\"\n",
    "    )\n",
    "\n",
    "    query_rewriter_prompt = ChatPromptTemplate.from_messages(\n",
    "        [\n",
    "            (\"system\", query_classifier_prompt),\n",
    "            (\"placeholder\", \"{messages}\"),   \n",
    "            (\"human\", \"User query: {user_query}\"),\n",
    "            (\"human\", \"patient_id: {patient_id}\"),\n",
    "        ]\n",
    "    )\n",
    "\n",
    "    chain= query_rewriter_prompt | llm.with_structured_output(query_classifierRoute)\n",
    "    result:query_classifierRoute= chain.invoke({\n",
    "        \"messages\": message_history,\n",
    "        \"user_query\": user_query,\n",
    "        \"patient_id\": patient_id\n",
    "    })\n",
    "\n",
    "    if result.next_node == \"end\":\n",
    "        return Command(\n",
    "            update={\n",
    "                \"messages\": [\n",
    "                    HumanMessage(content=user_query, name=\"query_classifier_node\"),\n",
    "                    AIMessage(content=result.answer, name=\"query_classifier_node\")\n",
    "                ],\n",
    "                \"current_reasoning\": f\"Routed to end because: {result.answer}\",\n",
    "            },\n",
    "            goto=\"__end__'\",\n",
    "        )\n",
    "    else:\n",
    "        return Command(\n",
    "            update={\n",
    "                \"messages\": [\n",
    "                    HumanMessage(content=result.rephrased_query, name=\"query_classifier_node\")\n",
    "                ],\n",
    "                \"rephrased_query\": result.rephrased_query,\n",
    "                \"current_reasoning\": f\"Routed to supervisor_node because: {result.rephrased_query}\",\n",
    "            },\n",
    "            goto=\"supervisor\",\n",
    "        )\n",
    "    \n"
   ]
  },
  {
   "cell_type": "code",
   "execution_count": 23,
   "id": "fe87211a",
   "metadata": {},
   "outputs": [],
   "source": [
    "def supervisor_node(state:AgentState) -> Command[Literal['information_node', 'booking_node', '__end__']]:\n",
    "    print(\"**************************below is my state right after entering****************************\")\n",
    "    print(state)\n",
    "    \n",
    "    messages = [\n",
    "        {\"role\": \"system\", \"content\": system_prompt},\n",
    "        {\"role\": \"user\", \"content\": f\"user's identification number is {state['id_number']}\"},\n",
    "    ] + state[\"messages\"]\n",
    "    \n",
    "    print(\"***********************this is my message*****************************************\")\n",
    "    print(messages)\n",
    "    \n",
    "    last_msg = state['messages'][-1] if state[\"messages\"] else None\n",
    "    query = getattr(last_msg, \"content\", \"nothing\") if last_msg else \"\"\n",
    "    \n",
    "    if not query:\n",
    "        return Command(goto=END)\n",
    "\n",
    "    print(\"************below is my query********************\")    \n",
    "    print(query)\n",
    "    \n",
    "    response = llm.with_structured_output(Router).invoke(messages)\n",
    "    \n",
    "    goto = response.next\n",
    "    \n",
    "    print(\"********************************this is my goto*************************\")\n",
    "    print(goto)\n",
    "    \n",
    "    print(\"********************************\")\n",
    "    print(response.reasoning)\n",
    "          \n",
    "    if goto == \"FINISH\":\n",
    "        goto = END\n",
    "        \n",
    "    print(\"**************************below is my state****************************\")\n",
    "    print(state)\n",
    "    \n",
    "    return Command(goto=goto, \n",
    "                   update={\n",
    "        'current_reasoning': response.reasoning, \n",
    "        'messages': [AIMessage(content=response.reasoning, name=\"supervisor_node\")]\n",
    "        })\n"
   ]
  },
  {
   "cell_type": "code",
   "execution_count": 24,
   "id": "777c05ed",
   "metadata": {},
   "outputs": [],
   "source": [
    "def information_node(state:AgentState) -> Command[Literal['supervisor']]:\n",
    "    print(\"*****************called information node************\")\n",
    "    \n",
    "    system_prompt = \"You are specialized agent to provide information related to availability of doctors or any FAQs related to hospital based on the query. You have access to the tool.\\n Make sure to ask user politely if you need any further information to execute the tool.\\n For your information.\"\n",
    "    \n",
    "    system_prompt = ChatPromptTemplate.from_messages(\n",
    "            [\n",
    "                (\n",
    "                    \"system\",\n",
    "                    system_prompt\n",
    "                ),\n",
    "                (\n",
    "                    \"placeholder\", \n",
    "                    \"{messages}\"\n",
    "                ),\n",
    "            ]\n",
    "        )\n",
    "    \n",
    "    information_agent = create_react_agent(model=llm,tools=[check_availability_by_doctor,check_availability_by_specialization] ,prompt=system_prompt)\n",
    "    \n",
    "    result = information_agent.invoke(state)\n",
    "    \n",
    "    return Command(\n",
    "        update={\n",
    "            \"messages\": [\n",
    "                AIMessage(content=result[\"messages\"][-1].content, name=\"information_node\")\n",
    "            ]\n",
    "        },\n",
    "        goto=\"supervisor\",\n",
    "    )"
   ]
  },
  {
   "cell_type": "code",
   "execution_count": 25,
   "id": "b6ce90e4",
   "metadata": {},
   "outputs": [],
   "source": [
    "def booking_node(state:AgentState) ->  Command[Literal['supervisor']]:\n",
    "    \n",
    "    print(\"*****************called booking node************\")\n",
    "    \n",
    "    system_prompt = \"You are specialized agent to set, cancel or reschedule appointment based on the query. You have access to the tool.\\n Make sure to ask user politely if you need any further information to execute the tool.\\n For your information.\"\n",
    "    \n",
    "    system_prompt = ChatPromptTemplate.from_messages(\n",
    "            [\n",
    "                (\n",
    "                    \"system\",\n",
    "                    system_prompt\n",
    "                ),\n",
    "                (\n",
    "                    \"placeholder\", \n",
    "                    \"{messages}\"\n",
    "                ),\n",
    "            ]\n",
    "        )\n",
    "    booking_agent = create_react_agent(model=llm,tools=[book_appointment,cancel_appointment,reschedule_appointment],prompt=system_prompt)\n",
    "\n",
    "    result = booking_agent.invoke(state)\n",
    "    \n",
    "    return Command(\n",
    "        update={\n",
    "            \"messages\": [\n",
    "                AIMessage(content=result[\"messages\"][-1].content, name=\"booking_node\")\n",
    "            ]\n",
    "        },\n",
    "        goto=\"supervisor\",\n",
    "    )"
   ]
  },
  {
   "cell_type": "code",
   "execution_count": 31,
   "id": "0132c798",
   "metadata": {},
   "outputs": [],
   "source": [
    "graph = StateGraph(AgentState)\n",
    "graph.add_node(\"query_classifier\", query_classifier)\n",
    "graph.add_node(\"supervisor\", supervisor_node)\n",
    "graph.add_node(\"information_node\", information_node)\n",
    "graph.add_node(\"booking_node\", booking_node)\n",
    "\n",
    "graph.add_edge(START, \"query_classifier\")\n",
    "app = graph.compile()"
   ]
  },
  {
   "cell_type": "code",
   "execution_count": 32,
   "id": "df7aeb33",
   "metadata": {},
   "outputs": [
    {
     "data": {
      "image/png": "[encoded data removed]",
      "text/plain": [
       "<IPython.core.display.Image object>"
      ]
     },
     "metadata": {},
     "output_type": "display_data"
    }
   ],
   "source": [
    "from IPython.display import Image, display\n",
    "display(\n",
    "    Image(app.get_graph().draw_mermaid_png())\n",
    ")"
   ]
  },
  {
   "cell_type": "code",
   "execution_count": 53,
   "id": "1192f808",
   "metadata": {},
   "outputs": [
    {
     "data": {
      "image/png": "[encoded data removed]",
      "text/plain": [
       "<IPython.core.display.Image object>"
      ]
     },
     "metadata": {},
     "output_type": "display_data"
    }
   ],
   "source": [
    "from langchain_core.runnables.graph import CurveStyle, MermaidDrawMethod, NodeStyles\n",
    "from IPython.display import display, Image\n",
    "\n",
    "display(\n",
    "    Image(\n",
    "        app.get_graph().draw_mermaid_png(\n",
    "            draw_method=MermaidDrawMethod.API,\n",
    "            curve_style= CurveStyle.BASIS,\n",
    "            node_colors=NodeStyles(\n",
    "                first=\"fill:#ffeecc\", last=\"fill:#baffc9\", default=\"fill:#aaddff\"\n",
    "            )\n",
    "        )\n",
    "    )\n",
    ")\n"
   ]
  },
  {
   "cell_type": "code",
   "execution_count": 130,
   "id": "733cde10",
   "metadata": {},
   "outputs": [
    {
     "name": "stdout",
     "output_type": "stream",
     "text": [
      "---\n",
      "config:\n",
      "  flowchart:\n",
      "    curve: linear\n",
      "---\n",
      "graph TD;\n",
      "\t__start__([<p>__start__</p>]):::first\n",
      "\tquery_rewriter(query_rewriter)\n",
      "\tsupervisor(supervisor)\n",
      "\tinformation_node(information_node)\n",
      "\tbooking_node(booking_node)\n",
      "\t__end__([<p>__end__</p>]):::last\n",
      "\t__start__ --> query_rewriter;\n",
      "\tquery_rewriter -.-> supervisor;\n",
      "\tsupervisor -.-> information_node;\n",
      "\tsupervisor -.-> booking_node;\n",
      "\tsupervisor -.-> __end__;\n",
      "\tinformation_node -.-> supervisor;\n",
      "\tbooking_node -.-> supervisor;\n",
      "\tclassDef default fill:#f2f0ff,line-height:1.2\n",
      "\tclassDef first fill-opacity:0\n",
      "\tclassDef last fill:#bfb6fc\n",
      "\n"
     ]
    }
   ],
   "source": [
    "print(app.get_graph().draw_mermaid())"
   ]
  },
  {
   "cell_type": "code",
   "execution_count": 24,
   "id": "cd9fe55e",
   "metadata": {},
   "outputs": [],
   "source": [
    "state = {\n",
    "    'query': 'can you check and make a booking if general dentist available on 8 August 2024 at 8 PM?',\n",
    "    'id_number':10232303\n",
    "    }"
   ]
  },
  {
   "cell_type": "code",
   "execution_count": 25,
   "id": "d72e61ad",
   "metadata": {},
   "outputs": [
    {
     "name": "stdout",
     "output_type": "stream",
     "text": [
      "**************************below is my state right after entering****************************\n",
      "{'messages': [HumanMessage(content='Can you check the availability of a general dentist and make a booking for patient 10232303 on August 8, 2024, at 8 PM?', additional_kwargs={}, response_metadata={}, name='query_rewriter_node', id='9fbae9f1-df4d-459e-8f80-c179606e3d2f')], 'id_number': 10232303, 'query': 'can you check and make a booking if general dentist available on 8 August 2024 at 8 PM?', 'rephrased_query': 'Can you check the availability of a general dentist and make a booking for patient 10232303 on August 8, 2024, at 8 PM?'}\n",
      "***********************this is my message*****************************************\n",
      "[{'role': 'system', 'content': \"You are a supervisor tasked with managing a conversation between the following workers. ### SPECIALIZED ASSISTANT:\\nWORKER: information_node \\nDESCRIPTION: Specialized agent to provide information related to doctor availability or FAQs about the hospital.\\n\\nWORKER: booking_node \\nDESCRIPTION: Specialized agent to book, cancel, or reschedule appointments.\\n\\nWORKER: FINISH \\nDESCRIPTION: Use FINISH when the user's query has been fully resolved or no further action is required\\n\\nYour primary role is to help the user make an appointment with a doctor and provide updates on FAQs and doctor availability. If the user requests information about doctors or hospital FAQs, delegate to the information_node. If the user wants to book, cancel, or reschedule an appointment, delegate to the booking_node. If the user’s request involves multiple steps (e.g., check availability and then book), first delegate to the confirmation_node to get explicit user confirmation before proceeding. Each worker will perform its task and return results. When all tasks are complete and the user query is resolved, respond with FINISH.\\n\\n**IMPORTANT RULES:**\\n1. If the user's query is fully answered and no further action is required, respond with FINISH.\\n2. If the conversation becomes repetitive, circular, or unproductive, respond with FINISH.\\n3. If the conversation exceeds 10 steps, respond with FINISH to prevent infinite loops.\\n4. Always consider the last worker response and previous context to determine if the user’s intent has been satisfied. If it has, respond with FINISH.\\n\"}, {'role': 'user', 'content': \"user's identification number is 10232303\"}, HumanMessage(content='Can you check the availability of a general dentist and make a booking for patient 10232303 on August 8, 2024, at 8 PM?', additional_kwargs={}, response_metadata={}, name='query_rewriter_node', id='9fbae9f1-df4d-459e-8f80-c179606e3d2f')]\n",
      "************below is my query********************\n",
      "Can you check the availability of a general dentist and make a booking for patient 10232303 on August 8, 2024, at 8 PM?\n",
      "********************************this is my goto*************************\n",
      "information_node\n",
      "********************************\n",
      "The user wants to check the availability of a general dentist as the first step. Routing to information_node to fulfill this request.\n",
      "**************************below is my state****************************\n",
      "{'messages': [HumanMessage(content='Can you check the availability of a general dentist and make a booking for patient 10232303 on August 8, 2024, at 8 PM?', additional_kwargs={}, response_metadata={}, name='query_rewriter_node', id='9fbae9f1-df4d-459e-8f80-c179606e3d2f')], 'id_number': 10232303, 'query': 'can you check and make a booking if general dentist available on 8 August 2024 at 8 PM?', 'rephrased_query': 'Can you check the availability of a general dentist and make a booking for patient 10232303 on August 8, 2024, at 8 PM?'}\n",
      "*****************called information node************\n",
      "**************************below is my state right after entering****************************\n",
      "{'messages': [HumanMessage(content='Can you check the availability of a general dentist and make a booking for patient 10232303 on August 8, 2024, at 8 PM?', additional_kwargs={}, response_metadata={}, name='query_rewriter_node', id='9fbae9f1-df4d-459e-8f80-c179606e3d2f'), AIMessage(content='I can check the availability for a general dentist on August 8, 2024. However, I am not able to make a booking for you. Would you like me to proceed with just checking the availability?', additional_kwargs={}, response_metadata={}, name='information_node', id='d3c29eb3-fb5c-4cbc-acd9-978f25c2397a')], 'id_number': 10232303, 'query': 'can you check and make a booking if general dentist available on 8 August 2024 at 8 PM?', 'rephrased_query': 'Can you check the availability of a general dentist and make a booking for patient 10232303 on August 8, 2024, at 8 PM?', 'current_reasoning': 'The user wants to check the availability of a general dentist as the first step. Routing to information_node to fulfill this request.'}\n",
      "***********************this is my message*****************************************\n",
      "[{'role': 'system', 'content': \"You are a supervisor tasked with managing a conversation between the following workers. ### SPECIALIZED ASSISTANT:\\nWORKER: information_node \\nDESCRIPTION: Specialized agent to provide information related to doctor availability or FAQs about the hospital.\\n\\nWORKER: booking_node \\nDESCRIPTION: Specialized agent to book, cancel, or reschedule appointments.\\n\\nWORKER: FINISH \\nDESCRIPTION: Use FINISH when the user's query has been fully resolved or no further action is required\\n\\nYour primary role is to help the user make an appointment with a doctor and provide updates on FAQs and doctor availability. If the user requests information about doctors or hospital FAQs, delegate to the information_node. If the user wants to book, cancel, or reschedule an appointment, delegate to the booking_node. If the user’s request involves multiple steps (e.g., check availability and then book), first delegate to the confirmation_node to get explicit user confirmation before proceeding. Each worker will perform its task and return results. When all tasks are complete and the user query is resolved, respond with FINISH.\\n\\n**IMPORTANT RULES:**\\n1. If the user's query is fully answered and no further action is required, respond with FINISH.\\n2. If the conversation becomes repetitive, circular, or unproductive, respond with FINISH.\\n3. If the conversation exceeds 10 steps, respond with FINISH to prevent infinite loops.\\n4. Always consider the last worker response and previous context to determine if the user’s intent has been satisfied. If it has, respond with FINISH.\\n\"}, {'role': 'user', 'content': \"user's identification number is 10232303\"}, HumanMessage(content='Can you check the availability of a general dentist and make a booking for patient 10232303 on August 8, 2024, at 8 PM?', additional_kwargs={}, response_metadata={}, name='query_rewriter_node', id='9fbae9f1-df4d-459e-8f80-c179606e3d2f'), AIMessage(content='I can check the availability for a general dentist on August 8, 2024. However, I am not able to make a booking for you. Would you like me to proceed with just checking the availability?', additional_kwargs={}, response_metadata={}, name='information_node', id='d3c29eb3-fb5c-4cbc-acd9-978f25c2397a')]\n",
      "************below is my query********************\n",
      "I can check the availability for a general dentist on August 8, 2024. However, I am not able to make a booking for you. Would you like me to proceed with just checking the availability?\n",
      "********************************this is my goto*************************\n",
      "information_node\n",
      "********************************\n",
      "The user wants to check the availability of a general dentist. This falls under the purview of the information_node. I will ask the user to confirm if they want to proceed with only checking the availability as I cannot make a booking for them.\n",
      "**************************below is my state****************************\n",
      "{'messages': [HumanMessage(content='Can you check the availability of a general dentist and make a booking for patient 10232303 on August 8, 2024, at 8 PM?', additional_kwargs={}, response_metadata={}, name='query_rewriter_node', id='9fbae9f1-df4d-459e-8f80-c179606e3d2f'), AIMessage(content='I can check the availability for a general dentist on August 8, 2024. However, I am not able to make a booking for you. Would you like me to proceed with just checking the availability?', additional_kwargs={}, response_metadata={}, name='information_node', id='d3c29eb3-fb5c-4cbc-acd9-978f25c2397a')], 'id_number': 10232303, 'query': 'can you check and make a booking if general dentist available on 8 August 2024 at 8 PM?', 'rephrased_query': 'Can you check the availability of a general dentist and make a booking for patient 10232303 on August 8, 2024, at 8 PM?', 'current_reasoning': 'The user wants to check the availability of a general dentist as the first step. Routing to information_node to fulfill this request.'}\n",
      "*****************called information node************\n"
     ]
    },
    {
     "name": "stderr",
     "output_type": "stream",
     "text": [
      "Gemini produced an empty response. Continuing with empty message\n",
      "Feedback: \n"
     ]
    },
    {
     "name": "stdout",
     "output_type": "stream",
     "text": [
      "**************************below is my state right after entering****************************\n",
      "{'messages': [HumanMessage(content='Can you check the availability of a general dentist and make a booking for patient 10232303 on August 8, 2024, at 8 PM?', additional_kwargs={}, response_metadata={}, name='query_rewriter_node', id='9fbae9f1-df4d-459e-8f80-c179606e3d2f'), AIMessage(content='I can check the availability for a general dentist on August 8, 2024. However, I am not able to make a booking for you. Would you like me to proceed with just checking the availability?', additional_kwargs={}, response_metadata={}, name='information_node', id='d3c29eb3-fb5c-4cbc-acd9-978f25c2397a'), AIMessage(content='', additional_kwargs={}, response_metadata={}, name='information_node', id='324106e0-e3b5-4767-87f8-cac44776b79e')], 'id_number': 10232303, 'query': 'can you check and make a booking if general dentist available on 8 August 2024 at 8 PM?', 'rephrased_query': 'Can you check the availability of a general dentist and make a booking for patient 10232303 on August 8, 2024, at 8 PM?', 'current_reasoning': 'The user wants to check the availability of a general dentist. This falls under the purview of the information_node. I will ask the user to confirm if they want to proceed with only checking the availability as I cannot make a booking for them.'}\n",
      "***********************this is my message*****************************************\n",
      "[{'role': 'system', 'content': \"You are a supervisor tasked with managing a conversation between the following workers. ### SPECIALIZED ASSISTANT:\\nWORKER: information_node \\nDESCRIPTION: Specialized agent to provide information related to doctor availability or FAQs about the hospital.\\n\\nWORKER: booking_node \\nDESCRIPTION: Specialized agent to book, cancel, or reschedule appointments.\\n\\nWORKER: FINISH \\nDESCRIPTION: Use FINISH when the user's query has been fully resolved or no further action is required\\n\\nYour primary role is to help the user make an appointment with a doctor and provide updates on FAQs and doctor availability. If the user requests information about doctors or hospital FAQs, delegate to the information_node. If the user wants to book, cancel, or reschedule an appointment, delegate to the booking_node. If the user’s request involves multiple steps (e.g., check availability and then book), first delegate to the confirmation_node to get explicit user confirmation before proceeding. Each worker will perform its task and return results. When all tasks are complete and the user query is resolved, respond with FINISH.\\n\\n**IMPORTANT RULES:**\\n1. If the user's query is fully answered and no further action is required, respond with FINISH.\\n2. If the conversation becomes repetitive, circular, or unproductive, respond with FINISH.\\n3. If the conversation exceeds 10 steps, respond with FINISH to prevent infinite loops.\\n4. Always consider the last worker response and previous context to determine if the user’s intent has been satisfied. If it has, respond with FINISH.\\n\"}, {'role': 'user', 'content': \"user's identification number is 10232303\"}, HumanMessage(content='Can you check the availability of a general dentist and make a booking for patient 10232303 on August 8, 2024, at 8 PM?', additional_kwargs={}, response_metadata={}, name='query_rewriter_node', id='9fbae9f1-df4d-459e-8f80-c179606e3d2f'), AIMessage(content='I can check the availability for a general dentist on August 8, 2024. However, I am not able to make a booking for you. Would you like me to proceed with just checking the availability?', additional_kwargs={}, response_metadata={}, name='information_node', id='d3c29eb3-fb5c-4cbc-acd9-978f25c2397a'), AIMessage(content='', additional_kwargs={}, response_metadata={}, name='information_node', id='324106e0-e3b5-4767-87f8-cac44776b79e')]\n"
     ]
    }
   ],
   "source": [
    "result = app.invoke(state)"
   ]
  },
  {
   "cell_type": "code",
   "execution_count": 26,
   "id": "77b24dcf",
   "metadata": {},
   "outputs": [
    {
     "name": "stdout",
     "output_type": "stream",
     "text": [
      "I can check the availability for a general dentist on August 8, 2024. However, I am not able to make a booking for you. Would you like me to proceed with just checking the availability?\n"
     ]
    }
   ],
   "source": [
    "print(result[\"messages\"][-1].content)"
   ]
  },
  {
   "cell_type": "code",
   "execution_count": 27,
   "id": "836c5a20",
   "metadata": {},
   "outputs": [
    {
     "name": "stdout",
     "output_type": "stream",
     "text": [
      "**************************below is my state right after entering****************************\n",
      "{'messages': [HumanMessage(content='For patient ID 10232303, are there any general dentists available on August 8, 2024? If so, please list the available doctors and their time slots.', additional_kwargs={}, response_metadata={}, name='query_rewriter_node', id='1e5b6237-ab7a-4f35-94f7-e9e9c02527e3')], 'id_number': 10232303, 'query': 'can you check if general dentist available on 8 August 2024? if available show available doctors and time slots', 'rephrased_query': 'For patient ID 10232303, are there any general dentists available on August 8, 2024? If so, please list the available doctors and their time slots.'}\n",
      "***********************this is my message*****************************************\n",
      "[{'role': 'system', 'content': \"You are a supervisor tasked with managing a conversation between the following workers. ### SPECIALIZED ASSISTANT:\\nWORKER: information_node \\nDESCRIPTION: Specialized agent to provide information related to doctor availability or FAQs about the hospital.\\n\\nWORKER: booking_node \\nDESCRIPTION: Specialized agent to book, cancel, or reschedule appointments.\\n\\nWORKER: FINISH \\nDESCRIPTION: Use FINISH when the user's query has been fully resolved or no further action is required\\n\\nYour primary role is to help the user make an appointment with a doctor and provide updates on FAQs and doctor availability. If the user requests information about doctors or hospital FAQs, delegate to the information_node. If the user wants to book, cancel, or reschedule an appointment, delegate to the booking_node. If the user’s request involves multiple steps (e.g., check availability and then book), first delegate to the confirmation_node to get explicit user confirmation before proceeding. Each worker will perform its task and return results. When all tasks are complete and the user query is resolved, respond with FINISH.\\n\\n**IMPORTANT RULES:**\\n1. If the user's query is fully answered and no further action is required, respond with FINISH.\\n2. If the conversation becomes repetitive, circular, or unproductive, respond with FINISH.\\n3. If the conversation exceeds 10 steps, respond with FINISH to prevent infinite loops.\\n4. Always consider the last worker response and previous context to determine if the user’s intent has been satisfied. If it has, respond with FINISH.\\n\"}, {'role': 'user', 'content': \"user's identification number is 10232303\"}, HumanMessage(content='For patient ID 10232303, are there any general dentists available on August 8, 2024? If so, please list the available doctors and their time slots.', additional_kwargs={}, response_metadata={}, name='query_rewriter_node', id='1e5b6237-ab7a-4f35-94f7-e9e9c02527e3')]\n",
      "************below is my query********************\n",
      "For patient ID 10232303, are there any general dentists available on August 8, 2024? If so, please list the available doctors and their time slots.\n",
      "********************************this is my goto*************************\n",
      "information_node\n",
      "********************************\n",
      "The user is asking for the availability of general dentists on a specific date, which requires retrieving information about doctor availability. The `information_node` is designed to handle such queries.\n",
      "**************************below is my state****************************\n",
      "{'messages': [HumanMessage(content='For patient ID 10232303, are there any general dentists available on August 8, 2024? If so, please list the available doctors and their time slots.', additional_kwargs={}, response_metadata={}, name='query_rewriter_node', id='1e5b6237-ab7a-4f35-94f7-e9e9c02527e3')], 'id_number': 10232303, 'query': 'can you check if general dentist available on 8 August 2024? if available show available doctors and time slots', 'rephrased_query': 'For patient ID 10232303, are there any general dentists available on August 8, 2024? If so, please list the available doctors and their time slots.'}\n",
      "*****************called information node************\n",
      "**************************below is my state right after entering****************************\n",
      "{'messages': [HumanMessage(content='For patient ID 10232303, are there any general dentists available on August 8, 2024? If so, please list the available doctors and their time slots.', additional_kwargs={}, response_metadata={}, name='query_rewriter_node', id='1e5b6237-ab7a-4f35-94f7-e9e9c02527e3'), AIMessage(content='Yes, there are general dentists available on August 8, 2024. Here are the available doctors and their time slots:\\n\\n**Dr. John Doe:**\\n* 8:00 AM\\n* 9:00 AM\\n* 9:30 AM\\n* 10:00 AM\\n* 12:00 PM\\n* 1:30 PM\\n* 2:00 PM\\n* 3:00 PM\\n* 3:30 PM\\n* 4:00 PM\\n* 4:30 PM\\n\\n**Dr. Emily Johnson:**\\n* 8:00 AM\\n* 8:30 AM\\n* 10:00 AM\\n* 10:30 AM\\n* 11:00 AM\\n* 11:30 AM\\n* 12:00 PM\\n* 12:30 PM\\n* 1:30 PM\\n* 2:30 PM\\n* 3:30 PM\\n* 4:30 PM', additional_kwargs={}, response_metadata={}, name='information_node', id='e3ca48da-e0a6-4f32-8e77-a3d1c5f7c7f2')], 'id_number': 10232303, 'query': 'can you check if general dentist available on 8 August 2024? if available show available doctors and time slots', 'rephrased_query': 'For patient ID 10232303, are there any general dentists available on August 8, 2024? If so, please list the available doctors and their time slots.', 'current_reasoning': 'The user is asking for the availability of general dentists on a specific date, which requires retrieving information about doctor availability. The `information_node` is designed to handle such queries.'}\n",
      "***********************this is my message*****************************************\n",
      "[{'role': 'system', 'content': \"You are a supervisor tasked with managing a conversation between the following workers. ### SPECIALIZED ASSISTANT:\\nWORKER: information_node \\nDESCRIPTION: Specialized agent to provide information related to doctor availability or FAQs about the hospital.\\n\\nWORKER: booking_node \\nDESCRIPTION: Specialized agent to book, cancel, or reschedule appointments.\\n\\nWORKER: FINISH \\nDESCRIPTION: Use FINISH when the user's query has been fully resolved or no further action is required\\n\\nYour primary role is to help the user make an appointment with a doctor and provide updates on FAQs and doctor availability. If the user requests information about doctors or hospital FAQs, delegate to the information_node. If the user wants to book, cancel, or reschedule an appointment, delegate to the booking_node. If the user’s request involves multiple steps (e.g., check availability and then book), first delegate to the confirmation_node to get explicit user confirmation before proceeding. Each worker will perform its task and return results. When all tasks are complete and the user query is resolved, respond with FINISH.\\n\\n**IMPORTANT RULES:**\\n1. If the user's query is fully answered and no further action is required, respond with FINISH.\\n2. If the conversation becomes repetitive, circular, or unproductive, respond with FINISH.\\n3. If the conversation exceeds 10 steps, respond with FINISH to prevent infinite loops.\\n4. Always consider the last worker response and previous context to determine if the user’s intent has been satisfied. If it has, respond with FINISH.\\n\"}, {'role': 'user', 'content': \"user's identification number is 10232303\"}, HumanMessage(content='For patient ID 10232303, are there any general dentists available on August 8, 2024? If so, please list the available doctors and their time slots.', additional_kwargs={}, response_metadata={}, name='query_rewriter_node', id='1e5b6237-ab7a-4f35-94f7-e9e9c02527e3'), AIMessage(content='Yes, there are general dentists available on August 8, 2024. Here are the available doctors and their time slots:\\n\\n**Dr. John Doe:**\\n* 8:00 AM\\n* 9:00 AM\\n* 9:30 AM\\n* 10:00 AM\\n* 12:00 PM\\n* 1:30 PM\\n* 2:00 PM\\n* 3:00 PM\\n* 3:30 PM\\n* 4:00 PM\\n* 4:30 PM\\n\\n**Dr. Emily Johnson:**\\n* 8:00 AM\\n* 8:30 AM\\n* 10:00 AM\\n* 10:30 AM\\n* 11:00 AM\\n* 11:30 AM\\n* 12:00 PM\\n* 12:30 PM\\n* 1:30 PM\\n* 2:30 PM\\n* 3:30 PM\\n* 4:30 PM', additional_kwargs={}, response_metadata={}, name='information_node', id='e3ca48da-e0a6-4f32-8e77-a3d1c5f7c7f2')]\n",
      "************below is my query********************\n",
      "Yes, there are general dentists available on August 8, 2024. Here are the available doctors and their time slots:\n",
      "\n",
      "**Dr. John Doe:**\n",
      "* 8:00 AM\n",
      "* 9:00 AM\n",
      "* 9:30 AM\n",
      "* 10:00 AM\n",
      "* 12:00 PM\n",
      "* 1:30 PM\n",
      "* 2:00 PM\n",
      "* 3:00 PM\n",
      "* 3:30 PM\n",
      "* 4:00 PM\n",
      "* 4:30 PM\n",
      "\n",
      "**Dr. Emily Johnson:**\n",
      "* 8:00 AM\n",
      "* 8:30 AM\n",
      "* 10:00 AM\n",
      "* 10:30 AM\n",
      "* 11:00 AM\n",
      "* 11:30 AM\n",
      "* 12:00 PM\n",
      "* 12:30 PM\n",
      "* 1:30 PM\n",
      "* 2:30 PM\n",
      "* 3:30 PM\n",
      "* 4:30 PM\n",
      "********************************this is my goto*************************\n",
      "information_node\n",
      "********************************\n",
      "The user is asking for doctor availability, so I should route to the information_node.\n",
      "**************************below is my state****************************\n",
      "{'messages': [HumanMessage(content='For patient ID 10232303, are there any general dentists available on August 8, 2024? If so, please list the available doctors and their time slots.', additional_kwargs={}, response_metadata={}, name='query_rewriter_node', id='1e5b6237-ab7a-4f35-94f7-e9e9c02527e3'), AIMessage(content='Yes, there are general dentists available on August 8, 2024. Here are the available doctors and their time slots:\\n\\n**Dr. John Doe:**\\n* 8:00 AM\\n* 9:00 AM\\n* 9:30 AM\\n* 10:00 AM\\n* 12:00 PM\\n* 1:30 PM\\n* 2:00 PM\\n* 3:00 PM\\n* 3:30 PM\\n* 4:00 PM\\n* 4:30 PM\\n\\n**Dr. Emily Johnson:**\\n* 8:00 AM\\n* 8:30 AM\\n* 10:00 AM\\n* 10:30 AM\\n* 11:00 AM\\n* 11:30 AM\\n* 12:00 PM\\n* 12:30 PM\\n* 1:30 PM\\n* 2:30 PM\\n* 3:30 PM\\n* 4:30 PM', additional_kwargs={}, response_metadata={}, name='information_node', id='e3ca48da-e0a6-4f32-8e77-a3d1c5f7c7f2')], 'id_number': 10232303, 'query': 'can you check if general dentist available on 8 August 2024? if available show available doctors and time slots', 'rephrased_query': 'For patient ID 10232303, are there any general dentists available on August 8, 2024? If so, please list the available doctors and their time slots.', 'current_reasoning': 'The user is asking for the availability of general dentists on a specific date, which requires retrieving information about doctor availability. The `information_node` is designed to handle such queries.'}\n",
      "*****************called information node************\n",
      "**************************below is my state right after entering****************************\n",
      "{'messages': [HumanMessage(content='For patient ID 10232303, are there any general dentists available on August 8, 2024? If so, please list the available doctors and their time slots.', additional_kwargs={}, response_metadata={}, name='query_rewriter_node', id='1e5b6237-ab7a-4f35-94f7-e9e9c02527e3'), AIMessage(content='Yes, there are general dentists available on August 8, 2024. Here are the available doctors and their time slots:\\n\\n**Dr. John Doe:**\\n* 8:00 AM\\n* 9:00 AM\\n* 9:30 AM\\n* 10:00 AM\\n* 12:00 PM\\n* 1:30 PM\\n* 2:00 PM\\n* 3:00 PM\\n* 3:30 PM\\n* 4:00 PM\\n* 4:30 PM\\n\\n**Dr. Emily Johnson:**\\n* 8:00 AM\\n* 8:30 AM\\n* 10:00 AM\\n* 10:30 AM\\n* 11:00 AM\\n* 11:30 AM\\n* 12:00 PM\\n* 12:30 PM\\n* 1:30 PM\\n* 2:30 PM\\n* 3:30 PM\\n* 4:30 PM', additional_kwargs={}, response_metadata={}, name='information_node', id='e3ca48da-e0a6-4f32-8e77-a3d1c5f7c7f2'), AIMessage(content='\\n\\nPlease let me know if you would like to book an appointment with a specific doctor or if you have any other questions.', additional_kwargs={}, response_metadata={}, name='information_node', id='ac4635ae-446c-4581-8419-def52853a517')], 'id_number': 10232303, 'query': 'can you check if general dentist available on 8 August 2024? if available show available doctors and time slots', 'rephrased_query': 'For patient ID 10232303, are there any general dentists available on August 8, 2024? If so, please list the available doctors and their time slots.', 'current_reasoning': 'The user is asking for doctor availability, so I should route to the information_node.'}\n",
      "***********************this is my message*****************************************\n",
      "[{'role': 'system', 'content': \"You are a supervisor tasked with managing a conversation between the following workers. ### SPECIALIZED ASSISTANT:\\nWORKER: information_node \\nDESCRIPTION: Specialized agent to provide information related to doctor availability or FAQs about the hospital.\\n\\nWORKER: booking_node \\nDESCRIPTION: Specialized agent to book, cancel, or reschedule appointments.\\n\\nWORKER: FINISH \\nDESCRIPTION: Use FINISH when the user's query has been fully resolved or no further action is required\\n\\nYour primary role is to help the user make an appointment with a doctor and provide updates on FAQs and doctor availability. If the user requests information about doctors or hospital FAQs, delegate to the information_node. If the user wants to book, cancel, or reschedule an appointment, delegate to the booking_node. If the user’s request involves multiple steps (e.g., check availability and then book), first delegate to the confirmation_node to get explicit user confirmation before proceeding. Each worker will perform its task and return results. When all tasks are complete and the user query is resolved, respond with FINISH.\\n\\n**IMPORTANT RULES:**\\n1. If the user's query is fully answered and no further action is required, respond with FINISH.\\n2. If the conversation becomes repetitive, circular, or unproductive, respond with FINISH.\\n3. If the conversation exceeds 10 steps, respond with FINISH to prevent infinite loops.\\n4. Always consider the last worker response and previous context to determine if the user’s intent has been satisfied. If it has, respond with FINISH.\\n\"}, {'role': 'user', 'content': \"user's identification number is 10232303\"}, HumanMessage(content='For patient ID 10232303, are there any general dentists available on August 8, 2024? If so, please list the available doctors and their time slots.', additional_kwargs={}, response_metadata={}, name='query_rewriter_node', id='1e5b6237-ab7a-4f35-94f7-e9e9c02527e3'), AIMessage(content='Yes, there are general dentists available on August 8, 2024. Here are the available doctors and their time slots:\\n\\n**Dr. John Doe:**\\n* 8:00 AM\\n* 9:00 AM\\n* 9:30 AM\\n* 10:00 AM\\n* 12:00 PM\\n* 1:30 PM\\n* 2:00 PM\\n* 3:00 PM\\n* 3:30 PM\\n* 4:00 PM\\n* 4:30 PM\\n\\n**Dr. Emily Johnson:**\\n* 8:00 AM\\n* 8:30 AM\\n* 10:00 AM\\n* 10:30 AM\\n* 11:00 AM\\n* 11:30 AM\\n* 12:00 PM\\n* 12:30 PM\\n* 1:30 PM\\n* 2:30 PM\\n* 3:30 PM\\n* 4:30 PM', additional_kwargs={}, response_metadata={}, name='information_node', id='e3ca48da-e0a6-4f32-8e77-a3d1c5f7c7f2'), AIMessage(content='\\n\\nPlease let me know if you would like to book an appointment with a specific doctor or if you have any other questions.', additional_kwargs={}, response_metadata={}, name='information_node', id='ac4635ae-446c-4581-8419-def52853a517')]\n",
      "************below is my query********************\n",
      "\n",
      "\n",
      "Please let me know if you would like to book an appointment with a specific doctor or if you have any other questions.\n",
      "********************************this is my goto*************************\n",
      "information_node\n",
      "********************************\n",
      "The user is asking for information about doctor availability, so I should route to the information_node to provide the requested information.\n",
      "**************************below is my state****************************\n",
      "{'messages': [HumanMessage(content='For patient ID 10232303, are there any general dentists available on August 8, 2024? If so, please list the available doctors and their time slots.', additional_kwargs={}, response_metadata={}, name='query_rewriter_node', id='1e5b6237-ab7a-4f35-94f7-e9e9c02527e3'), AIMessage(content='Yes, there are general dentists available on August 8, 2024. Here are the available doctors and their time slots:\\n\\n**Dr. John Doe:**\\n* 8:00 AM\\n* 9:00 AM\\n* 9:30 AM\\n* 10:00 AM\\n* 12:00 PM\\n* 1:30 PM\\n* 2:00 PM\\n* 3:00 PM\\n* 3:30 PM\\n* 4:00 PM\\n* 4:30 PM\\n\\n**Dr. Emily Johnson:**\\n* 8:00 AM\\n* 8:30 AM\\n* 10:00 AM\\n* 10:30 AM\\n* 11:00 AM\\n* 11:30 AM\\n* 12:00 PM\\n* 12:30 PM\\n* 1:30 PM\\n* 2:30 PM\\n* 3:30 PM\\n* 4:30 PM', additional_kwargs={}, response_metadata={}, name='information_node', id='e3ca48da-e0a6-4f32-8e77-a3d1c5f7c7f2'), AIMessage(content='\\n\\nPlease let me know if you would like to book an appointment with a specific doctor or if you have any other questions.', additional_kwargs={}, response_metadata={}, name='information_node', id='ac4635ae-446c-4581-8419-def52853a517')], 'id_number': 10232303, 'query': 'can you check if general dentist available on 8 August 2024? if available show available doctors and time slots', 'rephrased_query': 'For patient ID 10232303, are there any general dentists available on August 8, 2024? If so, please list the available doctors and their time slots.', 'current_reasoning': 'The user is asking for doctor availability, so I should route to the information_node.'}\n",
      "*****************called information node************\n",
      "**************************below is my state right after entering****************************\n",
      "{'messages': [HumanMessage(content='For patient ID 10232303, are there any general dentists available on August 8, 2024? If so, please list the available doctors and their time slots.', additional_kwargs={}, response_metadata={}, name='query_rewriter_node', id='1e5b6237-ab7a-4f35-94f7-e9e9c02527e3'), AIMessage(content='Yes, there are general dentists available on August 8, 2024. Here are the available doctors and their time slots:\\n\\n**Dr. John Doe:**\\n* 8:00 AM\\n* 9:00 AM\\n* 9:30 AM\\n* 10:00 AM\\n* 12:00 PM\\n* 1:30 PM\\n* 2:00 PM\\n* 3:00 PM\\n* 3:30 PM\\n* 4:00 PM\\n* 4:30 PM\\n\\n**Dr. Emily Johnson:**\\n* 8:00 AM\\n* 8:30 AM\\n* 10:00 AM\\n* 10:30 AM\\n* 11:00 AM\\n* 11:30 AM\\n* 12:00 PM\\n* 12:30 PM\\n* 1:30 PM\\n* 2:30 PM\\n* 3:30 PM\\n* 4:30 PM', additional_kwargs={}, response_metadata={}, name='information_node', id='e3ca48da-e0a6-4f32-8e77-a3d1c5f7c7f2'), AIMessage(content='\\n\\nPlease let me know if you would like to book an appointment with a specific doctor or if you have any other questions.', additional_kwargs={}, response_metadata={}, name='information_node', id='ac4635ae-446c-4581-8419-def52853a517'), AIMessage(content='', additional_kwargs={}, response_metadata={}, name='information_node', id='4f1f66c5-0f63-481f-acce-09f2522c2d97')], 'id_number': 10232303, 'query': 'can you check if general dentist available on 8 August 2024? if available show available doctors and time slots', 'rephrased_query': 'For patient ID 10232303, are there any general dentists available on August 8, 2024? If so, please list the available doctors and their time slots.', 'current_reasoning': 'The user is asking for information about doctor availability, so I should route to the information_node to provide the requested information.'}\n",
      "***********************this is my message*****************************************\n",
      "[{'role': 'system', 'content': \"You are a supervisor tasked with managing a conversation between the following workers. ### SPECIALIZED ASSISTANT:\\nWORKER: information_node \\nDESCRIPTION: Specialized agent to provide information related to doctor availability or FAQs about the hospital.\\n\\nWORKER: booking_node \\nDESCRIPTION: Specialized agent to book, cancel, or reschedule appointments.\\n\\nWORKER: FINISH \\nDESCRIPTION: Use FINISH when the user's query has been fully resolved or no further action is required\\n\\nYour primary role is to help the user make an appointment with a doctor and provide updates on FAQs and doctor availability. If the user requests information about doctors or hospital FAQs, delegate to the information_node. If the user wants to book, cancel, or reschedule an appointment, delegate to the booking_node. If the user’s request involves multiple steps (e.g., check availability and then book), first delegate to the confirmation_node to get explicit user confirmation before proceeding. Each worker will perform its task and return results. When all tasks are complete and the user query is resolved, respond with FINISH.\\n\\n**IMPORTANT RULES:**\\n1. If the user's query is fully answered and no further action is required, respond with FINISH.\\n2. If the conversation becomes repetitive, circular, or unproductive, respond with FINISH.\\n3. If the conversation exceeds 10 steps, respond with FINISH to prevent infinite loops.\\n4. Always consider the last worker response and previous context to determine if the user’s intent has been satisfied. If it has, respond with FINISH.\\n\"}, {'role': 'user', 'content': \"user's identification number is 10232303\"}, HumanMessage(content='For patient ID 10232303, are there any general dentists available on August 8, 2024? If so, please list the available doctors and their time slots.', additional_kwargs={}, response_metadata={}, name='query_rewriter_node', id='1e5b6237-ab7a-4f35-94f7-e9e9c02527e3'), AIMessage(content='Yes, there are general dentists available on August 8, 2024. Here are the available doctors and their time slots:\\n\\n**Dr. John Doe:**\\n* 8:00 AM\\n* 9:00 AM\\n* 9:30 AM\\n* 10:00 AM\\n* 12:00 PM\\n* 1:30 PM\\n* 2:00 PM\\n* 3:00 PM\\n* 3:30 PM\\n* 4:00 PM\\n* 4:30 PM\\n\\n**Dr. Emily Johnson:**\\n* 8:00 AM\\n* 8:30 AM\\n* 10:00 AM\\n* 10:30 AM\\n* 11:00 AM\\n* 11:30 AM\\n* 12:00 PM\\n* 12:30 PM\\n* 1:30 PM\\n* 2:30 PM\\n* 3:30 PM\\n* 4:30 PM', additional_kwargs={}, response_metadata={}, name='information_node', id='e3ca48da-e0a6-4f32-8e77-a3d1c5f7c7f2'), AIMessage(content='\\n\\nPlease let me know if you would like to book an appointment with a specific doctor or if you have any other questions.', additional_kwargs={}, response_metadata={}, name='information_node', id='ac4635ae-446c-4581-8419-def52853a517'), AIMessage(content='', additional_kwargs={}, response_metadata={}, name='information_node', id='4f1f66c5-0f63-481f-acce-09f2522c2d97')]\n"
     ]
    }
   ],
   "source": [
    "state = {\n",
    "    'query': 'can you check if general dentist available on 8 August 2024? if available show available doctors and time slots',\n",
    "    'id_number':10232303\n",
    "    }\n",
    "result = app.invoke(state)"
   ]
  },
  {
   "cell_type": "code",
   "execution_count": 28,
   "id": "2eff696b",
   "metadata": {},
   "outputs": [
    {
     "name": "stdout",
     "output_type": "stream",
     "text": [
      "\n",
      "\n",
      "Please let me know if you would like to book an appointment with a specific doctor or if you have any other questions.\n"
     ]
    }
   ],
   "source": [
    "print(result[\"messages\"][-1].content)"
   ]
  },
  {
   "cell_type": "code",
   "execution_count": 29,
   "id": "338e3cc6",
   "metadata": {},
   "outputs": [
    {
     "name": "stdout",
     "output_type": "stream",
     "text": [
      "[HumanMessage(content='For patient ID 10232303, are there any general dentists available on August 8, 2024? If so, please list the available doctors and their time slots.', additional_kwargs={}, response_metadata={}, name='query_rewriter_node', id='1e5b6237-ab7a-4f35-94f7-e9e9c02527e3'), AIMessage(content='Yes, there are general dentists available on August 8, 2024. Here are the available doctors and their time slots:\\n\\n**Dr. John Doe:**\\n* 8:00 AM\\n* 9:00 AM\\n* 9:30 AM\\n* 10:00 AM\\n* 12:00 PM\\n* 1:30 PM\\n* 2:00 PM\\n* 3:00 PM\\n* 3:30 PM\\n* 4:00 PM\\n* 4:30 PM\\n\\n**Dr. Emily Johnson:**\\n* 8:00 AM\\n* 8:30 AM\\n* 10:00 AM\\n* 10:30 AM\\n* 11:00 AM\\n* 11:30 AM\\n* 12:00 PM\\n* 12:30 PM\\n* 1:30 PM\\n* 2:30 PM\\n* 3:30 PM\\n* 4:30 PM', additional_kwargs={}, response_metadata={}, name='information_node', id='e3ca48da-e0a6-4f32-8e77-a3d1c5f7c7f2'), AIMessage(content='\\n\\nPlease let me know if you would like to book an appointment with a specific doctor or if you have any other questions.', additional_kwargs={}, response_metadata={}, name='information_node', id='ac4635ae-446c-4581-8419-def52853a517'), AIMessage(content='', additional_kwargs={}, response_metadata={}, name='information_node', id='4f1f66c5-0f63-481f-acce-09f2522c2d97'), AIMessage(content='\\n\\nPlease let me know if you would like to book an appointment with a specific doctor or if you have any other questions.', additional_kwargs={}, response_metadata={}, id='cb948225-e7e2-4f71-b150-5c2d79ad9dcb')]\n"
     ]
    }
   ],
   "source": [
    "print(result['messages'])"
   ]
  },
  {
   "cell_type": "code",
   "execution_count": 33,
   "id": "84f5de82",
   "metadata": {},
   "outputs": [
    {
     "name": "stderr",
     "output_type": "stream",
     "text": [
      "Error in StreamMessagesHandler.on_chain_end callback: TypeError(\"descriptor '__weakref__' for 'Command' objects doesn't apply to a 'Command' object\")\n"
     ]
    },
    {
     "name": "stdout",
     "output_type": "stream",
     "text": [
      "For patient 10232303, please list the available general dentists and their time slots on 8 August 2024.\n",
      "**************************below is my state right after entering****************************\n",
      "{'messages': [HumanMessage(content='For patient 10232303, please list the available general dentists and their time slots on 8 August 2024.', additional_kwargs={}, response_metadata={}, name='query_rewriter_node', id='4c647b83-ea50-4cc0-9d84-deb0602b7947')], 'id_number': 10232303, 'query': 'can you check if general dentist available on 8 August 2024? if available show available doctors and time slots', 'rephrased_query': 'For patient 10232303, please list the available general dentists and their time slots on 8 August 2024.'}\n",
      "***********************this is my message*****************************************\n",
      "[{'role': 'system', 'content': \"You are a supervisor tasked with managing a conversation between the following workers. ### SPECIALIZED ASSISTANT:\\nWORKER: information_node \\nDESCRIPTION: Specialized agent to provide information related to doctor availability or FAQs about the hospital.\\n\\nWORKER: booking_node \\nDESCRIPTION: Specialized agent to book, cancel, or reschedule appointments.\\n\\nWORKER: FINISH \\nDESCRIPTION: Use FINISH when the user's query has been fully resolved or no further action is required\\n\\nYour primary role is to help the user make an appointment with a doctor and provide updates on FAQs and doctor availability. If the user requests information about doctors or hospital FAQs, delegate to the information_node. If the user wants to book, cancel, or reschedule an appointment, delegate to the booking_node. If the user’s request involves multiple steps (e.g., check availability and then book), first delegate to the confirmation_node to get explicit user confirmation before proceeding. Each worker will perform its task and return results. When all tasks are complete and the user query is resolved, respond with FINISH.\\n\\n**IMPORTANT RULES:**\\n1. If the user's query is fully answered and no further action is required, respond with FINISH.\\n2. If the conversation becomes repetitive, circular, or unproductive, respond with FINISH.\\n3. If the conversation exceeds 10 steps, respond with FINISH to prevent infinite loops.\\n4. Always consider the last worker response and previous context to determine if the user’s intent has been satisfied. If it has, respond with FINISH.\\n\"}, {'role': 'user', 'content': \"user's identification number is 10232303\"}, HumanMessage(content='For patient 10232303, please list the available general dentists and their time slots on 8 August 2024.', additional_kwargs={}, response_metadata={}, name='query_rewriter_node', id='4c647b83-ea50-4cc0-9d84-deb0602b7947')]\n",
      "************below is my query********************\n",
      "For patient 10232303, please list the available general dentists and their time slots on 8 August 2024.\n"
     ]
    },
    {
     "name": "stderr",
     "output_type": "stream",
     "text": [
      "Error in StreamMessagesHandler.on_chain_end callback: TypeError(\"descriptor '__weakref__' for 'Command' objects doesn't apply to a 'Command' object\")\n"
     ]
    },
    {
     "name": "stdout",
     "output_type": "stream",
     "text": [
      "********************************this is my goto*************************\n",
      "information_node\n",
      "********************************\n",
      "The user is asking for doctor availability, which is handled by the information_node.\n",
      "**************************below is my state****************************\n",
      "{'messages': [HumanMessage(content='For patient 10232303, please list the available general dentists and their time slots on 8 August 2024.', additional_kwargs={}, response_metadata={}, name='query_rewriter_node', id='4c647b83-ea50-4cc0-9d84-deb0602b7947')], 'id_number': 10232303, 'query': 'can you check if general dentist available on 8 August 2024? if available show available doctors and time slots', 'rephrased_query': 'For patient 10232303, please list the available general dentists and their time slots on 8 August 2024.'}\n",
      "\n",
      "*****************called information node************\n",
      "\n",
      "The information\n",
      "_node has two functions: check_availability_by_doctor and check_availability_by\n",
      "_specialization.\n",
      "The user is asking for \"general dentists\", which maps to the 'general_dentist' specialization.\n",
      "The user is also providing a date: \"8 August 2024\". This date needs to be converted\n",
      " to the \"DD-MM-YYYY\" format, which is \"08-08-2024\".\n",
      "Therefore, the check_availability_by_specialization function should be called with specialization='general_dentist' and desired\n",
      "_date='08-08-2024'.\n",
      "The patient ID 10232303 is not relevant to the available tools, so it should be ignored.\n",
      "\n",
      "Available slots for general dentist on 08-08-2024 are:\n",
      "Dr. john doe at 8:00 AM\n",
      "Dr. john doe at 9:00 AM\n",
      "Dr. john doe at 9:30 AM\n",
      "Dr. john doe at 10:00 AM\n",
      "Dr. john doe at 12:00 PM\n",
      "Dr. john doe at 1:30 PM\n",
      "Dr. john doe at 2:00 PM\n",
      "Dr. john doe at 3:00 PM\n",
      "Dr. john doe at 3:30 PM\n",
      "Dr. john doe at 4:00 PM\n",
      "Dr. john doe at 4:30 PM\n",
      "Dr. emily johnson at 8:00 AM\n",
      "Dr. emily johnson at 8:30 AM\n",
      "Dr. emily johnson at 10:00 AM\n",
      "Dr. emily johnson at 10:30 AM\n",
      "Dr. emily johnson at 11:00 AM\n",
      "Dr. emily johnson at 11:30 AM\n",
      "Dr. emily johnson at 12:00 PM\n",
      "Dr. emily johnson at 12:30 PM\n",
      "Dr. emily johnson at 1:30 PM\n",
      "Dr. emily johnson at 2:30 PM\n",
      "Dr. emily johnson at 3:30 PM\n",
      "Dr. emily johnson at 4:30 PM.\n",
      "Here\n",
      " are the available general dentists and their time slots on August 8, 2\n",
      "024:\n",
      "\n",
      "Dr. John Doe:\n",
      "8:00 AM, 9:00 AM, 9:30 AM, 10:00 AM, 12:00 PM, \n",
      "1:30 PM, 2:00 PM, 3:00 PM, 3:30 PM, 4:00 PM, 4:30 PM\n",
      "\n",
      "Dr. Emily Johnson:\n",
      "8\n",
      ":00 AM, 8:30 AM, 10:00 AM, 10:30 AM, 11:00 AM, 11:30 AM, 12:\n"
     ]
    },
    {
     "name": "stderr",
     "output_type": "stream",
     "text": [
      "Error in StreamMessagesHandler.on_chain_end callback: TypeError(\"descriptor '__weakref__' for 'Command' objects doesn't apply to a 'Command' object\")\n"
     ]
    },
    {
     "name": "stdout",
     "output_type": "stream",
     "text": [
      "00 PM, 12:30 PM, 1:30 PM, 2:30 PM, 3:30 PM, 4:30 PM\n",
      "**************************below is my state right after entering****************************\n",
      "{'messages': [HumanMessage(content='For patient 10232303, please list the available general dentists and their time slots on 8 August 2024.', additional_kwargs={}, response_metadata={}, name='query_rewriter_node', id='4c647b83-ea50-4cc0-9d84-deb0602b7947'), AIMessage(content='The user is asking for doctor availability, which is handled by the information_node.', additional_kwargs={}, response_metadata={}, name='supervisor_node', id='46e21e9c-5eb2-4917-be3d-59506d7eb40c'), AIMessage(content='Here are the available general dentists and their time slots on August 8, 2024:\\n\\nDr. John Doe:\\n8:00 AM, 9:00 AM, 9:30 AM, 10:00 AM, 12:00 PM, 1:30 PM, 2:00 PM, 3:00 PM, 3:30 PM, 4:00 PM, 4:30 PM\\n\\nDr. Emily Johnson:\\n8:00 AM, 8:30 AM, 10:00 AM, 10:30 AM, 11:00 AM, 11:30 AM, 12:00 PM, 12:30 PM, 1:30 PM, 2:30 PM, 3:30 PM, 4:30 PM', additional_kwargs={}, response_metadata={}, name='information_node', id='8b1b8eb0-df53-4dff-8aaa-787ea408a2d8')], 'id_number': 10232303, 'query': 'can you check if general dentist available on 8 August 2024? if available show available doctors and time slots', 'rephrased_query': 'For patient 10232303, please list the available general dentists and their time slots on 8 August 2024.', 'current_reasoning': 'The user is asking for doctor availability, which is handled by the information_node.'}\n",
      "***********************this is my message*****************************************\n",
      "[{'role': 'system', 'content': \"You are a supervisor tasked with managing a conversation between the following workers. ### SPECIALIZED ASSISTANT:\\nWORKER: information_node \\nDESCRIPTION: Specialized agent to provide information related to doctor availability or FAQs about the hospital.\\n\\nWORKER: booking_node \\nDESCRIPTION: Specialized agent to book, cancel, or reschedule appointments.\\n\\nWORKER: FINISH \\nDESCRIPTION: Use FINISH when the user's query has been fully resolved or no further action is required\\n\\nYour primary role is to help the user make an appointment with a doctor and provide updates on FAQs and doctor availability. If the user requests information about doctors or hospital FAQs, delegate to the information_node. If the user wants to book, cancel, or reschedule an appointment, delegate to the booking_node. If the user’s request involves multiple steps (e.g., check availability and then book), first delegate to the confirmation_node to get explicit user confirmation before proceeding. Each worker will perform its task and return results. When all tasks are complete and the user query is resolved, respond with FINISH.\\n\\n**IMPORTANT RULES:**\\n1. If the user's query is fully answered and no further action is required, respond with FINISH.\\n2. If the conversation becomes repetitive, circular, or unproductive, respond with FINISH.\\n3. If the conversation exceeds 10 steps, respond with FINISH to prevent infinite loops.\\n4. Always consider the last worker response and previous context to determine if the user’s intent has been satisfied. If it has, respond with FINISH.\\n\"}, {'role': 'user', 'content': \"user's identification number is 10232303\"}, HumanMessage(content='For patient 10232303, please list the available general dentists and their time slots on 8 August 2024.', additional_kwargs={}, response_metadata={}, name='query_rewriter_node', id='4c647b83-ea50-4cc0-9d84-deb0602b7947'), AIMessage(content='The user is asking for doctor availability, which is handled by the information_node.', additional_kwargs={}, response_metadata={}, name='supervisor_node', id='46e21e9c-5eb2-4917-be3d-59506d7eb40c'), AIMessage(content='Here are the available general dentists and their time slots on August 8, 2024:\\n\\nDr. John Doe:\\n8:00 AM, 9:00 AM, 9:30 AM, 10:00 AM, 12:00 PM, 1:30 PM, 2:00 PM, 3:00 PM, 3:30 PM, 4:00 PM, 4:30 PM\\n\\nDr. Emily Johnson:\\n8:00 AM, 8:30 AM, 10:00 AM, 10:30 AM, 11:00 AM, 11:30 AM, 12:00 PM, 12:30 PM, 1:30 PM, 2:30 PM, 3:30 PM, 4:30 PM', additional_kwargs={}, response_metadata={}, name='information_node', id='8b1b8eb0-df53-4dff-8aaa-787ea408a2d8')]\n",
      "************below is my query********************\n",
      "Here are the available general dentists and their time slots on August 8, 2024:\n",
      "\n",
      "Dr. John Doe:\n",
      "8:00 AM, 9:00 AM, 9:30 AM, 10:00 AM, 12:00 PM, 1:30 PM, 2:00 PM, 3:00 PM, 3:30 PM, 4:00 PM, 4:30 PM\n",
      "\n",
      "Dr. Emily Johnson:\n",
      "8:00 AM, 8:30 AM, 10:00 AM, 10:30 AM, 11:00 AM, 11:30 AM, 12:00 PM, 12:30 PM, 1:30 PM, 2:30 PM, 3:30 PM, 4:30 PM\n"
     ]
    },
    {
     "name": "stderr",
     "output_type": "stream",
     "text": [
      "Error in StreamMessagesHandler.on_chain_end callback: TypeError(\"descriptor '__weakref__' for 'Command' objects doesn't apply to a 'Command' object\")\n"
     ]
    },
    {
     "name": "stdout",
     "output_type": "stream",
     "text": [
      "********************************this is my goto*************************\n",
      "information_node\n",
      "********************************\n",
      "The user is asking for doctor availability, which is handled by the information_node.\n",
      "**************************below is my state****************************\n",
      "{'messages': [HumanMessage(content='For patient 10232303, please list the available general dentists and their time slots on 8 August 2024.', additional_kwargs={}, response_metadata={}, name='query_rewriter_node', id='4c647b83-ea50-4cc0-9d84-deb0602b7947'), AIMessage(content='The user is asking for doctor availability, which is handled by the information_node.', additional_kwargs={}, response_metadata={}, name='supervisor_node', id='46e21e9c-5eb2-4917-be3d-59506d7eb40c'), AIMessage(content='Here are the available general dentists and their time slots on August 8, 2024:\\n\\nDr. John Doe:\\n8:00 AM, 9:00 AM, 9:30 AM, 10:00 AM, 12:00 PM, 1:30 PM, 2:00 PM, 3:00 PM, 3:30 PM, 4:00 PM, 4:30 PM\\n\\nDr. Emily Johnson:\\n8:00 AM, 8:30 AM, 10:00 AM, 10:30 AM, 11:00 AM, 11:30 AM, 12:00 PM, 12:30 PM, 1:30 PM, 2:30 PM, 3:30 PM, 4:30 PM', additional_kwargs={}, response_metadata={}, name='information_node', id='8b1b8eb0-df53-4dff-8aaa-787ea408a2d8')], 'id_number': 10232303, 'query': 'can you check if general dentist available on 8 August 2024? if available show available doctors and time slots', 'rephrased_query': 'For patient 10232303, please list the available general dentists and their time slots on 8 August 2024.', 'current_reasoning': 'The user is asking for doctor availability, which is handled by the information_node.'}\n",
      "\n",
      "*****************called information node************\n",
      "Here are the available\n",
      " general dentists and their time slots on August 8, 2024\n",
      ":\n",
      "\n",
      "Dr. John Doe:\n",
      "8:00 AM, 9:00 AM, 9:30 AM, 10:00 AM, 12:00 PM, 1:3\n",
      "0 PM, 2:00 PM, 3:00 PM, 3:30 PM, 4:00 PM, 4:30 PM\n",
      "\n",
      "Dr. Emily Johnson:\n",
      "8:00\n",
      " AM, 8:30 AM, 10:00 AM, 10:30 AM, 11:00 AM, 11:30 AM, 12:00 PM\n"
     ]
    },
    {
     "name": "stderr",
     "output_type": "stream",
     "text": [
      "Error in StreamMessagesHandler.on_chain_end callback: TypeError(\"descriptor '__weakref__' for 'Command' objects doesn't apply to a 'Command' object\")\n"
     ]
    },
    {
     "name": "stdout",
     "output_type": "stream",
     "text": [
      ", 12:30 PM, 1:30 PM, 2:30 PM, 3:30 PM, 4:30 PMI can help you with that. Could you please confirm the full\n",
      " date, including the year, for when you'd like to check the availability of general dentists?\n",
      "**************************below is my state right after entering****************************\n",
      "{'messages': [HumanMessage(content='For patient 10232303, please list the available general dentists and their time slots on 8 August 2024.', additional_kwargs={}, response_metadata={}, name='query_rewriter_node', id='4c647b83-ea50-4cc0-9d84-deb0602b7947'), AIMessage(content='The user is asking for doctor availability, which is handled by the information_node.', additional_kwargs={}, response_metadata={}, name='supervisor_node', id='46e21e9c-5eb2-4917-be3d-59506d7eb40c'), AIMessage(content='Here are the available general dentists and their time slots on August 8, 2024:\\n\\nDr. John Doe:\\n8:00 AM, 9:00 AM, 9:30 AM, 10:00 AM, 12:00 PM, 1:30 PM, 2:00 PM, 3:00 PM, 3:30 PM, 4:00 PM, 4:30 PM\\n\\nDr. Emily Johnson:\\n8:00 AM, 8:30 AM, 10:00 AM, 10:30 AM, 11:00 AM, 11:30 AM, 12:00 PM, 12:30 PM, 1:30 PM, 2:30 PM, 3:30 PM, 4:30 PM', additional_kwargs={}, response_metadata={}, name='information_node', id='8b1b8eb0-df53-4dff-8aaa-787ea408a2d8'), AIMessage(content='The user is asking for doctor availability, which is handled by the information_node.', additional_kwargs={}, response_metadata={}, name='supervisor_node', id='119cb0e6-7a48-4c10-b6d5-8b158852801b'), AIMessage(content=\"Here are the available general dentists and their time slots on August 8, 2024:\\n\\nDr. John Doe:\\n8:00 AM, 9:00 AM, 9:30 AM, 10:00 AM, 12:00 PM, 1:30 PM, 2:00 PM, 3:00 PM, 3:30 PM, 4:00 PM, 4:30 PM\\n\\nDr. Emily Johnson:\\n8:00 AM, 8:30 AM, 10:00 AM, 10:30 AM, 11:00 AM, 11:30 AM, 12:00 PM, 12:30 PM, 1:30 PM, 2:30 PM, 3:30 PM, 4:30 PMI can help you with that. Could you please confirm the full date, including the year, for when you'd like to check the availability of general dentists?\", additional_kwargs={}, response_metadata={}, name='information_node', id='645746d3-943d-4bfa-aa21-6c11c7968a32')], 'id_number': 10232303, 'query': 'can you check if general dentist available on 8 August 2024? if available show available doctors and time slots', 'rephrased_query': 'For patient 10232303, please list the available general dentists and their time slots on 8 August 2024.', 'current_reasoning': 'The user is asking for doctor availability, which is handled by the information_node.'}\n",
      "***********************this is my message*****************************************\n",
      "[{'role': 'system', 'content': \"You are a supervisor tasked with managing a conversation between the following workers. ### SPECIALIZED ASSISTANT:\\nWORKER: information_node \\nDESCRIPTION: Specialized agent to provide information related to doctor availability or FAQs about the hospital.\\n\\nWORKER: booking_node \\nDESCRIPTION: Specialized agent to book, cancel, or reschedule appointments.\\n\\nWORKER: FINISH \\nDESCRIPTION: Use FINISH when the user's query has been fully resolved or no further action is required\\n\\nYour primary role is to help the user make an appointment with a doctor and provide updates on FAQs and doctor availability. If the user requests information about doctors or hospital FAQs, delegate to the information_node. If the user wants to book, cancel, or reschedule an appointment, delegate to the booking_node. If the user’s request involves multiple steps (e.g., check availability and then book), first delegate to the confirmation_node to get explicit user confirmation before proceeding. Each worker will perform its task and return results. When all tasks are complete and the user query is resolved, respond with FINISH.\\n\\n**IMPORTANT RULES:**\\n1. If the user's query is fully answered and no further action is required, respond with FINISH.\\n2. If the conversation becomes repetitive, circular, or unproductive, respond with FINISH.\\n3. If the conversation exceeds 10 steps, respond with FINISH to prevent infinite loops.\\n4. Always consider the last worker response and previous context to determine if the user’s intent has been satisfied. If it has, respond with FINISH.\\n\"}, {'role': 'user', 'content': \"user's identification number is 10232303\"}, HumanMessage(content='For patient 10232303, please list the available general dentists and their time slots on 8 August 2024.', additional_kwargs={}, response_metadata={}, name='query_rewriter_node', id='4c647b83-ea50-4cc0-9d84-deb0602b7947'), AIMessage(content='The user is asking for doctor availability, which is handled by the information_node.', additional_kwargs={}, response_metadata={}, name='supervisor_node', id='46e21e9c-5eb2-4917-be3d-59506d7eb40c'), AIMessage(content='Here are the available general dentists and their time slots on August 8, 2024:\\n\\nDr. John Doe:\\n8:00 AM, 9:00 AM, 9:30 AM, 10:00 AM, 12:00 PM, 1:30 PM, 2:00 PM, 3:00 PM, 3:30 PM, 4:00 PM, 4:30 PM\\n\\nDr. Emily Johnson:\\n8:00 AM, 8:30 AM, 10:00 AM, 10:30 AM, 11:00 AM, 11:30 AM, 12:00 PM, 12:30 PM, 1:30 PM, 2:30 PM, 3:30 PM, 4:30 PM', additional_kwargs={}, response_metadata={}, name='information_node', id='8b1b8eb0-df53-4dff-8aaa-787ea408a2d8'), AIMessage(content='The user is asking for doctor availability, which is handled by the information_node.', additional_kwargs={}, response_metadata={}, name='supervisor_node', id='119cb0e6-7a48-4c10-b6d5-8b158852801b'), AIMessage(content=\"Here are the available general dentists and their time slots on August 8, 2024:\\n\\nDr. John Doe:\\n8:00 AM, 9:00 AM, 9:30 AM, 10:00 AM, 12:00 PM, 1:30 PM, 2:00 PM, 3:00 PM, 3:30 PM, 4:00 PM, 4:30 PM\\n\\nDr. Emily Johnson:\\n8:00 AM, 8:30 AM, 10:00 AM, 10:30 AM, 11:00 AM, 11:30 AM, 12:00 PM, 12:30 PM, 1:30 PM, 2:30 PM, 3:30 PM, 4:30 PMI can help you with that. Could you please confirm the full date, including the year, for when you'd like to check the availability of general dentists?\", additional_kwargs={}, response_metadata={}, name='information_node', id='645746d3-943d-4bfa-aa21-6c11c7968a32')]\n",
      "************below is my query********************\n",
      "Here are the available general dentists and their time slots on August 8, 2024:\n",
      "\n",
      "Dr. John Doe:\n",
      "8:00 AM, 9:00 AM, 9:30 AM, 10:00 AM, 12:00 PM, 1:30 PM, 2:00 PM, 3:00 PM, 3:30 PM, 4:00 PM, 4:30 PM\n",
      "\n",
      "Dr. Emily Johnson:\n",
      "8:00 AM, 8:30 AM, 10:00 AM, 10:30 AM, 11:00 AM, 11:30 AM, 12:00 PM, 12:30 PM, 1:30 PM, 2:30 PM, 3:30 PM, 4:30 PMI can help you with that. Could you please confirm the full date, including the year, for when you'd like to check the availability of general dentists?\n"
     ]
    },
    {
     "name": "stderr",
     "output_type": "stream",
     "text": [
      "Error in StreamMessagesHandler.on_chain_end callback: TypeError(\"descriptor '__weakref__' for 'Command' objects doesn't apply to a 'Command' object\")\n"
     ]
    },
    {
     "name": "stdout",
     "output_type": "stream",
     "text": [
      "********************************this is my goto*************************\n",
      "information_node\n",
      "********************************\n",
      "The user is asking for doctor availability, which is handled by the information_node. The previous response was a placeholder and did not actually call the information_node, so the information_node needs to be called to get the actual availability. The user also needs to confirm the date.\n",
      "**************************below is my state****************************\n",
      "{'messages': [HumanMessage(content='For patient 10232303, please list the available general dentists and their time slots on 8 August 2024.', additional_kwargs={}, response_metadata={}, name='query_rewriter_node', id='4c647b83-ea50-4cc0-9d84-deb0602b7947'), AIMessage(content='The user is asking for doctor availability, which is handled by the information_node.', additional_kwargs={}, response_metadata={}, name='supervisor_node', id='46e21e9c-5eb2-4917-be3d-59506d7eb40c'), AIMessage(content='Here are the available general dentists and their time slots on August 8, 2024:\\n\\nDr. John Doe:\\n8:00 AM, 9:00 AM, 9:30 AM, 10:00 AM, 12:00 PM, 1:30 PM, 2:00 PM, 3:00 PM, 3:30 PM, 4:00 PM, 4:30 PM\\n\\nDr. Emily Johnson:\\n8:00 AM, 8:30 AM, 10:00 AM, 10:30 AM, 11:00 AM, 11:30 AM, 12:00 PM, 12:30 PM, 1:30 PM, 2:30 PM, 3:30 PM, 4:30 PM', additional_kwargs={}, response_metadata={}, name='information_node', id='8b1b8eb0-df53-4dff-8aaa-787ea408a2d8'), AIMessage(content='The user is asking for doctor availability, which is handled by the information_node.', additional_kwargs={}, response_metadata={}, name='supervisor_node', id='119cb0e6-7a48-4c10-b6d5-8b158852801b'), AIMessage(content=\"Here are the available general dentists and their time slots on August 8, 2024:\\n\\nDr. John Doe:\\n8:00 AM, 9:00 AM, 9:30 AM, 10:00 AM, 12:00 PM, 1:30 PM, 2:00 PM, 3:00 PM, 3:30 PM, 4:00 PM, 4:30 PM\\n\\nDr. Emily Johnson:\\n8:00 AM, 8:30 AM, 10:00 AM, 10:30 AM, 11:00 AM, 11:30 AM, 12:00 PM, 12:30 PM, 1:30 PM, 2:30 PM, 3:30 PM, 4:30 PMI can help you with that. Could you please confirm the full date, including the year, for when you'd like to check the availability of general dentists?\", additional_kwargs={}, response_metadata={}, name='information_node', id='645746d3-943d-4bfa-aa21-6c11c7968a32')], 'id_number': 10232303, 'query': 'can you check if general dentist available on 8 August 2024? if available show available doctors and time slots', 'rephrased_query': 'For patient 10232303, please list the available general dentists and their time slots on 8 August 2024.', 'current_reasoning': 'The user is asking for doctor availability, which is handled by the information_node.'}\n",
      "\n",
      "*****************called information node************\n",
      "\n",
      "\n",
      "Available slots for general dentist on 08-08-2024 are:\n",
      "Dr. john doe at 8:00 AM\n",
      "Dr. john doe at 9:00 AM\n",
      "Dr. john doe at 9:30 AM\n",
      "Dr. john doe at 10:00 AM\n",
      "Dr. john doe at 12:00 PM\n",
      "Dr. john doe at 1:30 PM\n",
      "Dr. john doe at 2:00 PM\n",
      "Dr. john doe at 3:00 PM\n",
      "Dr. john doe at 3:30 PM\n",
      "Dr. john doe at 4:00 PM\n",
      "Dr. john doe at 4:30 PM\n",
      "Dr. emily johnson at 8:00 AM\n",
      "Dr. emily johnson at 8:30 AM\n",
      "Dr. emily johnson at 10:00 AM\n",
      "Dr. emily johnson at 10:30 AM\n",
      "Dr. emily johnson at 11:00 AM\n",
      "Dr. emily johnson at 11:30 AM\n",
      "Dr. emily johnson at 12:00 PM\n",
      "Dr. emily johnson at 12:30 PM\n",
      "Dr. emily johnson at 1:30 PM\n",
      "Dr. emily johnson at 2:30 PM\n",
      "Dr. emily johnson at 3:30 PM\n",
      "Dr. emily johnson at 4:30 PM.\n",
      "Here are the available general dentists and their time slots on August 8, 2024:\n",
      "\n",
      "Dr. John Doe:\n",
      "8:00 AM, 9:00 AM, 9:30 AM, \n",
      "10:00 AM, 12:00 PM, 1:30 PM, 2:00 PM, 3:00 PM, 3:30 PM, 4:00\n",
      " PM, 4:30 PM\n",
      "\n",
      "Dr. Emily Johnson:\n",
      "8:00 AM, 8:30 AM, 10:00 AM, 10:30 AM, 11:\n",
      "00 AM, 11:30 AM, 12:00 PM, 12:30 PM, 1:30 PM, 2:30 PM, 3:30 PM\n"
     ]
    },
    {
     "name": "stderr",
     "output_type": "stream",
     "text": [
      "Error in StreamMessagesHandler.on_chain_end callback: TypeError(\"descriptor '__weakref__' for 'Command' objects doesn't apply to a 'Command' object\")\n"
     ]
    },
    {
     "name": "stdout",
     "output_type": "stream",
     "text": [
      ", 4:30 PM\n",
      "**************************below is my state right after entering****************************\n",
      "{'messages': [HumanMessage(content='For patient 10232303, please list the available general dentists and their time slots on 8 August 2024.', additional_kwargs={}, response_metadata={}, name='query_rewriter_node', id='4c647b83-ea50-4cc0-9d84-deb0602b7947'), AIMessage(content='The user is asking for doctor availability, which is handled by the information_node.', additional_kwargs={}, response_metadata={}, name='supervisor_node', id='46e21e9c-5eb2-4917-be3d-59506d7eb40c'), AIMessage(content='Here are the available general dentists and their time slots on August 8, 2024:\\n\\nDr. John Doe:\\n8:00 AM, 9:00 AM, 9:30 AM, 10:00 AM, 12:00 PM, 1:30 PM, 2:00 PM, 3:00 PM, 3:30 PM, 4:00 PM, 4:30 PM\\n\\nDr. Emily Johnson:\\n8:00 AM, 8:30 AM, 10:00 AM, 10:30 AM, 11:00 AM, 11:30 AM, 12:00 PM, 12:30 PM, 1:30 PM, 2:30 PM, 3:30 PM, 4:30 PM', additional_kwargs={}, response_metadata={}, name='information_node', id='8b1b8eb0-df53-4dff-8aaa-787ea408a2d8'), AIMessage(content='The user is asking for doctor availability, which is handled by the information_node.', additional_kwargs={}, response_metadata={}, name='supervisor_node', id='119cb0e6-7a48-4c10-b6d5-8b158852801b'), AIMessage(content=\"Here are the available general dentists and their time slots on August 8, 2024:\\n\\nDr. John Doe:\\n8:00 AM, 9:00 AM, 9:30 AM, 10:00 AM, 12:00 PM, 1:30 PM, 2:00 PM, 3:00 PM, 3:30 PM, 4:00 PM, 4:30 PM\\n\\nDr. Emily Johnson:\\n8:00 AM, 8:30 AM, 10:00 AM, 10:30 AM, 11:00 AM, 11:30 AM, 12:00 PM, 12:30 PM, 1:30 PM, 2:30 PM, 3:30 PM, 4:30 PMI can help you with that. Could you please confirm the full date, including the year, for when you'd like to check the availability of general dentists?\", additional_kwargs={}, response_metadata={}, name='information_node', id='645746d3-943d-4bfa-aa21-6c11c7968a32'), AIMessage(content='The user is asking for doctor availability, which is handled by the information_node. The previous response was a placeholder and did not actually call the information_node, so the information_node needs to be called to get the actual availability. The user also needs to confirm the date.', additional_kwargs={}, response_metadata={}, name='supervisor_node', id='b6ab0e48-f792-48bc-b5b5-51ef50210e9b'), AIMessage(content='Here are the available general dentists and their time slots on August 8, 2024:\\n\\nDr. John Doe:\\n8:00 AM, 9:00 AM, 9:30 AM, 10:00 AM, 12:00 PM, 1:30 PM, 2:00 PM, 3:00 PM, 3:30 PM, 4:00 PM, 4:30 PM\\n\\nDr. Emily Johnson:\\n8:00 AM, 8:30 AM, 10:00 AM, 10:30 AM, 11:00 AM, 11:30 AM, 12:00 PM, 12:30 PM, 1:30 PM, 2:30 PM, 3:30 PM, 4:30 PM', additional_kwargs={}, response_metadata={}, name='information_node', id='0a5fd8a4-f7ec-41cc-8edc-7d2947030f9c')], 'id_number': 10232303, 'query': 'can you check if general dentist available on 8 August 2024? if available show available doctors and time slots', 'rephrased_query': 'For patient 10232303, please list the available general dentists and their time slots on 8 August 2024.', 'current_reasoning': 'The user is asking for doctor availability, which is handled by the information_node. The previous response was a placeholder and did not actually call the information_node, so the information_node needs to be called to get the actual availability. The user also needs to confirm the date.'}\n",
      "***********************this is my message*****************************************\n",
      "[{'role': 'system', 'content': \"You are a supervisor tasked with managing a conversation between the following workers. ### SPECIALIZED ASSISTANT:\\nWORKER: information_node \\nDESCRIPTION: Specialized agent to provide information related to doctor availability or FAQs about the hospital.\\n\\nWORKER: booking_node \\nDESCRIPTION: Specialized agent to book, cancel, or reschedule appointments.\\n\\nWORKER: FINISH \\nDESCRIPTION: Use FINISH when the user's query has been fully resolved or no further action is required\\n\\nYour primary role is to help the user make an appointment with a doctor and provide updates on FAQs and doctor availability. If the user requests information about doctors or hospital FAQs, delegate to the information_node. If the user wants to book, cancel, or reschedule an appointment, delegate to the booking_node. If the user’s request involves multiple steps (e.g., check availability and then book), first delegate to the confirmation_node to get explicit user confirmation before proceeding. Each worker will perform its task and return results. When all tasks are complete and the user query is resolved, respond with FINISH.\\n\\n**IMPORTANT RULES:**\\n1. If the user's query is fully answered and no further action is required, respond with FINISH.\\n2. If the conversation becomes repetitive, circular, or unproductive, respond with FINISH.\\n3. If the conversation exceeds 10 steps, respond with FINISH to prevent infinite loops.\\n4. Always consider the last worker response and previous context to determine if the user’s intent has been satisfied. If it has, respond with FINISH.\\n\"}, {'role': 'user', 'content': \"user's identification number is 10232303\"}, HumanMessage(content='For patient 10232303, please list the available general dentists and their time slots on 8 August 2024.', additional_kwargs={}, response_metadata={}, name='query_rewriter_node', id='4c647b83-ea50-4cc0-9d84-deb0602b7947'), AIMessage(content='The user is asking for doctor availability, which is handled by the information_node.', additional_kwargs={}, response_metadata={}, name='supervisor_node', id='46e21e9c-5eb2-4917-be3d-59506d7eb40c'), AIMessage(content='Here are the available general dentists and their time slots on August 8, 2024:\\n\\nDr. John Doe:\\n8:00 AM, 9:00 AM, 9:30 AM, 10:00 AM, 12:00 PM, 1:30 PM, 2:00 PM, 3:00 PM, 3:30 PM, 4:00 PM, 4:30 PM\\n\\nDr. Emily Johnson:\\n8:00 AM, 8:30 AM, 10:00 AM, 10:30 AM, 11:00 AM, 11:30 AM, 12:00 PM, 12:30 PM, 1:30 PM, 2:30 PM, 3:30 PM, 4:30 PM', additional_kwargs={}, response_metadata={}, name='information_node', id='8b1b8eb0-df53-4dff-8aaa-787ea408a2d8'), AIMessage(content='The user is asking for doctor availability, which is handled by the information_node.', additional_kwargs={}, response_metadata={}, name='supervisor_node', id='119cb0e6-7a48-4c10-b6d5-8b158852801b'), AIMessage(content=\"Here are the available general dentists and their time slots on August 8, 2024:\\n\\nDr. John Doe:\\n8:00 AM, 9:00 AM, 9:30 AM, 10:00 AM, 12:00 PM, 1:30 PM, 2:00 PM, 3:00 PM, 3:30 PM, 4:00 PM, 4:30 PM\\n\\nDr. Emily Johnson:\\n8:00 AM, 8:30 AM, 10:00 AM, 10:30 AM, 11:00 AM, 11:30 AM, 12:00 PM, 12:30 PM, 1:30 PM, 2:30 PM, 3:30 PM, 4:30 PMI can help you with that. Could you please confirm the full date, including the year, for when you'd like to check the availability of general dentists?\", additional_kwargs={}, response_metadata={}, name='information_node', id='645746d3-943d-4bfa-aa21-6c11c7968a32'), AIMessage(content='The user is asking for doctor availability, which is handled by the information_node. The previous response was a placeholder and did not actually call the information_node, so the information_node needs to be called to get the actual availability. The user also needs to confirm the date.', additional_kwargs={}, response_metadata={}, name='supervisor_node', id='b6ab0e48-f792-48bc-b5b5-51ef50210e9b'), AIMessage(content='Here are the available general dentists and their time slots on August 8, 2024:\\n\\nDr. John Doe:\\n8:00 AM, 9:00 AM, 9:30 AM, 10:00 AM, 12:00 PM, 1:30 PM, 2:00 PM, 3:00 PM, 3:30 PM, 4:00 PM, 4:30 PM\\n\\nDr. Emily Johnson:\\n8:00 AM, 8:30 AM, 10:00 AM, 10:30 AM, 11:00 AM, 11:30 AM, 12:00 PM, 12:30 PM, 1:30 PM, 2:30 PM, 3:30 PM, 4:30 PM', additional_kwargs={}, response_metadata={}, name='information_node', id='0a5fd8a4-f7ec-41cc-8edc-7d2947030f9c')]\n",
      "************below is my query********************\n",
      "Here are the available general dentists and their time slots on August 8, 2024:\n",
      "\n",
      "Dr. John Doe:\n",
      "8:00 AM, 9:00 AM, 9:30 AM, 10:00 AM, 12:00 PM, 1:30 PM, 2:00 PM, 3:00 PM, 3:30 PM, 4:00 PM, 4:30 PM\n",
      "\n",
      "Dr. Emily Johnson:\n",
      "8:00 AM, 8:30 AM, 10:00 AM, 10:30 AM, 11:00 AM, 11:30 AM, 12:00 PM, 12:30 PM, 1:30 PM, 2:30 PM, 3:30 PM, 4:30 PM\n"
     ]
    },
    {
     "name": "stderr",
     "output_type": "stream",
     "text": [
      "Error in StreamMessagesHandler.on_chain_end callback: TypeError(\"descriptor '__weakref__' for 'Command' objects doesn't apply to a 'Command' object\")\n"
     ]
    },
    {
     "name": "stdout",
     "output_type": "stream",
     "text": [
      "********************************this is my goto*************************\n",
      "\n",
      "information_node\n",
      "********************************\n",
      "The user is asking for doctor availability for a specific date and type of doctor. The information_node is responsible for providing this information. The previous turn did not fully resolve the request by providing the actual availability from the information_node.\n",
      "**************************below is my state****************************\n",
      "{'messages': [HumanMessage(content='For patient 10232303, please list the available general dentists and their time slots on 8 August 2024.', additional_kwargs={}, response_metadata={}, name='query_rewriter_node', id='4c647b83-ea50-4cc0-9d84-deb0602b7947'), AIMessage(content='The user is asking for doctor availability, which is handled by the information_node.', additional_kwargs={}, response_metadata={}, name='supervisor_node', id='46e21e9c-5eb2-4917-be3d-59506d7eb40c'), AIMessage(content='Here are the available general dentists and their time slots on August 8, 2024:\\n\\nDr. John Doe:\\n8:00 AM, 9:00 AM, 9:30 AM, 10:00 AM, 12:00 PM, 1:30 PM, 2:00 PM, 3:00 PM, 3:30 PM, 4:00 PM, 4:30 PM\\n\\nDr. Emily Johnson:\\n8:00 AM, 8:30 AM, 10:00 AM, 10:30 AM, 11:00 AM, 11:30 AM, 12:00 PM, 12:30 PM, 1:30 PM, 2:30 PM, 3:30 PM, 4:30 PM', additional_kwargs={}, response_metadata={}, name='information_node', id='8b1b8eb0-df53-4dff-8aaa-787ea408a2d8'), AIMessage(content='The user is asking for doctor availability, which is handled by the information_node.', additional_kwargs={}, response_metadata={}, name='supervisor_node', id='119cb0e6-7a48-4c10-b6d5-8b158852801b'), AIMessage(content=\"Here are the available general dentists and their time slots on August 8, 2024:\\n\\nDr. John Doe:\\n8:00 AM, 9:00 AM, 9:30 AM, 10:00 AM, 12:00 PM, 1:30 PM, 2:00 PM, 3:00 PM, 3:30 PM, 4:00 PM, 4:30 PM\\n\\nDr. Emily Johnson:\\n8:00 AM, 8:30 AM, 10:00 AM, 10:30 AM, 11:00 AM, 11:30 AM, 12:00 PM, 12:30 PM, 1:30 PM, 2:30 PM, 3:30 PM, 4:30 PMI can help you with that. Could you please confirm the full date, including the year, for when you'd like to check the availability of general dentists?\", additional_kwargs={}, response_metadata={}, name='information_node', id='645746d3-943d-4bfa-aa21-6c11c7968a32'), AIMessage(content='The user is asking for doctor availability, which is handled by the information_node. The previous response was a placeholder and did not actually call the information_node, so the information_node needs to be called to get the actual availability. The user also needs to confirm the date.', additional_kwargs={}, response_metadata={}, name='supervisor_node', id='b6ab0e48-f792-48bc-b5b5-51ef50210e9b'), AIMessage(content='Here are the available general dentists and their time slots on August 8, 2024:\\n\\nDr. John Doe:\\n8:00 AM, 9:00 AM, 9:30 AM, 10:00 AM, 12:00 PM, 1:30 PM, 2:00 PM, 3:00 PM, 3:30 PM, 4:00 PM, 4:30 PM\\n\\nDr. Emily Johnson:\\n8:00 AM, 8:30 AM, 10:00 AM, 10:30 AM, 11:00 AM, 11:30 AM, 12:00 PM, 12:30 PM, 1:30 PM, 2:30 PM, 3:30 PM, 4:30 PM', additional_kwargs={}, response_metadata={}, name='information_node', id='0a5fd8a4-f7ec-41cc-8edc-7d2947030f9c')], 'id_number': 10232303, 'query': 'can you check if general dentist available on 8 August 2024? if available show available doctors and time slots', 'rephrased_query': 'For patient 10232303, please list the available general dentists and their time slots on 8 August 2024.', 'current_reasoning': 'The user is asking for doctor availability, which is handled by the information_node. The previous response was a placeholder and did not actually call the information_node, so the information_node needs to be called to get the actual availability. The user also needs to confirm the date.'}\n",
      "*****************called information node************\n",
      " I should use\n",
      " the `check_availability_by_specialization` tool to get the available general\n"
     ]
    },
    {
     "name": "stderr",
     "output_type": "stream",
     "text": [
      "Error in StreamMessagesHandler.on_chain_end callback: TypeError(\"descriptor '__weakref__' for 'Command' objects doesn't apply to a 'Command' object\")\n"
     ]
    },
    {
     "name": "stdout",
     "output_type": "stream",
     "text": [
      " dentists and their time slots. I also need to confirm the year with the user, as the current date format is ambiguous.I can help you with that. Could you please confirm the full date, including the year, for when you'd like\n",
      " to check the availability of general dentists?\n",
      "**************************below is my state right after entering****************************\n",
      "{'messages': [HumanMessage(content='For patient 10232303, please list the available general dentists and their time slots on 8 August 2024.', additional_kwargs={}, response_metadata={}, name='query_rewriter_node', id='4c647b83-ea50-4cc0-9d84-deb0602b7947'), AIMessage(content='The user is asking for doctor availability, which is handled by the information_node.', additional_kwargs={}, response_metadata={}, name='supervisor_node', id='46e21e9c-5eb2-4917-be3d-59506d7eb40c'), AIMessage(content='Here are the available general dentists and their time slots on August 8, 2024:\\n\\nDr. John Doe:\\n8:00 AM, 9:00 AM, 9:30 AM, 10:00 AM, 12:00 PM, 1:30 PM, 2:00 PM, 3:00 PM, 3:30 PM, 4:00 PM, 4:30 PM\\n\\nDr. Emily Johnson:\\n8:00 AM, 8:30 AM, 10:00 AM, 10:30 AM, 11:00 AM, 11:30 AM, 12:00 PM, 12:30 PM, 1:30 PM, 2:30 PM, 3:30 PM, 4:30 PM', additional_kwargs={}, response_metadata={}, name='information_node', id='8b1b8eb0-df53-4dff-8aaa-787ea408a2d8'), AIMessage(content='The user is asking for doctor availability, which is handled by the information_node.', additional_kwargs={}, response_metadata={}, name='supervisor_node', id='119cb0e6-7a48-4c10-b6d5-8b158852801b'), AIMessage(content=\"Here are the available general dentists and their time slots on August 8, 2024:\\n\\nDr. John Doe:\\n8:00 AM, 9:00 AM, 9:30 AM, 10:00 AM, 12:00 PM, 1:30 PM, 2:00 PM, 3:00 PM, 3:30 PM, 4:00 PM, 4:30 PM\\n\\nDr. Emily Johnson:\\n8:00 AM, 8:30 AM, 10:00 AM, 10:30 AM, 11:00 AM, 11:30 AM, 12:00 PM, 12:30 PM, 1:30 PM, 2:30 PM, 3:30 PM, 4:30 PMI can help you with that. Could you please confirm the full date, including the year, for when you'd like to check the availability of general dentists?\", additional_kwargs={}, response_metadata={}, name='information_node', id='645746d3-943d-4bfa-aa21-6c11c7968a32'), AIMessage(content='The user is asking for doctor availability, which is handled by the information_node. The previous response was a placeholder and did not actually call the information_node, so the information_node needs to be called to get the actual availability. The user also needs to confirm the date.', additional_kwargs={}, response_metadata={}, name='supervisor_node', id='b6ab0e48-f792-48bc-b5b5-51ef50210e9b'), AIMessage(content='Here are the available general dentists and their time slots on August 8, 2024:\\n\\nDr. John Doe:\\n8:00 AM, 9:00 AM, 9:30 AM, 10:00 AM, 12:00 PM, 1:30 PM, 2:00 PM, 3:00 PM, 3:30 PM, 4:00 PM, 4:30 PM\\n\\nDr. Emily Johnson:\\n8:00 AM, 8:30 AM, 10:00 AM, 10:30 AM, 11:00 AM, 11:30 AM, 12:00 PM, 12:30 PM, 1:30 PM, 2:30 PM, 3:30 PM, 4:30 PM', additional_kwargs={}, response_metadata={}, name='information_node', id='0a5fd8a4-f7ec-41cc-8edc-7d2947030f9c'), AIMessage(content='The user is asking for doctor availability for a specific date and type of doctor. The information_node is responsible for providing this information. The previous turn did not fully resolve the request by providing the actual availability from the information_node.', additional_kwargs={}, response_metadata={}, name='supervisor_node', id='0d600f69-9b7c-4fa3-9d2c-c245afe166d9'), AIMessage(content=\" I should use the `check_availability_by_specialization` tool to get the available general dentists and their time slots. I also need to confirm the year with the user, as the current date format is ambiguous.I can help you with that. Could you please confirm the full date, including the year, for when you'd like to check the availability of general dentists?\", additional_kwargs={}, response_metadata={}, name='information_node', id='cff30065-8ae6-42c0-bae7-e62efa7b6375')], 'id_number': 10232303, 'query': 'can you check if general dentist available on 8 August 2024? if available show available doctors and time slots', 'rephrased_query': 'For patient 10232303, please list the available general dentists and their time slots on 8 August 2024.', 'current_reasoning': 'The user is asking for doctor availability for a specific date and type of doctor. The information_node is responsible for providing this information. The previous turn did not fully resolve the request by providing the actual availability from the information_node.'}\n",
      "***********************this is my message*****************************************\n",
      "[{'role': 'system', 'content': \"You are a supervisor tasked with managing a conversation between the following workers. ### SPECIALIZED ASSISTANT:\\nWORKER: information_node \\nDESCRIPTION: Specialized agent to provide information related to doctor availability or FAQs about the hospital.\\n\\nWORKER: booking_node \\nDESCRIPTION: Specialized agent to book, cancel, or reschedule appointments.\\n\\nWORKER: FINISH \\nDESCRIPTION: Use FINISH when the user's query has been fully resolved or no further action is required\\n\\nYour primary role is to help the user make an appointment with a doctor and provide updates on FAQs and doctor availability. If the user requests information about doctors or hospital FAQs, delegate to the information_node. If the user wants to book, cancel, or reschedule an appointment, delegate to the booking_node. If the user’s request involves multiple steps (e.g., check availability and then book), first delegate to the confirmation_node to get explicit user confirmation before proceeding. Each worker will perform its task and return results. When all tasks are complete and the user query is resolved, respond with FINISH.\\n\\n**IMPORTANT RULES:**\\n1. If the user's query is fully answered and no further action is required, respond with FINISH.\\n2. If the conversation becomes repetitive, circular, or unproductive, respond with FINISH.\\n3. If the conversation exceeds 10 steps, respond with FINISH to prevent infinite loops.\\n4. Always consider the last worker response and previous context to determine if the user’s intent has been satisfied. If it has, respond with FINISH.\\n\"}, {'role': 'user', 'content': \"user's identification number is 10232303\"}, HumanMessage(content='For patient 10232303, please list the available general dentists and their time slots on 8 August 2024.', additional_kwargs={}, response_metadata={}, name='query_rewriter_node', id='4c647b83-ea50-4cc0-9d84-deb0602b7947'), AIMessage(content='The user is asking for doctor availability, which is handled by the information_node.', additional_kwargs={}, response_metadata={}, name='supervisor_node', id='46e21e9c-5eb2-4917-be3d-59506d7eb40c'), AIMessage(content='Here are the available general dentists and their time slots on August 8, 2024:\\n\\nDr. John Doe:\\n8:00 AM, 9:00 AM, 9:30 AM, 10:00 AM, 12:00 PM, 1:30 PM, 2:00 PM, 3:00 PM, 3:30 PM, 4:00 PM, 4:30 PM\\n\\nDr. Emily Johnson:\\n8:00 AM, 8:30 AM, 10:00 AM, 10:30 AM, 11:00 AM, 11:30 AM, 12:00 PM, 12:30 PM, 1:30 PM, 2:30 PM, 3:30 PM, 4:30 PM', additional_kwargs={}, response_metadata={}, name='information_node', id='8b1b8eb0-df53-4dff-8aaa-787ea408a2d8'), AIMessage(content='The user is asking for doctor availability, which is handled by the information_node.', additional_kwargs={}, response_metadata={}, name='supervisor_node', id='119cb0e6-7a48-4c10-b6d5-8b158852801b'), AIMessage(content=\"Here are the available general dentists and their time slots on August 8, 2024:\\n\\nDr. John Doe:\\n8:00 AM, 9:00 AM, 9:30 AM, 10:00 AM, 12:00 PM, 1:30 PM, 2:00 PM, 3:00 PM, 3:30 PM, 4:00 PM, 4:30 PM\\n\\nDr. Emily Johnson:\\n8:00 AM, 8:30 AM, 10:00 AM, 10:30 AM, 11:00 AM, 11:30 AM, 12:00 PM, 12:30 PM, 1:30 PM, 2:30 PM, 3:30 PM, 4:30 PMI can help you with that. Could you please confirm the full date, including the year, for when you'd like to check the availability of general dentists?\", additional_kwargs={}, response_metadata={}, name='information_node', id='645746d3-943d-4bfa-aa21-6c11c7968a32'), AIMessage(content='The user is asking for doctor availability, which is handled by the information_node. The previous response was a placeholder and did not actually call the information_node, so the information_node needs to be called to get the actual availability. The user also needs to confirm the date.', additional_kwargs={}, response_metadata={}, name='supervisor_node', id='b6ab0e48-f792-48bc-b5b5-51ef50210e9b'), AIMessage(content='Here are the available general dentists and their time slots on August 8, 2024:\\n\\nDr. John Doe:\\n8:00 AM, 9:00 AM, 9:30 AM, 10:00 AM, 12:00 PM, 1:30 PM, 2:00 PM, 3:00 PM, 3:30 PM, 4:00 PM, 4:30 PM\\n\\nDr. Emily Johnson:\\n8:00 AM, 8:30 AM, 10:00 AM, 10:30 AM, 11:00 AM, 11:30 AM, 12:00 PM, 12:30 PM, 1:30 PM, 2:30 PM, 3:30 PM, 4:30 PM', additional_kwargs={}, response_metadata={}, name='information_node', id='0a5fd8a4-f7ec-41cc-8edc-7d2947030f9c'), AIMessage(content='The user is asking for doctor availability for a specific date and type of doctor. The information_node is responsible for providing this information. The previous turn did not fully resolve the request by providing the actual availability from the information_node.', additional_kwargs={}, response_metadata={}, name='supervisor_node', id='0d600f69-9b7c-4fa3-9d2c-c245afe166d9'), AIMessage(content=\" I should use the `check_availability_by_specialization` tool to get the available general dentists and their time slots. I also need to confirm the year with the user, as the current date format is ambiguous.I can help you with that. Could you please confirm the full date, including the year, for when you'd like to check the availability of general dentists?\", additional_kwargs={}, response_metadata={}, name='information_node', id='cff30065-8ae6-42c0-bae7-e62efa7b6375')]\n",
      "************below is my query********************\n",
      " I should use the `check_availability_by_specialization` tool to get the available general dentists and their time slots. I also need to confirm the year with the user, as the current date format is ambiguous.I can help you with that. Could you please confirm the full date, including the year, for when you'd like to check the availability of general dentists?\n"
     ]
    },
    {
     "name": "stderr",
     "output_type": "stream",
     "text": [
      "Error in StreamMessagesHandler.on_chain_end callback: TypeError(\"descriptor '__weakref__' for 'Command' objects doesn't apply to a 'Command' object\")\n"
     ]
    },
    {
     "name": "stdout",
     "output_type": "stream",
     "text": [
      "********************************this is my goto*************************\n",
      "information_node\n",
      "********************************\n",
      "The user is asking for doctor availability for a specific date and specialization. The `information_node` is responsible for providing this information. I will call the `check_availability_by_specialization` tool within the `information_node` to get the available general dentists and their time slots for August 8, 2024.\n",
      "**************************below is my state****************************\n",
      "{'messages': [HumanMessage(content='For patient 10232303, please list the available general dentists and their time slots on 8 August 2024.', additional_kwargs={}, response_metadata={}, name='query_rewriter_node', id='4c647b83-ea50-4cc0-9d84-deb0602b7947'), AIMessage(content='The user is asking for doctor availability, which is handled by the information_node.', additional_kwargs={}, response_metadata={}, name='supervisor_node', id='46e21e9c-5eb2-4917-be3d-59506d7eb40c'), AIMessage(content='Here are the available general dentists and their time slots on August 8, 2024:\\n\\nDr. John Doe:\\n8:00 AM, 9:00 AM, 9:30 AM, 10:00 AM, 12:00 PM, 1:30 PM, 2:00 PM, 3:00 PM, 3:30 PM, 4:00 PM, 4:30 PM\\n\\nDr. Emily Johnson:\\n8:00 AM, 8:30 AM, 10:00 AM, 10:30 AM, 11:00 AM, 11:30 AM, 12:00 PM, 12:30 PM, 1:30 PM, 2:30 PM, 3:30 PM, 4:30 PM', additional_kwargs={}, response_metadata={}, name='information_node', id='8b1b8eb0-df53-4dff-8aaa-787ea408a2d8'), AIMessage(content='The user is asking for doctor availability, which is handled by the information_node.', additional_kwargs={}, response_metadata={}, name='supervisor_node', id='119cb0e6-7a48-4c10-b6d5-8b158852801b'), AIMessage(content=\"Here are the available general dentists and their time slots on August 8, 2024:\\n\\nDr. John Doe:\\n8:00 AM, 9:00 AM, 9:30 AM, 10:00 AM, 12:00 PM, 1:30 PM, 2:00 PM, 3:00 PM, 3:30 PM, 4:00 PM, 4:30 PM\\n\\nDr. Emily Johnson:\\n8:00 AM, 8:30 AM, 10:00 AM, 10:30 AM, 11:00 AM, 11:30 AM, 12:00 PM, 12:30 PM, 1:30 PM, 2:30 PM, 3:30 PM, 4:30 PMI can help you with that. Could you please confirm the full date, including the year, for when you'd like to check the availability of general dentists?\", additional_kwargs={}, response_metadata={}, name='information_node', id='645746d3-943d-4bfa-aa21-6c11c7968a32'), AIMessage(content='The user is asking for doctor availability, which is handled by the information_node. The previous response was a placeholder and did not actually call the information_node, so the information_node needs to be called to get the actual availability. The user also needs to confirm the date.', additional_kwargs={}, response_metadata={}, name='supervisor_node', id='b6ab0e48-f792-48bc-b5b5-51ef50210e9b'), AIMessage(content='Here are the available general dentists and their time slots on August 8, 2024:\\n\\nDr. John Doe:\\n8:00 AM, 9:00 AM, 9:30 AM, 10:00 AM, 12:00 PM, 1:30 PM, 2:00 PM, 3:00 PM, 3:30 PM, 4:00 PM, 4:30 PM\\n\\nDr. Emily Johnson:\\n8:00 AM, 8:30 AM, 10:00 AM, 10:30 AM, 11:00 AM, 11:30 AM, 12:00 PM, 12:30 PM, 1:30 PM, 2:30 PM, 3:30 PM, 4:30 PM', additional_kwargs={}, response_metadata={}, name='information_node', id='0a5fd8a4-f7ec-41cc-8edc-7d2947030f9c'), AIMessage(content='The user is asking for doctor availability for a specific date and type of doctor. The information_node is responsible for providing this information. The previous turn did not fully resolve the request by providing the actual availability from the information_node.', additional_kwargs={}, response_metadata={}, name='supervisor_node', id='0d600f69-9b7c-4fa3-9d2c-c245afe166d9'), AIMessage(content=\" I should use the `check_availability_by_specialization` tool to get the available general dentists and their time slots. I also need to confirm the year with the user, as the current date format is ambiguous.I can help you with that. Could you please confirm the full date, including the year, for when you'd like to check the availability of general dentists?\", additional_kwargs={}, response_metadata={}, name='information_node', id='cff30065-8ae6-42c0-bae7-e62efa7b6375')], 'id_number': 10232303, 'query': 'can you check if general dentist available on 8 August 2024? if available show available doctors and time slots', 'rephrased_query': 'For patient 10232303, please list the available general dentists and their time slots on 8 August 2024.', 'current_reasoning': 'The user is asking for doctor availability for a specific date and type of doctor. The information_node is responsible for providing this information. The previous turn did not fully resolve the request by providing the actual availability from the information_node.'}\n",
      "\n",
      "*****************called information node************\n",
      " Since the year\n",
      " is not explicitly mentioned, I should ask for clarification.I can help you with\n"
     ]
    },
    {
     "name": "stderr",
     "output_type": "stream",
     "text": [
      "Error in StreamMessagesHandler.on_chain_end callback: TypeError(\"descriptor '__weakref__' for 'Command' objects doesn't apply to a 'Command' object\")\n"
     ]
    },
    {
     "name": "stdout",
     "output_type": "stream",
     "text": [
      " that. Could you please confirm the full date, including the year, for when you'd like to check the availability of general dentists?\n",
      "**************************below is my state right after entering****************************\n",
      "{'messages': [HumanMessage(content='For patient 10232303, please list the available general dentists and their time slots on 8 August 2024.', additional_kwargs={}, response_metadata={}, name='query_rewriter_node', id='4c647b83-ea50-4cc0-9d84-deb0602b7947'), AIMessage(content='The user is asking for doctor availability, which is handled by the information_node.', additional_kwargs={}, response_metadata={}, name='supervisor_node', id='46e21e9c-5eb2-4917-be3d-59506d7eb40c'), AIMessage(content='Here are the available general dentists and their time slots on August 8, 2024:\\n\\nDr. John Doe:\\n8:00 AM, 9:00 AM, 9:30 AM, 10:00 AM, 12:00 PM, 1:30 PM, 2:00 PM, 3:00 PM, 3:30 PM, 4:00 PM, 4:30 PM\\n\\nDr. Emily Johnson:\\n8:00 AM, 8:30 AM, 10:00 AM, 10:30 AM, 11:00 AM, 11:30 AM, 12:00 PM, 12:30 PM, 1:30 PM, 2:30 PM, 3:30 PM, 4:30 PM', additional_kwargs={}, response_metadata={}, name='information_node', id='8b1b8eb0-df53-4dff-8aaa-787ea408a2d8'), AIMessage(content='The user is asking for doctor availability, which is handled by the information_node.', additional_kwargs={}, response_metadata={}, name='supervisor_node', id='119cb0e6-7a48-4c10-b6d5-8b158852801b'), AIMessage(content=\"Here are the available general dentists and their time slots on August 8, 2024:\\n\\nDr. John Doe:\\n8:00 AM, 9:00 AM, 9:30 AM, 10:00 AM, 12:00 PM, 1:30 PM, 2:00 PM, 3:00 PM, 3:30 PM, 4:00 PM, 4:30 PM\\n\\nDr. Emily Johnson:\\n8:00 AM, 8:30 AM, 10:00 AM, 10:30 AM, 11:00 AM, 11:30 AM, 12:00 PM, 12:30 PM, 1:30 PM, 2:30 PM, 3:30 PM, 4:30 PMI can help you with that. Could you please confirm the full date, including the year, for when you'd like to check the availability of general dentists?\", additional_kwargs={}, response_metadata={}, name='information_node', id='645746d3-943d-4bfa-aa21-6c11c7968a32'), AIMessage(content='The user is asking for doctor availability, which is handled by the information_node. The previous response was a placeholder and did not actually call the information_node, so the information_node needs to be called to get the actual availability. The user also needs to confirm the date.', additional_kwargs={}, response_metadata={}, name='supervisor_node', id='b6ab0e48-f792-48bc-b5b5-51ef50210e9b'), AIMessage(content='Here are the available general dentists and their time slots on August 8, 2024:\\n\\nDr. John Doe:\\n8:00 AM, 9:00 AM, 9:30 AM, 10:00 AM, 12:00 PM, 1:30 PM, 2:00 PM, 3:00 PM, 3:30 PM, 4:00 PM, 4:30 PM\\n\\nDr. Emily Johnson:\\n8:00 AM, 8:30 AM, 10:00 AM, 10:30 AM, 11:00 AM, 11:30 AM, 12:00 PM, 12:30 PM, 1:30 PM, 2:30 PM, 3:30 PM, 4:30 PM', additional_kwargs={}, response_metadata={}, name='information_node', id='0a5fd8a4-f7ec-41cc-8edc-7d2947030f9c'), AIMessage(content='The user is asking for doctor availability for a specific date and type of doctor. The information_node is responsible for providing this information. The previous turn did not fully resolve the request by providing the actual availability from the information_node.', additional_kwargs={}, response_metadata={}, name='supervisor_node', id='0d600f69-9b7c-4fa3-9d2c-c245afe166d9'), AIMessage(content=\" I should use the `check_availability_by_specialization` tool to get the available general dentists and their time slots. I also need to confirm the year with the user, as the current date format is ambiguous.I can help you with that. Could you please confirm the full date, including the year, for when you'd like to check the availability of general dentists?\", additional_kwargs={}, response_metadata={}, name='information_node', id='cff30065-8ae6-42c0-bae7-e62efa7b6375'), AIMessage(content='The user is asking for doctor availability for a specific date and specialization. The `information_node` is responsible for providing this information. I will call the `check_availability_by_specialization` tool within the `information_node` to get the available general dentists and their time slots for August 8, 2024.', additional_kwargs={}, response_metadata={}, name='supervisor_node', id='06b495ef-104a-410b-8e78-d6ddf6625686'), AIMessage(content=\" Since the year is not explicitly mentioned, I should ask for clarification.I can help you with that. Could you please confirm the full date, including the year, for when you'd like to check the availability of general dentists?\", additional_kwargs={}, response_metadata={}, name='information_node', id='ab1e71b7-4266-4208-9219-cee57897e4c5')], 'id_number': 10232303, 'query': 'can you check if general dentist available on 8 August 2024? if available show available doctors and time slots', 'rephrased_query': 'For patient 10232303, please list the available general dentists and their time slots on 8 August 2024.', 'current_reasoning': 'The user is asking for doctor availability for a specific date and specialization. The `information_node` is responsible for providing this information. I will call the `check_availability_by_specialization` tool within the `information_node` to get the available general dentists and their time slots for August 8, 2024.'}\n",
      "***********************this is my message*****************************************\n",
      "[{'role': 'system', 'content': \"You are a supervisor tasked with managing a conversation between the following workers. ### SPECIALIZED ASSISTANT:\\nWORKER: information_node \\nDESCRIPTION: Specialized agent to provide information related to doctor availability or FAQs about the hospital.\\n\\nWORKER: booking_node \\nDESCRIPTION: Specialized agent to book, cancel, or reschedule appointments.\\n\\nWORKER: FINISH \\nDESCRIPTION: Use FINISH when the user's query has been fully resolved or no further action is required\\n\\nYour primary role is to help the user make an appointment with a doctor and provide updates on FAQs and doctor availability. If the user requests information about doctors or hospital FAQs, delegate to the information_node. If the user wants to book, cancel, or reschedule an appointment, delegate to the booking_node. If the user’s request involves multiple steps (e.g., check availability and then book), first delegate to the confirmation_node to get explicit user confirmation before proceeding. Each worker will perform its task and return results. When all tasks are complete and the user query is resolved, respond with FINISH.\\n\\n**IMPORTANT RULES:**\\n1. If the user's query is fully answered and no further action is required, respond with FINISH.\\n2. If the conversation becomes repetitive, circular, or unproductive, respond with FINISH.\\n3. If the conversation exceeds 10 steps, respond with FINISH to prevent infinite loops.\\n4. Always consider the last worker response and previous context to determine if the user’s intent has been satisfied. If it has, respond with FINISH.\\n\"}, {'role': 'user', 'content': \"user's identification number is 10232303\"}, HumanMessage(content='For patient 10232303, please list the available general dentists and their time slots on 8 August 2024.', additional_kwargs={}, response_metadata={}, name='query_rewriter_node', id='4c647b83-ea50-4cc0-9d84-deb0602b7947'), AIMessage(content='The user is asking for doctor availability, which is handled by the information_node.', additional_kwargs={}, response_metadata={}, name='supervisor_node', id='46e21e9c-5eb2-4917-be3d-59506d7eb40c'), AIMessage(content='Here are the available general dentists and their time slots on August 8, 2024:\\n\\nDr. John Doe:\\n8:00 AM, 9:00 AM, 9:30 AM, 10:00 AM, 12:00 PM, 1:30 PM, 2:00 PM, 3:00 PM, 3:30 PM, 4:00 PM, 4:30 PM\\n\\nDr. Emily Johnson:\\n8:00 AM, 8:30 AM, 10:00 AM, 10:30 AM, 11:00 AM, 11:30 AM, 12:00 PM, 12:30 PM, 1:30 PM, 2:30 PM, 3:30 PM, 4:30 PM', additional_kwargs={}, response_metadata={}, name='information_node', id='8b1b8eb0-df53-4dff-8aaa-787ea408a2d8'), AIMessage(content='The user is asking for doctor availability, which is handled by the information_node.', additional_kwargs={}, response_metadata={}, name='supervisor_node', id='119cb0e6-7a48-4c10-b6d5-8b158852801b'), AIMessage(content=\"Here are the available general dentists and their time slots on August 8, 2024:\\n\\nDr. John Doe:\\n8:00 AM, 9:00 AM, 9:30 AM, 10:00 AM, 12:00 PM, 1:30 PM, 2:00 PM, 3:00 PM, 3:30 PM, 4:00 PM, 4:30 PM\\n\\nDr. Emily Johnson:\\n8:00 AM, 8:30 AM, 10:00 AM, 10:30 AM, 11:00 AM, 11:30 AM, 12:00 PM, 12:30 PM, 1:30 PM, 2:30 PM, 3:30 PM, 4:30 PMI can help you with that. Could you please confirm the full date, including the year, for when you'd like to check the availability of general dentists?\", additional_kwargs={}, response_metadata={}, name='information_node', id='645746d3-943d-4bfa-aa21-6c11c7968a32'), AIMessage(content='The user is asking for doctor availability, which is handled by the information_node. The previous response was a placeholder and did not actually call the information_node, so the information_node needs to be called to get the actual availability. The user also needs to confirm the date.', additional_kwargs={}, response_metadata={}, name='supervisor_node', id='b6ab0e48-f792-48bc-b5b5-51ef50210e9b'), AIMessage(content='Here are the available general dentists and their time slots on August 8, 2024:\\n\\nDr. John Doe:\\n8:00 AM, 9:00 AM, 9:30 AM, 10:00 AM, 12:00 PM, 1:30 PM, 2:00 PM, 3:00 PM, 3:30 PM, 4:00 PM, 4:30 PM\\n\\nDr. Emily Johnson:\\n8:00 AM, 8:30 AM, 10:00 AM, 10:30 AM, 11:00 AM, 11:30 AM, 12:00 PM, 12:30 PM, 1:30 PM, 2:30 PM, 3:30 PM, 4:30 PM', additional_kwargs={}, response_metadata={}, name='information_node', id='0a5fd8a4-f7ec-41cc-8edc-7d2947030f9c'), AIMessage(content='The user is asking for doctor availability for a specific date and type of doctor. The information_node is responsible for providing this information. The previous turn did not fully resolve the request by providing the actual availability from the information_node.', additional_kwargs={}, response_metadata={}, name='supervisor_node', id='0d600f69-9b7c-4fa3-9d2c-c245afe166d9'), AIMessage(content=\" I should use the `check_availability_by_specialization` tool to get the available general dentists and their time slots. I also need to confirm the year with the user, as the current date format is ambiguous.I can help you with that. Could you please confirm the full date, including the year, for when you'd like to check the availability of general dentists?\", additional_kwargs={}, response_metadata={}, name='information_node', id='cff30065-8ae6-42c0-bae7-e62efa7b6375'), AIMessage(content='The user is asking for doctor availability for a specific date and specialization. The `information_node` is responsible for providing this information. I will call the `check_availability_by_specialization` tool within the `information_node` to get the available general dentists and their time slots for August 8, 2024.', additional_kwargs={}, response_metadata={}, name='supervisor_node', id='06b495ef-104a-410b-8e78-d6ddf6625686'), AIMessage(content=\" Since the year is not explicitly mentioned, I should ask for clarification.I can help you with that. Could you please confirm the full date, including the year, for when you'd like to check the availability of general dentists?\", additional_kwargs={}, response_metadata={}, name='information_node', id='ab1e71b7-4266-4208-9219-cee57897e4c5')]\n",
      "************below is my query********************\n",
      " Since the year is not explicitly mentioned, I should ask for clarification.I can help you with that. Could you please confirm the full date, including the year, for when you'd like to check the availability of general dentists?\n"
     ]
    },
    {
     "name": "stderr",
     "output_type": "stream",
     "text": [
      "Retrying langchain_google_genai.chat_models._chat_with_retry.<locals>._chat_with_retry in 2.0 seconds as it raised ResourceExhausted: 429 You exceeded your current quota, please check your plan and billing details. For more information on this error, head to: https://ai.google.dev/gemini-api/docs/rate-limits. [violations {\n",
      "  quota_metric: \"generativelanguage.googleapis.com/generate_content_free_tier_requests\"\n",
      "  quota_id: \"GenerateRequestsPerMinutePerProjectPerModel-FreeTier\"\n",
      "  quota_dimensions {\n",
      "    key: \"model\"\n",
      "    value: \"gemini-2.5-flash\"\n",
      "  }\n",
      "  quota_dimensions {\n",
      "    key: \"location\"\n",
      "    value: \"global\"\n",
      "  }\n",
      "  quota_value: 10\n",
      "}\n",
      ", links {\n",
      "  description: \"Learn more about Gemini API quotas\"\n",
      "  url: \"https://ai.google.dev/gemini-api/docs/rate-limits\"\n",
      "}\n",
      ", retry_delay {\n",
      "  seconds: 42\n",
      "}\n",
      "].\n"
     ]
    },
    {
     "ename": "ResourceExhausted",
     "evalue": "429 You exceeded your current quota, please check your plan and billing details. For more information on this error, head to: https://ai.google.dev/gemini-api/docs/rate-limits. [violations {\n  quota_metric: \"generativelanguage.googleapis.com/generate_content_free_tier_requests\"\n  quota_id: \"GenerateRequestsPerMinutePerProjectPerModel-FreeTier\"\n  quota_dimensions {\n    key: \"model\"\n    value: \"gemini-2.5-flash\"\n  }\n  quota_dimensions {\n    key: \"location\"\n    value: \"global\"\n  }\n  quota_value: 10\n}\n, links {\n  description: \"Learn more about Gemini API quotas\"\n  url: \"https://ai.google.dev/gemini-api/docs/rate-limits\"\n}\n, retry_delay {\n  seconds: 39\n}\n]",
     "output_type": "error",
     "traceback": [
      "\u001b[1;31m---------------------------------------------------------------------------\u001b[0m",
      "\u001b[1;31mResourceExhausted\u001b[0m                         Traceback (most recent call last)",
      "Cell \u001b[1;32mIn[33], line 6\u001b[0m\n\u001b[0;32m      1\u001b[0m events \u001b[38;5;241m=\u001b[39m app\u001b[38;5;241m.\u001b[39mstream({\n\u001b[0;32m      2\u001b[0m     \u001b[38;5;124m'\u001b[39m\u001b[38;5;124mquery\u001b[39m\u001b[38;5;124m'\u001b[39m: \u001b[38;5;124m'\u001b[39m\u001b[38;5;124mcan you check if general dentist available on 8 August 2024? if available show available doctors and time slots\u001b[39m\u001b[38;5;124m'\u001b[39m,\n\u001b[0;32m      3\u001b[0m     \u001b[38;5;124m'\u001b[39m\u001b[38;5;124mid_number\u001b[39m\u001b[38;5;124m'\u001b[39m:\u001b[38;5;241m10232303\u001b[39m\n\u001b[0;32m      4\u001b[0m     },stream_mode\u001b[38;5;241m=\u001b[39m\u001b[38;5;124m\"\u001b[39m\u001b[38;5;124mmessages\u001b[39m\u001b[38;5;124m\"\u001b[39m)\n\u001b[1;32m----> 6\u001b[0m \u001b[38;5;28;01mfor\u001b[39;00m msg_chunk,metadata \u001b[38;5;129;01min\u001b[39;00m events:\n\u001b[0;32m      7\u001b[0m     \u001b[38;5;28mprint\u001b[39m(msg_chunk\u001b[38;5;241m.\u001b[39mcontent)\n",
      "File \u001b[1;32me:\\DocuBot\\venv\\lib\\site-packages\\langgraph\\pregel\\__init__.py:1724\u001b[0m, in \u001b[0;36mPregel.stream\u001b[1;34m(self, input, config, stream_mode, output_keys, interrupt_before, interrupt_after, debug, subgraphs)\u001b[0m\n\u001b[0;32m   1718\u001b[0m     \u001b[38;5;66;03m# Similarly to Bulk Synchronous Parallel / Pregel model\u001b[39;00m\n\u001b[0;32m   1719\u001b[0m     \u001b[38;5;66;03m# computation proceeds in steps, while there are channel updates.\u001b[39;00m\n\u001b[0;32m   1720\u001b[0m     \u001b[38;5;66;03m# Channel updates from step N are only visible in step N+1\u001b[39;00m\n\u001b[0;32m   1721\u001b[0m     \u001b[38;5;66;03m# channels are guaranteed to be immutable for the duration of the step,\u001b[39;00m\n\u001b[0;32m   1722\u001b[0m     \u001b[38;5;66;03m# with channel updates applied only at the transition between steps.\u001b[39;00m\n\u001b[0;32m   1723\u001b[0m     \u001b[38;5;28;01mwhile\u001b[39;00m loop\u001b[38;5;241m.\u001b[39mtick(input_keys\u001b[38;5;241m=\u001b[39m\u001b[38;5;28mself\u001b[39m\u001b[38;5;241m.\u001b[39minput_channels):\n\u001b[1;32m-> 1724\u001b[0m         \u001b[38;5;28;01mfor\u001b[39;00m _ \u001b[38;5;129;01min\u001b[39;00m runner\u001b[38;5;241m.\u001b[39mtick(\n\u001b[0;32m   1725\u001b[0m             loop\u001b[38;5;241m.\u001b[39mtasks\u001b[38;5;241m.\u001b[39mvalues(),\n\u001b[0;32m   1726\u001b[0m             timeout\u001b[38;5;241m=\u001b[39m\u001b[38;5;28mself\u001b[39m\u001b[38;5;241m.\u001b[39mstep_timeout,\n\u001b[0;32m   1727\u001b[0m             retry_policy\u001b[38;5;241m=\u001b[39m\u001b[38;5;28mself\u001b[39m\u001b[38;5;241m.\u001b[39mretry_policy,\n\u001b[0;32m   1728\u001b[0m             get_waiter\u001b[38;5;241m=\u001b[39mget_waiter,\n\u001b[0;32m   1729\u001b[0m         ):\n\u001b[0;32m   1730\u001b[0m             \u001b[38;5;66;03m# emit output\u001b[39;00m\n\u001b[0;32m   1731\u001b[0m             \u001b[38;5;28;01myield from\u001b[39;00m output()\n\u001b[0;32m   1732\u001b[0m \u001b[38;5;66;03m# emit output\u001b[39;00m\n",
      "File \u001b[1;32me:\\DocuBot\\venv\\lib\\site-packages\\langgraph\\pregel\\runner.py:302\u001b[0m, in \u001b[0;36mPregelRunner.tick\u001b[1;34m(self, tasks, reraise, timeout, retry_policy, get_waiter)\u001b[0m\n\u001b[0;32m    300\u001b[0m \u001b[38;5;28;01myield\u001b[39;00m\n\u001b[0;32m    301\u001b[0m \u001b[38;5;66;03m# panic on failure or timeout\u001b[39;00m\n\u001b[1;32m--> 302\u001b[0m \u001b[43m_panic_or_proceed\u001b[49m\u001b[43m(\u001b[49m\n\u001b[0;32m    303\u001b[0m \u001b[43m    \u001b[49m\u001b[43mfutures\u001b[49m\u001b[38;5;241;43m.\u001b[39;49m\u001b[43mdone\u001b[49m\u001b[38;5;241;43m.\u001b[39;49m\u001b[43munion\u001b[49m\u001b[43m(\u001b[49m\u001b[43mf\u001b[49m\u001b[43m \u001b[49m\u001b[38;5;28;43;01mfor\u001b[39;49;00m\u001b[43m \u001b[49m\u001b[43mf\u001b[49m\u001b[43m,\u001b[49m\u001b[43m \u001b[49m\u001b[43mt\u001b[49m\u001b[43m \u001b[49m\u001b[38;5;129;43;01min\u001b[39;49;00m\u001b[43m \u001b[49m\u001b[43mfutures\u001b[49m\u001b[38;5;241;43m.\u001b[39;49m\u001b[43mitems\u001b[49m\u001b[43m(\u001b[49m\u001b[43m)\u001b[49m\u001b[43m \u001b[49m\u001b[38;5;28;43;01mif\u001b[39;49;00m\u001b[43m \u001b[49m\u001b[43mt\u001b[49m\u001b[43m \u001b[49m\u001b[38;5;129;43;01mis\u001b[39;49;00m\u001b[43m \u001b[49m\u001b[38;5;129;43;01mnot\u001b[39;49;00m\u001b[43m \u001b[49m\u001b[38;5;28;43;01mNone\u001b[39;49;00m\u001b[43m)\u001b[49m\u001b[43m,\u001b[49m\n\u001b[0;32m    304\u001b[0m \u001b[43m    \u001b[49m\u001b[43mpanic\u001b[49m\u001b[38;5;241;43m=\u001b[39;49m\u001b[43mreraise\u001b[49m\u001b[43m,\u001b[49m\n\u001b[0;32m    305\u001b[0m \u001b[43m\u001b[49m\u001b[43m)\u001b[49m\n",
      "File \u001b[1;32me:\\DocuBot\\venv\\lib\\site-packages\\langgraph\\pregel\\runner.py:619\u001b[0m, in \u001b[0;36m_panic_or_proceed\u001b[1;34m(futs, timeout_exc_cls, panic)\u001b[0m\n\u001b[0;32m    617\u001b[0m         \u001b[38;5;66;03m# raise the exception\u001b[39;00m\n\u001b[0;32m    618\u001b[0m         \u001b[38;5;28;01mif\u001b[39;00m panic:\n\u001b[1;32m--> 619\u001b[0m             \u001b[38;5;28;01mraise\u001b[39;00m exc\n\u001b[0;32m    620\u001b[0m \u001b[38;5;28;01mif\u001b[39;00m inflight:\n\u001b[0;32m    621\u001b[0m     \u001b[38;5;66;03m# if we got here means we timed out\u001b[39;00m\n\u001b[0;32m    622\u001b[0m     \u001b[38;5;28;01mwhile\u001b[39;00m inflight:\n\u001b[0;32m    623\u001b[0m         \u001b[38;5;66;03m# cancel all pending tasks\u001b[39;00m\n",
      "File \u001b[1;32me:\\DocuBot\\venv\\lib\\site-packages\\langgraph\\pregel\\executor.py:83\u001b[0m, in \u001b[0;36mBackgroundExecutor.done\u001b[1;34m(self, task)\u001b[0m\n\u001b[0;32m     81\u001b[0m \u001b[38;5;250m\u001b[39m\u001b[38;5;124;03m\"\"\"Remove the task from the tasks dict when it's done.\"\"\"\u001b[39;00m\n\u001b[0;32m     82\u001b[0m \u001b[38;5;28;01mtry\u001b[39;00m:\n\u001b[1;32m---> 83\u001b[0m     \u001b[43mtask\u001b[49m\u001b[38;5;241;43m.\u001b[39;49m\u001b[43mresult\u001b[49m\u001b[43m(\u001b[49m\u001b[43m)\u001b[49m\n\u001b[0;32m     84\u001b[0m \u001b[38;5;28;01mexcept\u001b[39;00m GraphBubbleUp:\n\u001b[0;32m     85\u001b[0m     \u001b[38;5;66;03m# This exception is an interruption signal, not an error\u001b[39;00m\n\u001b[0;32m     86\u001b[0m     \u001b[38;5;66;03m# so we don't want to re-raise it on exit\u001b[39;00m\n\u001b[0;32m     87\u001b[0m     \u001b[38;5;28mself\u001b[39m\u001b[38;5;241m.\u001b[39mtasks\u001b[38;5;241m.\u001b[39mpop(task)\n",
      "File \u001b[1;32m~\\AppData\\Local\\Programs\\Python\\Python310\\lib\\concurrent\\futures\\_base.py:438\u001b[0m, in \u001b[0;36mFuture.result\u001b[1;34m(self, timeout)\u001b[0m\n\u001b[0;32m    436\u001b[0m     \u001b[38;5;28;01mraise\u001b[39;00m CancelledError()\n\u001b[0;32m    437\u001b[0m \u001b[38;5;28;01melif\u001b[39;00m \u001b[38;5;28mself\u001b[39m\u001b[38;5;241m.\u001b[39m_state \u001b[38;5;241m==\u001b[39m FINISHED:\n\u001b[1;32m--> 438\u001b[0m     \u001b[38;5;28;01mreturn\u001b[39;00m \u001b[38;5;28;43mself\u001b[39;49m\u001b[38;5;241;43m.\u001b[39;49m\u001b[43m__get_result\u001b[49m\u001b[43m(\u001b[49m\u001b[43m)\u001b[49m\n\u001b[0;32m    440\u001b[0m \u001b[38;5;28mself\u001b[39m\u001b[38;5;241m.\u001b[39m_condition\u001b[38;5;241m.\u001b[39mwait(timeout)\n\u001b[0;32m    442\u001b[0m \u001b[38;5;28;01mif\u001b[39;00m \u001b[38;5;28mself\u001b[39m\u001b[38;5;241m.\u001b[39m_state \u001b[38;5;129;01min\u001b[39;00m [CANCELLED, CANCELLED_AND_NOTIFIED]:\n",
      "File \u001b[1;32m~\\AppData\\Local\\Programs\\Python\\Python310\\lib\\concurrent\\futures\\_base.py:390\u001b[0m, in \u001b[0;36mFuture.__get_result\u001b[1;34m(self)\u001b[0m\n\u001b[0;32m    388\u001b[0m \u001b[38;5;28;01mif\u001b[39;00m \u001b[38;5;28mself\u001b[39m\u001b[38;5;241m.\u001b[39m_exception:\n\u001b[0;32m    389\u001b[0m     \u001b[38;5;28;01mtry\u001b[39;00m:\n\u001b[1;32m--> 390\u001b[0m         \u001b[38;5;28;01mraise\u001b[39;00m \u001b[38;5;28mself\u001b[39m\u001b[38;5;241m.\u001b[39m_exception\n\u001b[0;32m    391\u001b[0m     \u001b[38;5;28;01mfinally\u001b[39;00m:\n\u001b[0;32m    392\u001b[0m         \u001b[38;5;66;03m# Break a reference cycle with the exception in self._exception\u001b[39;00m\n\u001b[0;32m    393\u001b[0m         \u001b[38;5;28mself\u001b[39m \u001b[38;5;241m=\u001b[39m \u001b[38;5;28;01mNone\u001b[39;00m\n",
      "File \u001b[1;32m~\\AppData\\Local\\Programs\\Python\\Python310\\lib\\concurrent\\futures\\thread.py:58\u001b[0m, in \u001b[0;36m_WorkItem.run\u001b[1;34m(self)\u001b[0m\n\u001b[0;32m     55\u001b[0m     \u001b[38;5;28;01mreturn\u001b[39;00m\n\u001b[0;32m     57\u001b[0m \u001b[38;5;28;01mtry\u001b[39;00m:\n\u001b[1;32m---> 58\u001b[0m     result \u001b[38;5;241m=\u001b[39m \u001b[38;5;28mself\u001b[39m\u001b[38;5;241m.\u001b[39mfn(\u001b[38;5;241m*\u001b[39m\u001b[38;5;28mself\u001b[39m\u001b[38;5;241m.\u001b[39margs, \u001b[38;5;241m*\u001b[39m\u001b[38;5;241m*\u001b[39m\u001b[38;5;28mself\u001b[39m\u001b[38;5;241m.\u001b[39mkwargs)\n\u001b[0;32m     59\u001b[0m \u001b[38;5;28;01mexcept\u001b[39;00m \u001b[38;5;167;01mBaseException\u001b[39;00m \u001b[38;5;28;01mas\u001b[39;00m exc:\n\u001b[0;32m     60\u001b[0m     \u001b[38;5;28mself\u001b[39m\u001b[38;5;241m.\u001b[39mfuture\u001b[38;5;241m.\u001b[39mset_exception(exc)\n",
      "File \u001b[1;32me:\\DocuBot\\venv\\lib\\site-packages\\langgraph\\pregel\\retry.py:40\u001b[0m, in \u001b[0;36mrun_with_retry\u001b[1;34m(task, retry_policy, configurable)\u001b[0m\n\u001b[0;32m     38\u001b[0m     task\u001b[38;5;241m.\u001b[39mwrites\u001b[38;5;241m.\u001b[39mclear()\n\u001b[0;32m     39\u001b[0m     \u001b[38;5;66;03m# run the task\u001b[39;00m\n\u001b[1;32m---> 40\u001b[0m     \u001b[38;5;28;01mreturn\u001b[39;00m \u001b[43mtask\u001b[49m\u001b[38;5;241;43m.\u001b[39;49m\u001b[43mproc\u001b[49m\u001b[38;5;241;43m.\u001b[39;49m\u001b[43minvoke\u001b[49m\u001b[43m(\u001b[49m\u001b[43mtask\u001b[49m\u001b[38;5;241;43m.\u001b[39;49m\u001b[43minput\u001b[49m\u001b[43m,\u001b[49m\u001b[43m \u001b[49m\u001b[43mconfig\u001b[49m\u001b[43m)\u001b[49m\n\u001b[0;32m     41\u001b[0m \u001b[38;5;28;01mexcept\u001b[39;00m ParentCommand \u001b[38;5;28;01mas\u001b[39;00m exc:\n\u001b[0;32m     42\u001b[0m     ns: \u001b[38;5;28mstr\u001b[39m \u001b[38;5;241m=\u001b[39m config[CONF][CONFIG_KEY_CHECKPOINT_NS]\n",
      "File \u001b[1;32me:\\DocuBot\\venv\\lib\\site-packages\\langgraph\\utils\\runnable.py:506\u001b[0m, in \u001b[0;36mRunnableSeq.invoke\u001b[1;34m(self, input, config, **kwargs)\u001b[0m\n\u001b[0;32m    502\u001b[0m config \u001b[38;5;241m=\u001b[39m patch_config(\n\u001b[0;32m    503\u001b[0m     config, callbacks\u001b[38;5;241m=\u001b[39mrun_manager\u001b[38;5;241m.\u001b[39mget_child(\u001b[38;5;124mf\u001b[39m\u001b[38;5;124m\"\u001b[39m\u001b[38;5;124mseq:step:\u001b[39m\u001b[38;5;132;01m{\u001b[39;00mi\u001b[38;5;250m \u001b[39m\u001b[38;5;241m+\u001b[39m\u001b[38;5;250m \u001b[39m\u001b[38;5;241m1\u001b[39m\u001b[38;5;132;01m}\u001b[39;00m\u001b[38;5;124m\"\u001b[39m)\n\u001b[0;32m    504\u001b[0m )\n\u001b[0;32m    505\u001b[0m \u001b[38;5;28;01mif\u001b[39;00m i \u001b[38;5;241m==\u001b[39m \u001b[38;5;241m0\u001b[39m:\n\u001b[1;32m--> 506\u001b[0m     \u001b[38;5;28minput\u001b[39m \u001b[38;5;241m=\u001b[39m step\u001b[38;5;241m.\u001b[39minvoke(\u001b[38;5;28minput\u001b[39m, config, \u001b[38;5;241m*\u001b[39m\u001b[38;5;241m*\u001b[39mkwargs)\n\u001b[0;32m    507\u001b[0m \u001b[38;5;28;01melse\u001b[39;00m:\n\u001b[0;32m    508\u001b[0m     \u001b[38;5;28minput\u001b[39m \u001b[38;5;241m=\u001b[39m step\u001b[38;5;241m.\u001b[39minvoke(\u001b[38;5;28minput\u001b[39m, config)\n",
      "File \u001b[1;32me:\\DocuBot\\venv\\lib\\site-packages\\langgraph\\utils\\runnable.py:270\u001b[0m, in \u001b[0;36mRunnableCallable.invoke\u001b[1;34m(self, input, config, **kwargs)\u001b[0m\n\u001b[0;32m    268\u001b[0m \u001b[38;5;28;01melse\u001b[39;00m:\n\u001b[0;32m    269\u001b[0m     context\u001b[38;5;241m.\u001b[39mrun(_set_config_context, config)\n\u001b[1;32m--> 270\u001b[0m     ret \u001b[38;5;241m=\u001b[39m context\u001b[38;5;241m.\u001b[39mrun(\u001b[38;5;28mself\u001b[39m\u001b[38;5;241m.\u001b[39mfunc, \u001b[38;5;241m*\u001b[39margs, \u001b[38;5;241m*\u001b[39m\u001b[38;5;241m*\u001b[39mkwargs)\n\u001b[0;32m    271\u001b[0m \u001b[38;5;28;01mif\u001b[39;00m \u001b[38;5;28misinstance\u001b[39m(ret, Runnable) \u001b[38;5;129;01mand\u001b[39;00m \u001b[38;5;28mself\u001b[39m\u001b[38;5;241m.\u001b[39mrecurse:\n\u001b[0;32m    272\u001b[0m     \u001b[38;5;28;01mreturn\u001b[39;00m ret\u001b[38;5;241m.\u001b[39minvoke(\u001b[38;5;28minput\u001b[39m, config)\n",
      "Cell \u001b[1;32mIn[30], line 22\u001b[0m, in \u001b[0;36msupervisor_node\u001b[1;34m(state)\u001b[0m\n\u001b[0;32m     19\u001b[0m \u001b[38;5;28mprint\u001b[39m(\u001b[38;5;124m\"\u001b[39m\u001b[38;5;124m************below is my query********************\u001b[39m\u001b[38;5;124m\"\u001b[39m)    \n\u001b[0;32m     20\u001b[0m \u001b[38;5;28mprint\u001b[39m(query)\n\u001b[1;32m---> 22\u001b[0m response \u001b[38;5;241m=\u001b[39m \u001b[43mllm\u001b[49m\u001b[38;5;241;43m.\u001b[39;49m\u001b[43mwith_structured_output\u001b[49m\u001b[43m(\u001b[49m\u001b[43mRouter\u001b[49m\u001b[43m)\u001b[49m\u001b[38;5;241;43m.\u001b[39;49m\u001b[43minvoke\u001b[49m\u001b[43m(\u001b[49m\u001b[43mmessages\u001b[49m\u001b[43m)\u001b[49m\n\u001b[0;32m     24\u001b[0m goto \u001b[38;5;241m=\u001b[39m response\u001b[38;5;241m.\u001b[39mnext\n\u001b[0;32m     26\u001b[0m \u001b[38;5;28mprint\u001b[39m(\u001b[38;5;124m\"\u001b[39m\u001b[38;5;124m********************************this is my goto*************************\u001b[39m\u001b[38;5;124m\"\u001b[39m)\n",
      "File \u001b[1;32me:\\DocuBot\\venv\\lib\\site-packages\\langchain_core\\runnables\\base.py:3080\u001b[0m, in \u001b[0;36mRunnableSequence.invoke\u001b[1;34m(self, input, config, **kwargs)\u001b[0m\n\u001b[0;32m   3078\u001b[0m \u001b[38;5;28;01mwith\u001b[39;00m set_config_context(config) \u001b[38;5;28;01mas\u001b[39;00m context:\n\u001b[0;32m   3079\u001b[0m     \u001b[38;5;28;01mif\u001b[39;00m i \u001b[38;5;241m==\u001b[39m \u001b[38;5;241m0\u001b[39m:\n\u001b[1;32m-> 3080\u001b[0m         input_ \u001b[38;5;241m=\u001b[39m context\u001b[38;5;241m.\u001b[39mrun(step\u001b[38;5;241m.\u001b[39minvoke, input_, config, \u001b[38;5;241m*\u001b[39m\u001b[38;5;241m*\u001b[39mkwargs)\n\u001b[0;32m   3081\u001b[0m     \u001b[38;5;28;01melse\u001b[39;00m:\n\u001b[0;32m   3082\u001b[0m         input_ \u001b[38;5;241m=\u001b[39m context\u001b[38;5;241m.\u001b[39mrun(step\u001b[38;5;241m.\u001b[39minvoke, input_, config)\n",
      "File \u001b[1;32me:\\DocuBot\\venv\\lib\\site-packages\\langchain_core\\runnables\\base.py:5495\u001b[0m, in \u001b[0;36mRunnableBindingBase.invoke\u001b[1;34m(self, input, config, **kwargs)\u001b[0m\n\u001b[0;32m   5488\u001b[0m \u001b[38;5;129m@override\u001b[39m\n\u001b[0;32m   5489\u001b[0m \u001b[38;5;28;01mdef\u001b[39;00m\u001b[38;5;250m \u001b[39m\u001b[38;5;21minvoke\u001b[39m(\n\u001b[0;32m   5490\u001b[0m     \u001b[38;5;28mself\u001b[39m,\n\u001b[1;32m   (...)\u001b[0m\n\u001b[0;32m   5493\u001b[0m     \u001b[38;5;241m*\u001b[39m\u001b[38;5;241m*\u001b[39mkwargs: Optional[Any],\n\u001b[0;32m   5494\u001b[0m ) \u001b[38;5;241m-\u001b[39m\u001b[38;5;241m>\u001b[39m Output:\n\u001b[1;32m-> 5495\u001b[0m     \u001b[38;5;28;01mreturn\u001b[39;00m \u001b[38;5;28mself\u001b[39m\u001b[38;5;241m.\u001b[39mbound\u001b[38;5;241m.\u001b[39minvoke(\n\u001b[0;32m   5496\u001b[0m         \u001b[38;5;28minput\u001b[39m,\n\u001b[0;32m   5497\u001b[0m         \u001b[38;5;28mself\u001b[39m\u001b[38;5;241m.\u001b[39m_merge_configs(config),\n\u001b[0;32m   5498\u001b[0m         \u001b[38;5;241m*\u001b[39m\u001b[38;5;241m*\u001b[39m{\u001b[38;5;241m*\u001b[39m\u001b[38;5;241m*\u001b[39m\u001b[38;5;28mself\u001b[39m\u001b[38;5;241m.\u001b[39mkwargs, \u001b[38;5;241m*\u001b[39m\u001b[38;5;241m*\u001b[39mkwargs},\n\u001b[0;32m   5499\u001b[0m     )\n",
      "File \u001b[1;32me:\\DocuBot\\venv\\lib\\site-packages\\langchain_core\\language_models\\chat_models.py:393\u001b[0m, in \u001b[0;36mBaseChatModel.invoke\u001b[1;34m(self, input, config, stop, **kwargs)\u001b[0m\n\u001b[0;32m    381\u001b[0m \u001b[38;5;129m@override\u001b[39m\n\u001b[0;32m    382\u001b[0m \u001b[38;5;28;01mdef\u001b[39;00m\u001b[38;5;250m \u001b[39m\u001b[38;5;21minvoke\u001b[39m(\n\u001b[0;32m    383\u001b[0m     \u001b[38;5;28mself\u001b[39m,\n\u001b[1;32m   (...)\u001b[0m\n\u001b[0;32m    388\u001b[0m     \u001b[38;5;241m*\u001b[39m\u001b[38;5;241m*\u001b[39mkwargs: Any,\n\u001b[0;32m    389\u001b[0m ) \u001b[38;5;241m-\u001b[39m\u001b[38;5;241m>\u001b[39m BaseMessage:\n\u001b[0;32m    390\u001b[0m     config \u001b[38;5;241m=\u001b[39m ensure_config(config)\n\u001b[0;32m    391\u001b[0m     \u001b[38;5;28;01mreturn\u001b[39;00m cast(\n\u001b[0;32m    392\u001b[0m         \u001b[38;5;124m\"\u001b[39m\u001b[38;5;124mChatGeneration\u001b[39m\u001b[38;5;124m\"\u001b[39m,\n\u001b[1;32m--> 393\u001b[0m         \u001b[38;5;28mself\u001b[39m\u001b[38;5;241m.\u001b[39mgenerate_prompt(\n\u001b[0;32m    394\u001b[0m             [\u001b[38;5;28mself\u001b[39m\u001b[38;5;241m.\u001b[39m_convert_input(\u001b[38;5;28minput\u001b[39m)],\n\u001b[0;32m    395\u001b[0m             stop\u001b[38;5;241m=\u001b[39mstop,\n\u001b[0;32m    396\u001b[0m             callbacks\u001b[38;5;241m=\u001b[39mconfig\u001b[38;5;241m.\u001b[39mget(\u001b[38;5;124m\"\u001b[39m\u001b[38;5;124mcallbacks\u001b[39m\u001b[38;5;124m\"\u001b[39m),\n\u001b[0;32m    397\u001b[0m             tags\u001b[38;5;241m=\u001b[39mconfig\u001b[38;5;241m.\u001b[39mget(\u001b[38;5;124m\"\u001b[39m\u001b[38;5;124mtags\u001b[39m\u001b[38;5;124m\"\u001b[39m),\n\u001b[0;32m    398\u001b[0m             metadata\u001b[38;5;241m=\u001b[39mconfig\u001b[38;5;241m.\u001b[39mget(\u001b[38;5;124m\"\u001b[39m\u001b[38;5;124mmetadata\u001b[39m\u001b[38;5;124m\"\u001b[39m),\n\u001b[0;32m    399\u001b[0m             run_name\u001b[38;5;241m=\u001b[39mconfig\u001b[38;5;241m.\u001b[39mget(\u001b[38;5;124m\"\u001b[39m\u001b[38;5;124mrun_name\u001b[39m\u001b[38;5;124m\"\u001b[39m),\n\u001b[0;32m    400\u001b[0m             run_id\u001b[38;5;241m=\u001b[39mconfig\u001b[38;5;241m.\u001b[39mpop(\u001b[38;5;124m\"\u001b[39m\u001b[38;5;124mrun_id\u001b[39m\u001b[38;5;124m\"\u001b[39m, \u001b[38;5;28;01mNone\u001b[39;00m),\n\u001b[0;32m    401\u001b[0m             \u001b[38;5;241m*\u001b[39m\u001b[38;5;241m*\u001b[39mkwargs,\n\u001b[0;32m    402\u001b[0m         )\u001b[38;5;241m.\u001b[39mgenerations[\u001b[38;5;241m0\u001b[39m][\u001b[38;5;241m0\u001b[39m],\n\u001b[0;32m    403\u001b[0m     )\u001b[38;5;241m.\u001b[39mmessage\n",
      "File \u001b[1;32me:\\DocuBot\\venv\\lib\\site-packages\\langchain_core\\language_models\\chat_models.py:1019\u001b[0m, in \u001b[0;36mBaseChatModel.generate_prompt\u001b[1;34m(self, prompts, stop, callbacks, **kwargs)\u001b[0m\n\u001b[0;32m   1010\u001b[0m \u001b[38;5;129m@override\u001b[39m\n\u001b[0;32m   1011\u001b[0m \u001b[38;5;28;01mdef\u001b[39;00m\u001b[38;5;250m \u001b[39m\u001b[38;5;21mgenerate_prompt\u001b[39m(\n\u001b[0;32m   1012\u001b[0m     \u001b[38;5;28mself\u001b[39m,\n\u001b[1;32m   (...)\u001b[0m\n\u001b[0;32m   1016\u001b[0m     \u001b[38;5;241m*\u001b[39m\u001b[38;5;241m*\u001b[39mkwargs: Any,\n\u001b[0;32m   1017\u001b[0m ) \u001b[38;5;241m-\u001b[39m\u001b[38;5;241m>\u001b[39m LLMResult:\n\u001b[0;32m   1018\u001b[0m     prompt_messages \u001b[38;5;241m=\u001b[39m [p\u001b[38;5;241m.\u001b[39mto_messages() \u001b[38;5;28;01mfor\u001b[39;00m p \u001b[38;5;129;01min\u001b[39;00m prompts]\n\u001b[1;32m-> 1019\u001b[0m     \u001b[38;5;28;01mreturn\u001b[39;00m \u001b[38;5;28mself\u001b[39m\u001b[38;5;241m.\u001b[39mgenerate(prompt_messages, stop\u001b[38;5;241m=\u001b[39mstop, callbacks\u001b[38;5;241m=\u001b[39mcallbacks, \u001b[38;5;241m*\u001b[39m\u001b[38;5;241m*\u001b[39mkwargs)\n",
      "File \u001b[1;32me:\\DocuBot\\venv\\lib\\site-packages\\langchain_core\\language_models\\chat_models.py:837\u001b[0m, in \u001b[0;36mBaseChatModel.generate\u001b[1;34m(self, messages, stop, callbacks, tags, metadata, run_name, run_id, **kwargs)\u001b[0m\n\u001b[0;32m    834\u001b[0m \u001b[38;5;28;01mfor\u001b[39;00m i, m \u001b[38;5;129;01min\u001b[39;00m \u001b[38;5;28menumerate\u001b[39m(input_messages):\n\u001b[0;32m    835\u001b[0m     \u001b[38;5;28;01mtry\u001b[39;00m:\n\u001b[0;32m    836\u001b[0m         results\u001b[38;5;241m.\u001b[39mappend(\n\u001b[1;32m--> 837\u001b[0m             \u001b[38;5;28mself\u001b[39m\u001b[38;5;241m.\u001b[39m_generate_with_cache(\n\u001b[0;32m    838\u001b[0m                 m,\n\u001b[0;32m    839\u001b[0m                 stop\u001b[38;5;241m=\u001b[39mstop,\n\u001b[0;32m    840\u001b[0m                 run_manager\u001b[38;5;241m=\u001b[39mrun_managers[i] \u001b[38;5;28;01mif\u001b[39;00m run_managers \u001b[38;5;28;01melse\u001b[39;00m \u001b[38;5;28;01mNone\u001b[39;00m,\n\u001b[0;32m    841\u001b[0m                 \u001b[38;5;241m*\u001b[39m\u001b[38;5;241m*\u001b[39mkwargs,\n\u001b[0;32m    842\u001b[0m             )\n\u001b[0;32m    843\u001b[0m         )\n\u001b[0;32m    844\u001b[0m     \u001b[38;5;28;01mexcept\u001b[39;00m \u001b[38;5;167;01mBaseException\u001b[39;00m \u001b[38;5;28;01mas\u001b[39;00m e:\n\u001b[0;32m    845\u001b[0m         \u001b[38;5;28;01mif\u001b[39;00m run_managers:\n",
      "File \u001b[1;32me:\\DocuBot\\venv\\lib\\site-packages\\langchain_core\\language_models\\chat_models.py:1074\u001b[0m, in \u001b[0;36mBaseChatModel._generate_with_cache\u001b[1;34m(self, messages, stop, run_manager, **kwargs)\u001b[0m\n\u001b[0;32m   1068\u001b[0m \u001b[38;5;28;01mif\u001b[39;00m \u001b[38;5;28mself\u001b[39m\u001b[38;5;241m.\u001b[39m_should_stream(\n\u001b[0;32m   1069\u001b[0m     async_api\u001b[38;5;241m=\u001b[39m\u001b[38;5;28;01mFalse\u001b[39;00m,\n\u001b[0;32m   1070\u001b[0m     run_manager\u001b[38;5;241m=\u001b[39mrun_manager,\n\u001b[0;32m   1071\u001b[0m     \u001b[38;5;241m*\u001b[39m\u001b[38;5;241m*\u001b[39mkwargs,\n\u001b[0;32m   1072\u001b[0m ):\n\u001b[0;32m   1073\u001b[0m     chunks: \u001b[38;5;28mlist\u001b[39m[ChatGenerationChunk] \u001b[38;5;241m=\u001b[39m []\n\u001b[1;32m-> 1074\u001b[0m     \u001b[38;5;28;01mfor\u001b[39;00m chunk \u001b[38;5;129;01min\u001b[39;00m \u001b[38;5;28mself\u001b[39m\u001b[38;5;241m.\u001b[39m_stream(messages, stop\u001b[38;5;241m=\u001b[39mstop, \u001b[38;5;241m*\u001b[39m\u001b[38;5;241m*\u001b[39mkwargs):\n\u001b[0;32m   1075\u001b[0m         chunk\u001b[38;5;241m.\u001b[39mmessage\u001b[38;5;241m.\u001b[39mresponse_metadata \u001b[38;5;241m=\u001b[39m _gen_info_and_msg_metadata(chunk)\n\u001b[0;32m   1076\u001b[0m         \u001b[38;5;28;01mif\u001b[39;00m run_manager:\n",
      "File \u001b[1;32me:\\DocuBot\\venv\\lib\\site-packages\\langchain_google_genai\\chat_models.py:1034\u001b[0m, in \u001b[0;36mChatGoogleGenerativeAI._stream\u001b[1;34m(self, messages, stop, run_manager, tools, functions, safety_settings, tool_config, generation_config, cached_content, tool_choice, **kwargs)\u001b[0m\n\u001b[0;32m   1008\u001b[0m \u001b[38;5;28;01mdef\u001b[39;00m\u001b[38;5;250m \u001b[39m\u001b[38;5;21m_stream\u001b[39m(\n\u001b[0;32m   1009\u001b[0m     \u001b[38;5;28mself\u001b[39m,\n\u001b[0;32m   1010\u001b[0m     messages: List[BaseMessage],\n\u001b[1;32m   (...)\u001b[0m\n\u001b[0;32m   1021\u001b[0m     \u001b[38;5;241m*\u001b[39m\u001b[38;5;241m*\u001b[39mkwargs: Any,\n\u001b[0;32m   1022\u001b[0m ) \u001b[38;5;241m-\u001b[39m\u001b[38;5;241m>\u001b[39m Iterator[ChatGenerationChunk]:\n\u001b[0;32m   1023\u001b[0m     request \u001b[38;5;241m=\u001b[39m \u001b[38;5;28mself\u001b[39m\u001b[38;5;241m.\u001b[39m_prepare_request(\n\u001b[0;32m   1024\u001b[0m         messages,\n\u001b[0;32m   1025\u001b[0m         stop\u001b[38;5;241m=\u001b[39mstop,\n\u001b[1;32m   (...)\u001b[0m\n\u001b[0;32m   1032\u001b[0m         tool_choice\u001b[38;5;241m=\u001b[39mtool_choice,\n\u001b[0;32m   1033\u001b[0m     )\n\u001b[1;32m-> 1034\u001b[0m     response: GenerateContentResponse \u001b[38;5;241m=\u001b[39m _chat_with_retry(\n\u001b[0;32m   1035\u001b[0m         request\u001b[38;5;241m=\u001b[39mrequest,\n\u001b[0;32m   1036\u001b[0m         generation_method\u001b[38;5;241m=\u001b[39m\u001b[38;5;28mself\u001b[39m\u001b[38;5;241m.\u001b[39mclient\u001b[38;5;241m.\u001b[39mstream_generate_content,\n\u001b[0;32m   1037\u001b[0m         \u001b[38;5;241m*\u001b[39m\u001b[38;5;241m*\u001b[39mkwargs,\n\u001b[0;32m   1038\u001b[0m         metadata\u001b[38;5;241m=\u001b[39m\u001b[38;5;28mself\u001b[39m\u001b[38;5;241m.\u001b[39mdefault_metadata,\n\u001b[0;32m   1039\u001b[0m     )\n\u001b[0;32m   1041\u001b[0m     prev_usage_metadata: UsageMetadata \u001b[38;5;241m|\u001b[39m \u001b[38;5;28;01mNone\u001b[39;00m \u001b[38;5;241m=\u001b[39m \u001b[38;5;28;01mNone\u001b[39;00m\n\u001b[0;32m   1042\u001b[0m     \u001b[38;5;28;01mfor\u001b[39;00m chunk \u001b[38;5;129;01min\u001b[39;00m response:\n",
      "File \u001b[1;32me:\\DocuBot\\venv\\lib\\site-packages\\langchain_google_genai\\chat_models.py:196\u001b[0m, in \u001b[0;36m_chat_with_retry\u001b[1;34m(generation_method, **kwargs)\u001b[0m\n\u001b[0;32m    193\u001b[0m     \u001b[38;5;28;01mexcept\u001b[39;00m \u001b[38;5;167;01mException\u001b[39;00m \u001b[38;5;28;01mas\u001b[39;00m e:\n\u001b[0;32m    194\u001b[0m         \u001b[38;5;28;01mraise\u001b[39;00m e\n\u001b[1;32m--> 196\u001b[0m \u001b[38;5;28;01mreturn\u001b[39;00m _chat_with_retry(\u001b[38;5;241m*\u001b[39m\u001b[38;5;241m*\u001b[39mkwargs)\n",
      "File \u001b[1;32me:\\DocuBot\\venv\\lib\\site-packages\\tenacity\\__init__.py:338\u001b[0m, in \u001b[0;36mBaseRetrying.wraps.<locals>.wrapped_f\u001b[1;34m(*args, **kw)\u001b[0m\n\u001b[0;32m    336\u001b[0m copy \u001b[38;5;241m=\u001b[39m \u001b[38;5;28mself\u001b[39m\u001b[38;5;241m.\u001b[39mcopy()\n\u001b[0;32m    337\u001b[0m wrapped_f\u001b[38;5;241m.\u001b[39mstatistics \u001b[38;5;241m=\u001b[39m copy\u001b[38;5;241m.\u001b[39mstatistics  \u001b[38;5;66;03m# type: ignore[attr-defined]\u001b[39;00m\n\u001b[1;32m--> 338\u001b[0m \u001b[38;5;28;01mreturn\u001b[39;00m copy(f, \u001b[38;5;241m*\u001b[39margs, \u001b[38;5;241m*\u001b[39m\u001b[38;5;241m*\u001b[39mkw)\n",
      "File \u001b[1;32me:\\DocuBot\\venv\\lib\\site-packages\\tenacity\\__init__.py:477\u001b[0m, in \u001b[0;36mRetrying.__call__\u001b[1;34m(self, fn, *args, **kwargs)\u001b[0m\n\u001b[0;32m    475\u001b[0m retry_state \u001b[38;5;241m=\u001b[39m RetryCallState(retry_object\u001b[38;5;241m=\u001b[39m\u001b[38;5;28mself\u001b[39m, fn\u001b[38;5;241m=\u001b[39mfn, args\u001b[38;5;241m=\u001b[39margs, kwargs\u001b[38;5;241m=\u001b[39mkwargs)\n\u001b[0;32m    476\u001b[0m \u001b[38;5;28;01mwhile\u001b[39;00m \u001b[38;5;28;01mTrue\u001b[39;00m:\n\u001b[1;32m--> 477\u001b[0m     do \u001b[38;5;241m=\u001b[39m \u001b[38;5;28;43mself\u001b[39;49m\u001b[38;5;241;43m.\u001b[39;49m\u001b[43miter\u001b[49m\u001b[43m(\u001b[49m\u001b[43mretry_state\u001b[49m\u001b[38;5;241;43m=\u001b[39;49m\u001b[43mretry_state\u001b[49m\u001b[43m)\u001b[49m\n\u001b[0;32m    478\u001b[0m     \u001b[38;5;28;01mif\u001b[39;00m \u001b[38;5;28misinstance\u001b[39m(do, DoAttempt):\n\u001b[0;32m    479\u001b[0m         \u001b[38;5;28;01mtry\u001b[39;00m:\n",
      "File \u001b[1;32me:\\DocuBot\\venv\\lib\\site-packages\\tenacity\\__init__.py:378\u001b[0m, in \u001b[0;36mBaseRetrying.iter\u001b[1;34m(self, retry_state)\u001b[0m\n\u001b[0;32m    376\u001b[0m result \u001b[38;5;241m=\u001b[39m \u001b[38;5;28;01mNone\u001b[39;00m\n\u001b[0;32m    377\u001b[0m \u001b[38;5;28;01mfor\u001b[39;00m action \u001b[38;5;129;01min\u001b[39;00m \u001b[38;5;28mself\u001b[39m\u001b[38;5;241m.\u001b[39miter_state\u001b[38;5;241m.\u001b[39mactions:\n\u001b[1;32m--> 378\u001b[0m     result \u001b[38;5;241m=\u001b[39m \u001b[43maction\u001b[49m\u001b[43m(\u001b[49m\u001b[43mretry_state\u001b[49m\u001b[43m)\u001b[49m\n\u001b[0;32m    379\u001b[0m \u001b[38;5;28;01mreturn\u001b[39;00m result\n",
      "File \u001b[1;32me:\\DocuBot\\venv\\lib\\site-packages\\tenacity\\__init__.py:420\u001b[0m, in \u001b[0;36mBaseRetrying._post_stop_check_actions.<locals>.exc_check\u001b[1;34m(rs)\u001b[0m\n\u001b[0;32m    418\u001b[0m retry_exc \u001b[38;5;241m=\u001b[39m \u001b[38;5;28mself\u001b[39m\u001b[38;5;241m.\u001b[39mretry_error_cls(fut)\n\u001b[0;32m    419\u001b[0m \u001b[38;5;28;01mif\u001b[39;00m \u001b[38;5;28mself\u001b[39m\u001b[38;5;241m.\u001b[39mreraise:\n\u001b[1;32m--> 420\u001b[0m     \u001b[38;5;28;01mraise\u001b[39;00m \u001b[43mretry_exc\u001b[49m\u001b[38;5;241;43m.\u001b[39;49m\u001b[43mreraise\u001b[49m\u001b[43m(\u001b[49m\u001b[43m)\u001b[49m\n\u001b[0;32m    421\u001b[0m \u001b[38;5;28;01mraise\u001b[39;00m retry_exc \u001b[38;5;28;01mfrom\u001b[39;00m\u001b[38;5;250m \u001b[39m\u001b[38;5;21;01mfut\u001b[39;00m\u001b[38;5;21;01m.\u001b[39;00m\u001b[38;5;21;01mexception\u001b[39;00m()\n",
      "File \u001b[1;32me:\\DocuBot\\venv\\lib\\site-packages\\tenacity\\__init__.py:187\u001b[0m, in \u001b[0;36mRetryError.reraise\u001b[1;34m(self)\u001b[0m\n\u001b[0;32m    185\u001b[0m \u001b[38;5;28;01mdef\u001b[39;00m\u001b[38;5;250m \u001b[39m\u001b[38;5;21mreraise\u001b[39m(\u001b[38;5;28mself\u001b[39m) \u001b[38;5;241m-\u001b[39m\u001b[38;5;241m>\u001b[39m t\u001b[38;5;241m.\u001b[39mNoReturn:\n\u001b[0;32m    186\u001b[0m     \u001b[38;5;28;01mif\u001b[39;00m \u001b[38;5;28mself\u001b[39m\u001b[38;5;241m.\u001b[39mlast_attempt\u001b[38;5;241m.\u001b[39mfailed:\n\u001b[1;32m--> 187\u001b[0m         \u001b[38;5;28;01mraise\u001b[39;00m \u001b[38;5;28;43mself\u001b[39;49m\u001b[38;5;241;43m.\u001b[39;49m\u001b[43mlast_attempt\u001b[49m\u001b[38;5;241;43m.\u001b[39;49m\u001b[43mresult\u001b[49m\u001b[43m(\u001b[49m\u001b[43m)\u001b[49m\n\u001b[0;32m    188\u001b[0m     \u001b[38;5;28;01mraise\u001b[39;00m \u001b[38;5;28mself\u001b[39m\n",
      "File \u001b[1;32m~\\AppData\\Local\\Programs\\Python\\Python310\\lib\\concurrent\\futures\\_base.py:438\u001b[0m, in \u001b[0;36mFuture.result\u001b[1;34m(self, timeout)\u001b[0m\n\u001b[0;32m    436\u001b[0m     \u001b[38;5;28;01mraise\u001b[39;00m CancelledError()\n\u001b[0;32m    437\u001b[0m \u001b[38;5;28;01melif\u001b[39;00m \u001b[38;5;28mself\u001b[39m\u001b[38;5;241m.\u001b[39m_state \u001b[38;5;241m==\u001b[39m FINISHED:\n\u001b[1;32m--> 438\u001b[0m     \u001b[38;5;28;01mreturn\u001b[39;00m \u001b[38;5;28;43mself\u001b[39;49m\u001b[38;5;241;43m.\u001b[39;49m\u001b[43m__get_result\u001b[49m\u001b[43m(\u001b[49m\u001b[43m)\u001b[49m\n\u001b[0;32m    440\u001b[0m \u001b[38;5;28mself\u001b[39m\u001b[38;5;241m.\u001b[39m_condition\u001b[38;5;241m.\u001b[39mwait(timeout)\n\u001b[0;32m    442\u001b[0m \u001b[38;5;28;01mif\u001b[39;00m \u001b[38;5;28mself\u001b[39m\u001b[38;5;241m.\u001b[39m_state \u001b[38;5;129;01min\u001b[39;00m [CANCELLED, CANCELLED_AND_NOTIFIED]:\n",
      "File \u001b[1;32m~\\AppData\\Local\\Programs\\Python\\Python310\\lib\\concurrent\\futures\\_base.py:390\u001b[0m, in \u001b[0;36mFuture.__get_result\u001b[1;34m(self)\u001b[0m\n\u001b[0;32m    388\u001b[0m \u001b[38;5;28;01mif\u001b[39;00m \u001b[38;5;28mself\u001b[39m\u001b[38;5;241m.\u001b[39m_exception:\n\u001b[0;32m    389\u001b[0m     \u001b[38;5;28;01mtry\u001b[39;00m:\n\u001b[1;32m--> 390\u001b[0m         \u001b[38;5;28;01mraise\u001b[39;00m \u001b[38;5;28mself\u001b[39m\u001b[38;5;241m.\u001b[39m_exception\n\u001b[0;32m    391\u001b[0m     \u001b[38;5;28;01mfinally\u001b[39;00m:\n\u001b[0;32m    392\u001b[0m         \u001b[38;5;66;03m# Break a reference cycle with the exception in self._exception\u001b[39;00m\n\u001b[0;32m    393\u001b[0m         \u001b[38;5;28mself\u001b[39m \u001b[38;5;241m=\u001b[39m \u001b[38;5;28;01mNone\u001b[39;00m\n",
      "File \u001b[1;32me:\\DocuBot\\venv\\lib\\site-packages\\tenacity\\__init__.py:480\u001b[0m, in \u001b[0;36mRetrying.__call__\u001b[1;34m(self, fn, *args, **kwargs)\u001b[0m\n\u001b[0;32m    478\u001b[0m \u001b[38;5;28;01mif\u001b[39;00m \u001b[38;5;28misinstance\u001b[39m(do, DoAttempt):\n\u001b[0;32m    479\u001b[0m     \u001b[38;5;28;01mtry\u001b[39;00m:\n\u001b[1;32m--> 480\u001b[0m         result \u001b[38;5;241m=\u001b[39m fn(\u001b[38;5;241m*\u001b[39margs, \u001b[38;5;241m*\u001b[39m\u001b[38;5;241m*\u001b[39mkwargs)\n\u001b[0;32m    481\u001b[0m     \u001b[38;5;28;01mexcept\u001b[39;00m \u001b[38;5;167;01mBaseException\u001b[39;00m:  \u001b[38;5;66;03m# noqa: B902\u001b[39;00m\n\u001b[0;32m    482\u001b[0m         retry_state\u001b[38;5;241m.\u001b[39mset_exception(sys\u001b[38;5;241m.\u001b[39mexc_info())  \u001b[38;5;66;03m# type: ignore[arg-type]\u001b[39;00m\n",
      "File \u001b[1;32me:\\DocuBot\\venv\\lib\\site-packages\\langchain_google_genai\\chat_models.py:194\u001b[0m, in \u001b[0;36m_chat_with_retry.<locals>._chat_with_retry\u001b[1;34m(**kwargs)\u001b[0m\n\u001b[0;32m    190\u001b[0m     \u001b[38;5;28;01mraise\u001b[39;00m ChatGoogleGenerativeAIError(\n\u001b[0;32m    191\u001b[0m         \u001b[38;5;124mf\u001b[39m\u001b[38;5;124m\"\u001b[39m\u001b[38;5;124mInvalid argument provided to Gemini: \u001b[39m\u001b[38;5;132;01m{\u001b[39;00me\u001b[38;5;132;01m}\u001b[39;00m\u001b[38;5;124m\"\u001b[39m\n\u001b[0;32m    192\u001b[0m     ) \u001b[38;5;28;01mfrom\u001b[39;00m\u001b[38;5;250m \u001b[39m\u001b[38;5;21;01me\u001b[39;00m\n\u001b[0;32m    193\u001b[0m \u001b[38;5;28;01mexcept\u001b[39;00m \u001b[38;5;167;01mException\u001b[39;00m \u001b[38;5;28;01mas\u001b[39;00m e:\n\u001b[1;32m--> 194\u001b[0m     \u001b[38;5;28;01mraise\u001b[39;00m e\n",
      "File \u001b[1;32me:\\DocuBot\\venv\\lib\\site-packages\\langchain_google_genai\\chat_models.py:178\u001b[0m, in \u001b[0;36m_chat_with_retry.<locals>._chat_with_retry\u001b[1;34m(**kwargs)\u001b[0m\n\u001b[0;32m    175\u001b[0m \u001b[38;5;129m@retry_decorator\u001b[39m\n\u001b[0;32m    176\u001b[0m \u001b[38;5;28;01mdef\u001b[39;00m\u001b[38;5;250m \u001b[39m\u001b[38;5;21m_chat_with_retry\u001b[39m(\u001b[38;5;241m*\u001b[39m\u001b[38;5;241m*\u001b[39mkwargs: Any) \u001b[38;5;241m-\u001b[39m\u001b[38;5;241m>\u001b[39m Any:\n\u001b[0;32m    177\u001b[0m     \u001b[38;5;28;01mtry\u001b[39;00m:\n\u001b[1;32m--> 178\u001b[0m         \u001b[38;5;28;01mreturn\u001b[39;00m generation_method(\u001b[38;5;241m*\u001b[39m\u001b[38;5;241m*\u001b[39mkwargs)\n\u001b[0;32m    179\u001b[0m     \u001b[38;5;66;03m# Do not retry for these errors.\u001b[39;00m\n\u001b[0;32m    180\u001b[0m     \u001b[38;5;28;01mexcept\u001b[39;00m google\u001b[38;5;241m.\u001b[39mapi_core\u001b[38;5;241m.\u001b[39mexceptions\u001b[38;5;241m.\u001b[39mFailedPrecondition \u001b[38;5;28;01mas\u001b[39;00m exc:\n",
      "File \u001b[1;32me:\\DocuBot\\venv\\lib\\site-packages\\google\\ai\\generativelanguage_v1beta\\services\\generative_service\\client.py:1143\u001b[0m, in \u001b[0;36mGenerativeServiceClient.stream_generate_content\u001b[1;34m(self, request, model, contents, retry, timeout, metadata)\u001b[0m\n\u001b[0;32m   1140\u001b[0m \u001b[38;5;28mself\u001b[39m\u001b[38;5;241m.\u001b[39m_validate_universe_domain()\n\u001b[0;32m   1142\u001b[0m \u001b[38;5;66;03m# Send the request.\u001b[39;00m\n\u001b[1;32m-> 1143\u001b[0m response \u001b[38;5;241m=\u001b[39m \u001b[43mrpc\u001b[49m\u001b[43m(\u001b[49m\n\u001b[0;32m   1144\u001b[0m \u001b[43m    \u001b[49m\u001b[43mrequest\u001b[49m\u001b[43m,\u001b[49m\n\u001b[0;32m   1145\u001b[0m \u001b[43m    \u001b[49m\u001b[43mretry\u001b[49m\u001b[38;5;241;43m=\u001b[39;49m\u001b[43mretry\u001b[49m\u001b[43m,\u001b[49m\n\u001b[0;32m   1146\u001b[0m \u001b[43m    \u001b[49m\u001b[43mtimeout\u001b[49m\u001b[38;5;241;43m=\u001b[39;49m\u001b[43mtimeout\u001b[49m\u001b[43m,\u001b[49m\n\u001b[0;32m   1147\u001b[0m \u001b[43m    \u001b[49m\u001b[43mmetadata\u001b[49m\u001b[38;5;241;43m=\u001b[39;49m\u001b[43mmetadata\u001b[49m\u001b[43m,\u001b[49m\n\u001b[0;32m   1148\u001b[0m \u001b[43m\u001b[49m\u001b[43m)\u001b[49m\n\u001b[0;32m   1150\u001b[0m \u001b[38;5;66;03m# Done; return the response.\u001b[39;00m\n\u001b[0;32m   1151\u001b[0m \u001b[38;5;28;01mreturn\u001b[39;00m response\n",
      "File \u001b[1;32me:\\DocuBot\\venv\\lib\\site-packages\\google\\api_core\\gapic_v1\\method.py:131\u001b[0m, in \u001b[0;36m_GapicCallable.__call__\u001b[1;34m(self, timeout, retry, compression, *args, **kwargs)\u001b[0m\n\u001b[0;32m    128\u001b[0m \u001b[38;5;28;01mif\u001b[39;00m \u001b[38;5;28mself\u001b[39m\u001b[38;5;241m.\u001b[39m_compression \u001b[38;5;129;01mis\u001b[39;00m \u001b[38;5;129;01mnot\u001b[39;00m \u001b[38;5;28;01mNone\u001b[39;00m:\n\u001b[0;32m    129\u001b[0m     kwargs[\u001b[38;5;124m\"\u001b[39m\u001b[38;5;124mcompression\u001b[39m\u001b[38;5;124m\"\u001b[39m] \u001b[38;5;241m=\u001b[39m compression\n\u001b[1;32m--> 131\u001b[0m \u001b[38;5;28;01mreturn\u001b[39;00m wrapped_func(\u001b[38;5;241m*\u001b[39margs, \u001b[38;5;241m*\u001b[39m\u001b[38;5;241m*\u001b[39mkwargs)\n",
      "File \u001b[1;32me:\\DocuBot\\venv\\lib\\site-packages\\google\\api_core\\retry\\retry_unary.py:294\u001b[0m, in \u001b[0;36mRetry.__call__.<locals>.retry_wrapped_func\u001b[1;34m(*args, **kwargs)\u001b[0m\n\u001b[0;32m    290\u001b[0m target \u001b[38;5;241m=\u001b[39m functools\u001b[38;5;241m.\u001b[39mpartial(func, \u001b[38;5;241m*\u001b[39margs, \u001b[38;5;241m*\u001b[39m\u001b[38;5;241m*\u001b[39mkwargs)\n\u001b[0;32m    291\u001b[0m sleep_generator \u001b[38;5;241m=\u001b[39m exponential_sleep_generator(\n\u001b[0;32m    292\u001b[0m     \u001b[38;5;28mself\u001b[39m\u001b[38;5;241m.\u001b[39m_initial, \u001b[38;5;28mself\u001b[39m\u001b[38;5;241m.\u001b[39m_maximum, multiplier\u001b[38;5;241m=\u001b[39m\u001b[38;5;28mself\u001b[39m\u001b[38;5;241m.\u001b[39m_multiplier\n\u001b[0;32m    293\u001b[0m )\n\u001b[1;32m--> 294\u001b[0m \u001b[38;5;28;01mreturn\u001b[39;00m \u001b[43mretry_target\u001b[49m\u001b[43m(\u001b[49m\n\u001b[0;32m    295\u001b[0m \u001b[43m    \u001b[49m\u001b[43mtarget\u001b[49m\u001b[43m,\u001b[49m\n\u001b[0;32m    296\u001b[0m \u001b[43m    \u001b[49m\u001b[38;5;28;43mself\u001b[39;49m\u001b[38;5;241;43m.\u001b[39;49m\u001b[43m_predicate\u001b[49m\u001b[43m,\u001b[49m\n\u001b[0;32m    297\u001b[0m \u001b[43m    \u001b[49m\u001b[43msleep_generator\u001b[49m\u001b[43m,\u001b[49m\n\u001b[0;32m    298\u001b[0m \u001b[43m    \u001b[49m\u001b[43mtimeout\u001b[49m\u001b[38;5;241;43m=\u001b[39;49m\u001b[38;5;28;43mself\u001b[39;49m\u001b[38;5;241;43m.\u001b[39;49m\u001b[43m_timeout\u001b[49m\u001b[43m,\u001b[49m\n\u001b[0;32m    299\u001b[0m \u001b[43m    \u001b[49m\u001b[43mon_error\u001b[49m\u001b[38;5;241;43m=\u001b[39;49m\u001b[43mon_error\u001b[49m\u001b[43m,\u001b[49m\n\u001b[0;32m    300\u001b[0m \u001b[43m\u001b[49m\u001b[43m)\u001b[49m\n",
      "File \u001b[1;32me:\\DocuBot\\venv\\lib\\site-packages\\google\\api_core\\retry\\retry_unary.py:156\u001b[0m, in \u001b[0;36mretry_target\u001b[1;34m(target, predicate, sleep_generator, timeout, on_error, exception_factory, **kwargs)\u001b[0m\n\u001b[0;32m    152\u001b[0m \u001b[38;5;66;03m# pylint: disable=broad-except\u001b[39;00m\n\u001b[0;32m    153\u001b[0m \u001b[38;5;66;03m# This function explicitly must deal with broad exceptions.\u001b[39;00m\n\u001b[0;32m    154\u001b[0m \u001b[38;5;28;01mexcept\u001b[39;00m \u001b[38;5;167;01mException\u001b[39;00m \u001b[38;5;28;01mas\u001b[39;00m exc:\n\u001b[0;32m    155\u001b[0m     \u001b[38;5;66;03m# defer to shared logic for handling errors\u001b[39;00m\n\u001b[1;32m--> 156\u001b[0m     next_sleep \u001b[38;5;241m=\u001b[39m \u001b[43m_retry_error_helper\u001b[49m\u001b[43m(\u001b[49m\n\u001b[0;32m    157\u001b[0m \u001b[43m        \u001b[49m\u001b[43mexc\u001b[49m\u001b[43m,\u001b[49m\n\u001b[0;32m    158\u001b[0m \u001b[43m        \u001b[49m\u001b[43mdeadline\u001b[49m\u001b[43m,\u001b[49m\n\u001b[0;32m    159\u001b[0m \u001b[43m        \u001b[49m\u001b[43msleep_iter\u001b[49m\u001b[43m,\u001b[49m\n\u001b[0;32m    160\u001b[0m \u001b[43m        \u001b[49m\u001b[43merror_list\u001b[49m\u001b[43m,\u001b[49m\n\u001b[0;32m    161\u001b[0m \u001b[43m        \u001b[49m\u001b[43mpredicate\u001b[49m\u001b[43m,\u001b[49m\n\u001b[0;32m    162\u001b[0m \u001b[43m        \u001b[49m\u001b[43mon_error\u001b[49m\u001b[43m,\u001b[49m\n\u001b[0;32m    163\u001b[0m \u001b[43m        \u001b[49m\u001b[43mexception_factory\u001b[49m\u001b[43m,\u001b[49m\n\u001b[0;32m    164\u001b[0m \u001b[43m        \u001b[49m\u001b[43mtimeout\u001b[49m\u001b[43m,\u001b[49m\n\u001b[0;32m    165\u001b[0m \u001b[43m    \u001b[49m\u001b[43m)\u001b[49m\n\u001b[0;32m    166\u001b[0m     \u001b[38;5;66;03m# if exception not raised, sleep before next attempt\u001b[39;00m\n\u001b[0;32m    167\u001b[0m     time\u001b[38;5;241m.\u001b[39msleep(next_sleep)\n",
      "File \u001b[1;32me:\\DocuBot\\venv\\lib\\site-packages\\google\\api_core\\retry\\retry_base.py:214\u001b[0m, in \u001b[0;36m_retry_error_helper\u001b[1;34m(exc, deadline, sleep_iterator, error_list, predicate_fn, on_error_fn, exc_factory_fn, original_timeout)\u001b[0m\n\u001b[0;32m    208\u001b[0m \u001b[38;5;28;01mif\u001b[39;00m \u001b[38;5;129;01mnot\u001b[39;00m predicate_fn(exc):\n\u001b[0;32m    209\u001b[0m     final_exc, source_exc \u001b[38;5;241m=\u001b[39m exc_factory_fn(\n\u001b[0;32m    210\u001b[0m         error_list,\n\u001b[0;32m    211\u001b[0m         RetryFailureReason\u001b[38;5;241m.\u001b[39mNON_RETRYABLE_ERROR,\n\u001b[0;32m    212\u001b[0m         original_timeout,\n\u001b[0;32m    213\u001b[0m     )\n\u001b[1;32m--> 214\u001b[0m     \u001b[38;5;28;01mraise\u001b[39;00m final_exc \u001b[38;5;28;01mfrom\u001b[39;00m\u001b[38;5;250m \u001b[39m\u001b[38;5;21;01msource_exc\u001b[39;00m\n\u001b[0;32m    215\u001b[0m \u001b[38;5;28;01mif\u001b[39;00m on_error_fn \u001b[38;5;129;01mis\u001b[39;00m \u001b[38;5;129;01mnot\u001b[39;00m \u001b[38;5;28;01mNone\u001b[39;00m:\n\u001b[0;32m    216\u001b[0m     on_error_fn(exc)\n",
      "File \u001b[1;32me:\\DocuBot\\venv\\lib\\site-packages\\google\\api_core\\retry\\retry_unary.py:147\u001b[0m, in \u001b[0;36mretry_target\u001b[1;34m(target, predicate, sleep_generator, timeout, on_error, exception_factory, **kwargs)\u001b[0m\n\u001b[0;32m    145\u001b[0m \u001b[38;5;28;01mwhile\u001b[39;00m \u001b[38;5;28;01mTrue\u001b[39;00m:\n\u001b[0;32m    146\u001b[0m     \u001b[38;5;28;01mtry\u001b[39;00m:\n\u001b[1;32m--> 147\u001b[0m         result \u001b[38;5;241m=\u001b[39m \u001b[43mtarget\u001b[49m\u001b[43m(\u001b[49m\u001b[43m)\u001b[49m\n\u001b[0;32m    148\u001b[0m         \u001b[38;5;28;01mif\u001b[39;00m inspect\u001b[38;5;241m.\u001b[39misawaitable(result):\n\u001b[0;32m    149\u001b[0m             warnings\u001b[38;5;241m.\u001b[39mwarn(_ASYNC_RETRY_WARNING)\n",
      "File \u001b[1;32me:\\DocuBot\\venv\\lib\\site-packages\\google\\api_core\\timeout.py:130\u001b[0m, in \u001b[0;36mTimeToDeadlineTimeout.__call__.<locals>.func_with_timeout\u001b[1;34m(*args, **kwargs)\u001b[0m\n\u001b[0;32m    126\u001b[0m         remaining_timeout \u001b[38;5;241m=\u001b[39m \u001b[38;5;28mself\u001b[39m\u001b[38;5;241m.\u001b[39m_timeout\n\u001b[0;32m    128\u001b[0m     kwargs[\u001b[38;5;124m\"\u001b[39m\u001b[38;5;124mtimeout\u001b[39m\u001b[38;5;124m\"\u001b[39m] \u001b[38;5;241m=\u001b[39m remaining_timeout\n\u001b[1;32m--> 130\u001b[0m \u001b[38;5;28;01mreturn\u001b[39;00m func(\u001b[38;5;241m*\u001b[39margs, \u001b[38;5;241m*\u001b[39m\u001b[38;5;241m*\u001b[39mkwargs)\n",
      "File \u001b[1;32me:\\DocuBot\\venv\\lib\\site-packages\\google\\api_core\\grpc_helpers.py:174\u001b[0m, in \u001b[0;36m_wrap_stream_errors.<locals>.error_remapped_callable\u001b[1;34m(*args, **kwargs)\u001b[0m\n\u001b[0;32m    170\u001b[0m     \u001b[38;5;28;01mreturn\u001b[39;00m _StreamingResponseIterator(\n\u001b[0;32m    171\u001b[0m         result, prefetch_first_result\u001b[38;5;241m=\u001b[39mprefetch_first\n\u001b[0;32m    172\u001b[0m     )\n\u001b[0;32m    173\u001b[0m \u001b[38;5;28;01mexcept\u001b[39;00m grpc\u001b[38;5;241m.\u001b[39mRpcError \u001b[38;5;28;01mas\u001b[39;00m exc:\n\u001b[1;32m--> 174\u001b[0m     \u001b[38;5;28;01mraise\u001b[39;00m exceptions\u001b[38;5;241m.\u001b[39mfrom_grpc_error(exc) \u001b[38;5;28;01mfrom\u001b[39;00m\u001b[38;5;250m \u001b[39m\u001b[38;5;21;01mexc\u001b[39;00m\n",
      "\u001b[1;31mResourceExhausted\u001b[0m: 429 You exceeded your current quota, please check your plan and billing details. For more information on this error, head to: https://ai.google.dev/gemini-api/docs/rate-limits. [violations {\n  quota_metric: \"generativelanguage.googleapis.com/generate_content_free_tier_requests\"\n  quota_id: \"GenerateRequestsPerMinutePerProjectPerModel-FreeTier\"\n  quota_dimensions {\n    key: \"model\"\n    value: \"gemini-2.5-flash\"\n  }\n  quota_dimensions {\n    key: \"location\"\n    value: \"global\"\n  }\n  quota_value: 10\n}\n, links {\n  description: \"Learn more about Gemini API quotas\"\n  url: \"https://ai.google.dev/gemini-api/docs/rate-limits\"\n}\n, retry_delay {\n  seconds: 39\n}\n]"
     ]
    }
   ],
   "source": [
    "events = app.stream({\n",
    "    'query': 'can you check if general dentist available on 8 August 2024? if available show available doctors and time slots',\n",
    "    'id_number':10232303\n",
    "    },stream_mode=\"messages\")\n",
    "\n",
    "for msg_chunk,metadata in events:\n",
    "    print(msg_chunk.content)"
   ]
  },
  {
   "cell_type": "code",
   "execution_count": 1,
   "id": "c103a8c4",
   "metadata": {},
   "outputs": [
    {
     "name": "stdout",
     "output_type": "stream",
     "text": [
      "messages=[SystemMessage(content='You are a helpful cricket expert', additional_kwargs={}, response_metadata={}), HumanMessage(content='Explain in simple terms, what is dusra', additional_kwargs={}, response_metadata={})]\n"
     ]
    }
   ],
   "source": [
    "from langchain.prompts import ChatPromptTemplate\n",
    "\n",
    "chat_template=ChatPromptTemplate([\n",
    "    ('system', 'You are a helpful {domain} expert'),\n",
    "    ('user', 'Explain in simple terms, what is {topic}')\n",
    "])\n",
    "\n",
    "prompt=chat_template.invoke({\n",
    "    'domain':'cricket','topic':'dusra'\n",
    "})\n",
    "\n",
    "print(prompt)"
   ]
  },
  {
   "cell_type": "code",
   "execution_count": null,
   "id": "70c81c65",
   "metadata": {},
   "outputs": [],
   "source": []
  }
 ],
 "metadata": {
  "kernelspec": {
   "display_name": "venv",
   "language": "python",
   "name": "python3"
  },
  "language_info": {
   "codemirror_mode": {
    "name": "ipython",
    "version": 3
   },
   "file_extension": ".py",
   "mimetype": "text/x-python",
   "name": "python",
   "nbconvert_exporter": "python",
   "pygments_lexer": "ipython3",
   "version": "3.10.1"
  }
 },
 "nbformat": 4,
 "nbformat_minor": 5
}
